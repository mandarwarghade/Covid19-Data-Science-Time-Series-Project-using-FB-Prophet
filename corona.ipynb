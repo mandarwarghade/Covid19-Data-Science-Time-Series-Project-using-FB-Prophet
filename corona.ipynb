{
  "nbformat": 4,
  "nbformat_minor": 0,
  "metadata": {
    "colab": {
      "name": "Untitled21.ipynb",
      "provenance": []
    },
    "kernelspec": {
      "name": "python3",
      "display_name": "Python 3"
    },
    "language_info": {
      "name": "python"
    }
  },
  "cells": [
    {
      "cell_type": "code",
      "execution_count": 16,
      "metadata": {
        "colab": {
          "base_uri": "https://localhost:8080/",
          "height": 17
        },
        "id": "l-eLw75RfZs6",
        "outputId": "535be3b3-2fc0-4671-8cc2-3718f97e00f1"
      },
      "outputs": [
        {
          "output_type": "display_data",
          "data": {
            "text/html": [
              "        <script type=\"text/javascript\">\n",
              "        window.PlotlyConfig = {MathJaxConfig: 'local'};\n",
              "        if (window.MathJax) {MathJax.Hub.Config({SVG: {font: \"STIX-Web\"}});}\n",
              "        if (typeof require !== 'undefined') {\n",
              "        require.undef(\"plotly\");\n",
              "        requirejs.config({\n",
              "            paths: {\n",
              "                'plotly': ['https://cdn.plot.ly/plotly-2.8.3.min']\n",
              "            }\n",
              "        });\n",
              "        require(['plotly'], function(Plotly) {\n",
              "            window._Plotly = Plotly;\n",
              "        });\n",
              "        }\n",
              "        </script>\n",
              "        "
            ]
          },
          "metadata": {}
        },
        {
          "output_type": "display_data",
          "data": {
            "text/html": [
              "        <script type=\"text/javascript\">\n",
              "        window.PlotlyConfig = {MathJaxConfig: 'local'};\n",
              "        if (window.MathJax) {MathJax.Hub.Config({SVG: {font: \"STIX-Web\"}});}\n",
              "        if (typeof require !== 'undefined') {\n",
              "        require.undef(\"plotly\");\n",
              "        requirejs.config({\n",
              "            paths: {\n",
              "                'plotly': ['https://cdn.plot.ly/plotly-2.8.3.min']\n",
              "            }\n",
              "        });\n",
              "        require(['plotly'], function(Plotly) {\n",
              "            window._Plotly = Plotly;\n",
              "        });\n",
              "        }\n",
              "        </script>\n",
              "        "
            ]
          },
          "metadata": {}
        }
      ],
      "source": [
        "import pandas as pd\n",
        "import matplotlib.pyplot as plt\n",
        "%matplotlib inline \n",
        "import seaborn as sns\n",
        "import plotly.express as px\n",
        "import plotly.graph_objects as go\n",
        "import folium \n",
        "from folium import plugins\n",
        "import plotly.offline as pyo\n",
        "from plotly.offline import init_notebook_mode,plot,iplot\n",
        "import cufflinks as cf\n",
        "\n",
        "\n",
        "plt.rcParams['figure.figsize']=25,18\n",
        "import warnings\n",
        "warnings.filterwarnings('ignore')\n",
        "\n",
        "pyo.init_notebook_mode(connected=True)\n",
        "cf.go_offline()"
      ]
    },
    {
      "cell_type": "code",
      "source": [
        "df=pd.read_csv(\"covid_19_data.csv\")\n",
        "df.head()"
      ],
      "metadata": {
        "colab": {
          "base_uri": "https://localhost:8080/",
          "height": 206
        },
        "id": "we8SPBW0fuh3",
        "outputId": "944b1876-47dc-4cea-a6fb-be22c495adaf"
      },
      "execution_count": 17,
      "outputs": [
        {
          "output_type": "execute_result",
          "data": {
            "text/plain": [
              "   SNo ObservationDate Province/State  Country/Region      Last Update  \\\n",
              "0    1      01/22/2020          Anhui  Mainland China  1/22/2020 17:00   \n",
              "1    2      01/22/2020        Beijing  Mainland China  1/22/2020 17:00   \n",
              "2    3      01/22/2020      Chongqing  Mainland China  1/22/2020 17:00   \n",
              "3    4      01/22/2020         Fujian  Mainland China  1/22/2020 17:00   \n",
              "4    5      01/22/2020          Gansu  Mainland China  1/22/2020 17:00   \n",
              "\n",
              "   Confirmed  Deaths  Recovered  \n",
              "0        1.0     0.0        0.0  \n",
              "1       14.0     0.0        0.0  \n",
              "2        6.0     0.0        0.0  \n",
              "3        1.0     0.0        0.0  \n",
              "4        0.0     0.0        0.0  "
            ],
            "text/html": [
              "\n",
              "  <div id=\"df-de65b5e6-00cc-4c67-9830-03b203b31577\">\n",
              "    <div class=\"colab-df-container\">\n",
              "      <div>\n",
              "<style scoped>\n",
              "    .dataframe tbody tr th:only-of-type {\n",
              "        vertical-align: middle;\n",
              "    }\n",
              "\n",
              "    .dataframe tbody tr th {\n",
              "        vertical-align: top;\n",
              "    }\n",
              "\n",
              "    .dataframe thead th {\n",
              "        text-align: right;\n",
              "    }\n",
              "</style>\n",
              "<table border=\"1\" class=\"dataframe\">\n",
              "  <thead>\n",
              "    <tr style=\"text-align: right;\">\n",
              "      <th></th>\n",
              "      <th>SNo</th>\n",
              "      <th>ObservationDate</th>\n",
              "      <th>Province/State</th>\n",
              "      <th>Country/Region</th>\n",
              "      <th>Last Update</th>\n",
              "      <th>Confirmed</th>\n",
              "      <th>Deaths</th>\n",
              "      <th>Recovered</th>\n",
              "    </tr>\n",
              "  </thead>\n",
              "  <tbody>\n",
              "    <tr>\n",
              "      <th>0</th>\n",
              "      <td>1</td>\n",
              "      <td>01/22/2020</td>\n",
              "      <td>Anhui</td>\n",
              "      <td>Mainland China</td>\n",
              "      <td>1/22/2020 17:00</td>\n",
              "      <td>1.0</td>\n",
              "      <td>0.0</td>\n",
              "      <td>0.0</td>\n",
              "    </tr>\n",
              "    <tr>\n",
              "      <th>1</th>\n",
              "      <td>2</td>\n",
              "      <td>01/22/2020</td>\n",
              "      <td>Beijing</td>\n",
              "      <td>Mainland China</td>\n",
              "      <td>1/22/2020 17:00</td>\n",
              "      <td>14.0</td>\n",
              "      <td>0.0</td>\n",
              "      <td>0.0</td>\n",
              "    </tr>\n",
              "    <tr>\n",
              "      <th>2</th>\n",
              "      <td>3</td>\n",
              "      <td>01/22/2020</td>\n",
              "      <td>Chongqing</td>\n",
              "      <td>Mainland China</td>\n",
              "      <td>1/22/2020 17:00</td>\n",
              "      <td>6.0</td>\n",
              "      <td>0.0</td>\n",
              "      <td>0.0</td>\n",
              "    </tr>\n",
              "    <tr>\n",
              "      <th>3</th>\n",
              "      <td>4</td>\n",
              "      <td>01/22/2020</td>\n",
              "      <td>Fujian</td>\n",
              "      <td>Mainland China</td>\n",
              "      <td>1/22/2020 17:00</td>\n",
              "      <td>1.0</td>\n",
              "      <td>0.0</td>\n",
              "      <td>0.0</td>\n",
              "    </tr>\n",
              "    <tr>\n",
              "      <th>4</th>\n",
              "      <td>5</td>\n",
              "      <td>01/22/2020</td>\n",
              "      <td>Gansu</td>\n",
              "      <td>Mainland China</td>\n",
              "      <td>1/22/2020 17:00</td>\n",
              "      <td>0.0</td>\n",
              "      <td>0.0</td>\n",
              "      <td>0.0</td>\n",
              "    </tr>\n",
              "  </tbody>\n",
              "</table>\n",
              "</div>\n",
              "      <button class=\"colab-df-convert\" onclick=\"convertToInteractive('df-de65b5e6-00cc-4c67-9830-03b203b31577')\"\n",
              "              title=\"Convert this dataframe to an interactive table.\"\n",
              "              style=\"display:none;\">\n",
              "        \n",
              "  <svg xmlns=\"http://www.w3.org/2000/svg\" height=\"24px\"viewBox=\"0 0 24 24\"\n",
              "       width=\"24px\">\n",
              "    <path d=\"M0 0h24v24H0V0z\" fill=\"none\"/>\n",
              "    <path d=\"M18.56 5.44l.94 2.06.94-2.06 2.06-.94-2.06-.94-.94-2.06-.94 2.06-2.06.94zm-11 1L8.5 8.5l.94-2.06 2.06-.94-2.06-.94L8.5 2.5l-.94 2.06-2.06.94zm10 10l.94 2.06.94-2.06 2.06-.94-2.06-.94-.94-2.06-.94 2.06-2.06.94z\"/><path d=\"M17.41 7.96l-1.37-1.37c-.4-.4-.92-.59-1.43-.59-.52 0-1.04.2-1.43.59L10.3 9.45l-7.72 7.72c-.78.78-.78 2.05 0 2.83L4 21.41c.39.39.9.59 1.41.59.51 0 1.02-.2 1.41-.59l7.78-7.78 2.81-2.81c.8-.78.8-2.07 0-2.86zM5.41 20L4 18.59l7.72-7.72 1.47 1.35L5.41 20z\"/>\n",
              "  </svg>\n",
              "      </button>\n",
              "      \n",
              "  <style>\n",
              "    .colab-df-container {\n",
              "      display:flex;\n",
              "      flex-wrap:wrap;\n",
              "      gap: 12px;\n",
              "    }\n",
              "\n",
              "    .colab-df-convert {\n",
              "      background-color: #E8F0FE;\n",
              "      border: none;\n",
              "      border-radius: 50%;\n",
              "      cursor: pointer;\n",
              "      display: none;\n",
              "      fill: #1967D2;\n",
              "      height: 32px;\n",
              "      padding: 0 0 0 0;\n",
              "      width: 32px;\n",
              "    }\n",
              "\n",
              "    .colab-df-convert:hover {\n",
              "      background-color: #E2EBFA;\n",
              "      box-shadow: 0px 1px 2px rgba(60, 64, 67, 0.3), 0px 1px 3px 1px rgba(60, 64, 67, 0.15);\n",
              "      fill: #174EA6;\n",
              "    }\n",
              "\n",
              "    [theme=dark] .colab-df-convert {\n",
              "      background-color: #3B4455;\n",
              "      fill: #D2E3FC;\n",
              "    }\n",
              "\n",
              "    [theme=dark] .colab-df-convert:hover {\n",
              "      background-color: #434B5C;\n",
              "      box-shadow: 0px 1px 3px 1px rgba(0, 0, 0, 0.15);\n",
              "      filter: drop-shadow(0px 1px 2px rgba(0, 0, 0, 0.3));\n",
              "      fill: #FFFFFF;\n",
              "    }\n",
              "  </style>\n",
              "\n",
              "      <script>\n",
              "        const buttonEl =\n",
              "          document.querySelector('#df-de65b5e6-00cc-4c67-9830-03b203b31577 button.colab-df-convert');\n",
              "        buttonEl.style.display =\n",
              "          google.colab.kernel.accessAllowed ? 'block' : 'none';\n",
              "\n",
              "        async function convertToInteractive(key) {\n",
              "          const element = document.querySelector('#df-de65b5e6-00cc-4c67-9830-03b203b31577');\n",
              "          const dataTable =\n",
              "            await google.colab.kernel.invokeFunction('convertToInteractive',\n",
              "                                                     [key], {});\n",
              "          if (!dataTable) return;\n",
              "\n",
              "          const docLinkHtml = 'Like what you see? Visit the ' +\n",
              "            '<a target=\"_blank\" href=https://colab.research.google.com/notebooks/data_table.ipynb>data table notebook</a>'\n",
              "            + ' to learn more about interactive tables.';\n",
              "          element.innerHTML = '';\n",
              "          dataTable['output_type'] = 'display_data';\n",
              "          await google.colab.output.renderOutput(dataTable, element);\n",
              "          const docLink = document.createElement('div');\n",
              "          docLink.innerHTML = docLinkHtml;\n",
              "          element.appendChild(docLink);\n",
              "        }\n",
              "      </script>\n",
              "    </div>\n",
              "  </div>\n",
              "  "
            ]
          },
          "metadata": {},
          "execution_count": 17
        }
      ]
    },
    {
      "cell_type": "code",
      "source": [
        "df.shape"
      ],
      "metadata": {
        "colab": {
          "base_uri": "https://localhost:8080/"
        },
        "id": "bV-Y1VHAfwv9",
        "outputId": "1aa7d16c-6edd-4ee6-b2e6-a317acfd0e00"
      },
      "execution_count": 18,
      "outputs": [
        {
          "output_type": "execute_result",
          "data": {
            "text/plain": [
              "(202594, 8)"
            ]
          },
          "metadata": {},
          "execution_count": 18
        }
      ]
    },
    {
      "cell_type": "code",
      "source": [
        "df.rename(columns={'ObservationDate':'Date'},inplace=True)\n",
        "df.rename(columns={'Province/State':'State'},inplace=True)\n",
        "df.rename(columns={'Country/Region':'Country'},inplace=True)"
      ],
      "metadata": {
        "id": "872k_DwDf0U2"
      },
      "execution_count": 19,
      "outputs": []
    },
    {
      "cell_type": "code",
      "source": [
        "df.info()"
      ],
      "metadata": {
        "colab": {
          "base_uri": "https://localhost:8080/"
        },
        "id": "pkgWea25f13q",
        "outputId": "1d3b4f99-96c6-46f7-b3c5-401b6ca59b9c"
      },
      "execution_count": 20,
      "outputs": [
        {
          "output_type": "stream",
          "name": "stdout",
          "text": [
            "<class 'pandas.core.frame.DataFrame'>\n",
            "RangeIndex: 202594 entries, 0 to 202593\n",
            "Data columns (total 8 columns):\n",
            " #   Column       Non-Null Count   Dtype  \n",
            "---  ------       --------------   -----  \n",
            " 0   SNo          202594 non-null  int64  \n",
            " 1   Date         202594 non-null  object \n",
            " 2   State        147708 non-null  object \n",
            " 3   Country      202594 non-null  object \n",
            " 4   Last Update  202593 non-null  object \n",
            " 5   Confirmed    202593 non-null  float64\n",
            " 6   Deaths       202593 non-null  float64\n",
            " 7   Recovered    202593 non-null  float64\n",
            "dtypes: float64(3), int64(1), object(4)\n",
            "memory usage: 12.4+ MB\n"
          ]
        }
      ]
    },
    {
      "cell_type": "code",
      "source": [
        "confirmed=df.groupby('Date').sum()['Confirmed'].reset_index()\n",
        "death=df.groupby('Date').sum()['Deaths'].reset_index()\n",
        "recovered=df.groupby('Date').sum()['Recovered'].reset_index()\n"
      ],
      "metadata": {
        "id": "BRqXUbpXf3Up"
      },
      "execution_count": 21,
      "outputs": []
    },
    {
      "cell_type": "code",
      "source": [
        "sns.barplot(x=confirmed.Date,y=confirmed.Confirmed,data=confirmed)"
      ],
      "metadata": {
        "colab": {
          "base_uri": "https://localhost:8080/",
          "height": 822
        },
        "id": "yeKCR6eZf6ch",
        "outputId": "527b4dac-d200-4dcf-8b6a-20a42294a84c"
      },
      "execution_count": 22,
      "outputs": [
        {
          "output_type": "execute_result",
          "data": {
            "text/plain": [
              "<matplotlib.axes._subplots.AxesSubplot at 0x7f4f9ba00c90>"
            ]
          },
          "metadata": {},
          "execution_count": 22
        },
        {
          "output_type": "display_data",
          "data": {
            "text/plain": [
              "<Figure size 1800x1296 with 1 Axes>"
            ],
            "image/png": "[encoded data removed]"
          },
          "metadata": {
            "needs_background": "light"
          }
        }
      ]
    },
    {
      "cell_type": "code",
      "source": [
        "confirmed.iplot(kind='bar',x='Date',y='Confirmed')"
      ],
      "metadata": {
        "colab": {
          "base_uri": "https://localhost:8080/",
          "height": 542
        },
        "id": "ClMm2cqSf8jS",
        "outputId": "ac64292d-c27a-43b2-9ccf-8d0750461efc"
      },
      "execution_count": 23,
      "outputs": [
        {
          "output_type": "display_data",
          "data": {
            "application/vnd.plotly.v1+json": {
              "data": [
                {
                  "marker": {
                    "color": "rgba(255, 153, 51, 0.6)",
                    "line": {
                      "color": "rgba(255, 153, 51, 1.0)",
                      "width": 1
                    }
                  },
                  "name": "Confirmed",
                  "orientation": "v",
                  "text": "",
                  "x": [
                    "01/01/2021",
                    "01/02/2021",
                    "01/03/2021",
                    "01/04/2021",
                    "01/05/2021",
                    "01/06/2021",
                    "01/07/2021",
                    "01/08/2021",
                    "01/09/2021",
                    "01/10/2021",
                    "01/11/2021",
                    "01/12/2021",
                    "01/13/2021",
                    "01/14/2021",
                    "01/22/2020",
                    "01/23/2020",
                    "01/24/2020",
                    "01/25/2020",
                    "01/26/2020",
                    "01/27/2020",
                    "01/28/2020",
                    "01/29/2020",
                    "01/30/2020",
                    "01/31/2020",
                    "02/01/2020",
                    "02/02/2020",
                    "02/03/2020",
                    "02/04/2020",
                    "02/05/2020",
                    "02/06/2020",
                    "02/07/2020",
                    "02/08/2020",
                    "02/09/2020",
                    "02/10/2020",
                    "02/11/2020",
                    "02/12/2020",
                    "02/13/2020",
                    "02/14/2020",
                    "02/15/2020",
                    "02/16/2020",
                    "02/17/2020",
                    "02/18/2020",
                    "02/19/2020",
                    "02/20/2020",
                    "02/21/2020",
                    "02/22/2020",
                    "02/23/2020",
                    "02/24/2020",
                    "02/25/2020",
                    "02/26/2020",
                    "02/27/2020",
                    "02/28/2020",
                    "02/29/2020",
                    "03/01/2020",
                    "03/02/2020",
                    "03/03/2020",
                    "03/04/2020",
                    "03/05/2020",
                    "03/06/2020",
                    "03/07/2020",
                    "03/08/2020",
                    "03/09/2020",
                    "03/10/2020",
                    "03/11/2020",
                    "03/12/2020",
                    "03/13/2020",
                    "03/14/2020",
                    "03/15/2020",
                    "03/16/2020",
                    "03/17/2020",
                    "03/18/2020",
                    "03/19/2020",
                    "03/20/2020",
                    "03/21/2020",
                    "03/22/2020",
                    "03/23/2020",
                    "03/24/2020",
                    "03/25/2020",
                    "03/26/2020",
                    "03/27/2020",
                    "03/28/2020",
                    "03/29/2020",
                    "03/30/2020",
                    "03/31/2020",
                    "04/01/2020",
                    "04/02/2020",
                    "04/03/2020",
                    "04/04/2020",
                    "04/05/2020",
                    "04/06/2020",
                    "04/07/2020",
                    "04/08/2020",
                    "04/09/2020",
                    "04/10/2020",
                    "04/11/2020",
                    "04/12/2020",
                    "04/13/2020",
                    "04/14/2020",
                    "04/15/2020",
                    "04/16/2020",
                    "04/17/2020",
                    "04/18/2020",
                    "04/19/2020",
                    "04/20/2020",
                    "04/21/2020",
                    "04/22/2020",
                    "04/23/2020",
                    "04/24/2020",
                    "04/25/2020",
                    "04/26/2020",
                    "04/27/2020",
                    "04/28/2020",
                    "04/29/2020",
                    "04/30/2020",
                    "05/01/2020",
                    "05/02/2020",
                    "05/03/2020",
                    "05/04/2020",
                    "05/05/2020",
                    "05/06/2020",
                    "05/07/2020",
                    "05/08/2020",
                    "05/09/2020",
                    "05/10/2020",
                    "05/11/2020",
                    "05/12/2020",
                    "05/13/2020",
                    "05/14/2020",
                    "05/15/2020",
                    "05/16/2020",
                    "05/17/2020",
                    "05/18/2020",
                    "05/19/2020",
                    "05/20/2020",
                    "05/21/2020",
                    "05/22/2020",
                    "05/23/2020",
                    "05/24/2020",
                    "05/25/2020",
                    "05/26/2020",
                    "05/27/2020",
                    "05/28/2020",
                    "05/29/2020",
                    "05/30/2020",
                    "05/31/2020",
                    "06/01/2020",
                    "06/02/2020",
                    "06/03/2020",
                    "06/04/2020",
                    "06/05/2020",
                    "06/06/2020",
                    "06/07/2020",
                    "06/08/2020",
                    "06/09/2020",
                    "06/10/2020",
                    "06/11/2020",
                    "06/12/2020",
                    "06/13/2020",
                    "06/14/2020",
                    "06/15/2020",
                    "06/16/2020",
                    "06/17/2020",
                    "06/18/2020",
                    "06/19/2020",
                    "06/20/2020",
                    "06/21/2020",
                    "06/22/2020",
                    "06/23/2020",
                    "06/24/2020",
                    "06/25/2020",
                    "06/26/2020",
                    "06/27/2020",
                    "06/28/2020",
                    "06/29/2020",
                    "06/30/2020",
                    "07/01/2020",
                    "07/02/2020",
                    "07/03/2020",
                    "07/04/2020",
                    "07/05/2020",
                    "07/06/2020",
                    "07/07/2020",
                    "07/08/2020",
                    "07/09/2020",
                    "07/10/2020",
                    "07/11/2020",
                    "07/12/2020",
                    "07/13/2020",
                    "07/14/2020",
                    "07/15/2020",
                    "07/16/2020",
                    "07/17/2020",
                    "07/18/2020",
                    "07/19/2020",
                    "07/20/2020",
                    "07/21/2020",
                    "07/22/2020",
                    "07/23/2020",
                    "07/24/2020",
                    "07/25/2020",
                    "07/26/2020",
                    "07/27/2020",
                    "07/28/2020",
                    "07/29/2020",
                    "07/30/2020",
                    "07/31/2020",
                    "08/01/2020",
                    "08/02/2020",
                    "08/03/2020",
                    "08/04/2020",
                    "08/05/2020",
                    "08/06/2020",
                    "08/07/2020",
                    "08/08/2020",
                    "08/09/2020",
                    "08/10/2020",
                    "08/11/2020",
                    "08/12/2020",
                    "08/13/2020",
                    "08/14/2020",
                    "08/15/2020",
                    "08/16/2020",
                    "08/17/2020",
                    "08/18/2020",
                    "08/19/2020",
                    "08/20/2020",
                    "08/21/2020",
                    "08/22/2020",
                    "08/23/2020",
                    "08/24/2020",
                    "08/25/2020",
                    "08/26/2020",
                    "08/27/2020",
                    "08/28/2020",
                    "08/29/2020",
                    "08/30/2020",
                    "08/31/2020",
                    "09/01/2020",
                    "09/02/2020",
                    "09/03/2020",
                    "09/04/2020",
                    "09/05/2020",
                    "09/06/2020",
                    "09/07/2020",
                    "09/08/2020",
                    "09/09/2020",
                    "09/10/2020",
                    "09/11/2020",
                    "09/12/2020",
                    "09/13/2020",
                    "09/14/2020",
                    "09/15/2020",
                    "09/16/2020",
                    "09/17/2020",
                    "09/18/2020",
                    "09/19/2020",
                    "09/20/2020",
                    "09/21/2020",
                    "09/22/2020",
                    "09/23/2020",
                    "09/24/2020",
                    "09/25/2020",
                    "09/26/2020",
                    "09/27/2020",
                    "09/28/2020",
                    "09/29/2020",
                    "09/30/2020",
                    "10/01/2020",
                    "10/02/2020",
                    "10/03/2020",
                    "10/04/2020",
                    "10/05/2020",
                    "10/06/2020",
                    "10/07/2020",
                    "10/08/2020",
                    "10/09/2020",
                    "10/10/2020",
                    "10/11/2020",
                    "10/12/2020",
                    "10/13/2020",
                    "10/14/2020",
                    "10/15/2020",
                    "10/16/2020",
                    "10/17/2020",
                    "10/18/2020",
                    "10/19/2020",
                    "10/20/2020",
                    "10/21/2020",
                    "10/22/2020",
                    "10/23/2020",
                    "10/24/2020",
                    "10/25/2020",
                    "10/26/2020",
                    "10/27/2020",
                    "10/28/2020",
                    "10/29/2020",
                    "10/30/2020",
                    "10/31/2020",
                    "11/01/2020",
                    "11/02/2020",
                    "11/03/2020",
                    "11/04/2020",
                    "11/05/2020",
                    "11/06/2020",
                    "11/07/2020",
                    "11/08/2020",
                    "11/09/2020",
                    "11/10/2020",
                    "11/11/2020",
                    "11/12/2020",
                    "11/13/2020",
                    "11/14/2020",
                    "11/15/2020",
                    "11/16/2020",
                    "11/17/2020",
                    "11/18/2020",
                    "11/19/2020",
                    "11/20/2020",
                    "11/21/2020",
                    "11/22/2020",
                    "11/23/2020",
                    "11/24/2020",
                    "11/25/2020",
                    "11/26/2020",
                    "11/27/2020",
                    "11/28/2020",
                    "11/29/2020",
                    "11/30/2020",
                    "12/01/2020",
                    "12/02/2020",
                    "12/03/2020",
                    "12/04/2020",
                    "12/05/2020",
                    "12/06/2020",
                    "12/07/2020",
                    "12/08/2020",
                    "12/09/2020",
                    "12/10/2020",
                    "12/11/2020",
                    "12/12/2020",
                    "12/13/2020",
                    "12/14/2020",
                    "12/15/2020",
                    "12/16/2020",
                    "12/17/2020",
                    "12/18/2020",
                    "12/19/2020",
                    "12/20/2020",
                    "12/21/2020",
                    "12/22/2020",
                    "12/23/2020",
                    "12/24/2020",
                    "12/25/2020",
                    "12/26/2020",
                    "12/27/2020",
                    "12/28/2020",
                    "12/29/2020",
                    "12/30/2020",
                    "12/31/2020"
                  ],
                  "y": [
                    84092619,
                    84718978,
                    85251774,
                    85805892,
                    86546014,
                    87329386,
                    88210223,
                    89013445,
                    89774439,
                    90363573,
                    90983503,
                    91689011,
                    92437399,
                    30376553,
                    557,
                    1097,
                    941,
                    1437,
                    2118,
                    2927,
                    5578,
                    6165,
                    8235,
                    9925,
                    12038,
                    16787,
                    19881,
                    23892,
                    27636,
                    30818,
                    34392,
                    37121,
                    40151,
                    42763,
                    44803,
                    45222,
                    60370,
                    66887,
                    69033,
                    71226,
                    73260,
                    75138,
                    75641,
                    76199,
                    76843,
                    78599,
                    78985,
                    79570,
                    80415,
                    81397,
                    82756,
                    84125,
                    86012,
                    88368,
                    90311,
                    92856,
                    95127,
                    97936,
                    101763,
                    105832,
                    109820,
                    113776,
                    118587,
                    125850,
                    128329,
                    145182,
                    156084,
                    167408,
                    181571,
                    197205,
                    214983,
                    242674,
                    272268,
                    304672,
                    337867,
                    378498,
                    417891,
                    467535,
                    529674,
                    593447,
                    660731,
                    720010,
                    782363,
                    857474,
                    932440,
                    1013013,
                    1095766,
                    1175834,
                    1249488,
                    1321241,
                    1394928,
                    1480260,
                    1563699,
                    1657136,
                    1735165,
                    1834310,
                    1904365,
                    1975711,
                    2055594,
                    2152147,
                    2239794,
                    2321117,
                    2400898,
                    2471984,
                    2549043,
                    2627680,
                    2708317,
                    2811332,
                    2897486,
                    2971888,
                    3042301,
                    3117209,
                    3195906,
                    3259205,
                    3346774,
                    3429781,
                    3508944,
                    3585276,
                    3665092,
                    3758519,
                    3848863,
                    3940356,
                    4026681,
                    4104024,
                    4179421,
                    4264441,
                    4350086,
                    4444831,
                    4544937,
                    4636792,
                    4716827,
                    4805351,
                    4900625,
                    4999275,
                    5105342,
                    5213970,
                    5313395,
                    5410161,
                    5497548,
                    5592940,
                    5695057,
                    5812595,
                    5927820,
                    6062346,
                    6169766,
                    6268969,
                    6390325,
                    6509006,
                    6637319,
                    6774880,
                    6900788,
                    7014836,
                    7123277,
                    7247061,
                    7365859,
                    7519877,
                    7638497,
                    7772768,
                    7906373,
                    8039819,
                    8179618,
                    8357013,
                    8496717,
                    8676318,
                    8799976,
                    8963120,
                    9107590,
                    9274032,
                    9442922,
                    9622227,
                    9814145,
                    9991750,
                    10160658,
                    10315466,
                    10489608,
                    10706794,
                    10885781,
                    11089624,
                    11281974,
                    11465291,
                    11634446,
                    11844527,
                    12058289,
                    12283909,
                    12515405,
                    12733744,
                    12925903,
                    13119115,
                    13339689,
                    13571651,
                    13820041,
                    14070866,
                    14307836,
                    14521777,
                    14722655,
                    14962721,
                    15242408,
                    15525362,
                    15807351,
                    16060589,
                    16266501,
                    16501712,
                    16706155,
                    17046048,
                    17326649,
                    17617414,
                    17866501,
                    18097858,
                    18305542,
                    18563730,
                    18839600,
                    19124996,
                    19407519,
                    19666652,
                    19892349,
                    20118871,
                    20375855,
                    20662149,
                    20940553,
                    21242965,
                    21493772,
                    21708939,
                    21916638,
                    22174876,
                    22453657,
                    22726219,
                    22988091,
                    23241749,
                    23459139,
                    23685264,
                    23929054,
                    24211077,
                    24491826,
                    24776042,
                    25041204,
                    25262187,
                    25527194,
                    25792955,
                    26075563,
                    26349650,
                    26655577,
                    26926169,
                    27165300,
                    27378473,
                    27617704,
                    27911161,
                    28210282,
                    28531376,
                    28818571,
                    29061141,
                    29241377,
                    29610579,
                    29914541,
                    30229625,
                    30555734,
                    30848593,
                    31101756,
                    31377843,
                    31662742,
                    31937561,
                    32291026,
                    32626683,
                    32915836,
                    33170395,
                    33423047,
                    33706404,
                    34032061,
                    34344786,
                    34650526,
                    34968722,
                    35244414,
                    35541134,
                    35872414,
                    36222320,
                    36583808,
                    36944968,
                    37302325,
                    37589331,
                    37881427,
                    38200849,
                    38583083,
                    38990301,
                    39402174,
                    39774952,
                    40091746,
                    40479184,
                    40868407,
                    41312694,
                    41785529,
                    42291897,
                    42747081,
                    43146722,
                    43587908,
                    44059252,
                    44577854,
                    45116309,
                    45682765,
                    46169284,
                    46639333,
                    47144151,
                    47662335,
                    48261049,
                    48857709,
                    49502844,
                    50100163,
                    50584161,
                    51052047,
                    51616256,
                    52264862,
                    52914405,
                    53566478,
                    54161448,
                    54635389,
                    55169097,
                    55781066,
                    56408169,
                    57061754,
                    57730498,
                    58318062,
                    58806043,
                    59331362,
                    59921623,
                    60557847,
                    61140322,
                    61827470,
                    62413501,
                    62902084,
                    63410725,
                    64022822,
                    64674220,
                    65368720,
                    66051996,
                    66694027,
                    67232781,
                    67752800,
                    68396288,
                    69066199,
                    70564412,
                    71268909,
                    71903759,
                    72434597,
                    72959984,
                    73596190,
                    74329916,
                    75069498,
                    75789960,
                    76401213,
                    76934686,
                    77483983,
                    78134244,
                    78829366,
                    79496006,
                    79961556,
                    80474158,
                    80912611,
                    81408934,
                    82073362,
                    82834592,
                    83559601
                  ],
                  "type": "bar"
                }
              ],
              "layout": {
                "legend": {
                  "bgcolor": "#F5F6F9",
                  "font": {
                    "color": "#4D5663"
                  }
                },
                "paper_bgcolor": "#F5F6F9",
                "plot_bgcolor": "#F5F6F9",
                "template": {
                  "data": {
                    "barpolar": [
                      {
                        "marker": {
                          "line": {
                            "color": "#E5ECF6",
                            "width": 0.5
                          },
                          "pattern": {
                            "fillmode": "overlay",
                            "size": 10,
                            "solidity": 0.2
                          }
                        },
                        "type": "barpolar"
                      }
                    ],
                    "bar": [
                      {
                        "error_x": {
                          "color": "#2a3f5f"
                        },
                        "error_y": {
                          "color": "#2a3f5f"
                        },
                        "marker": {
                          "line": {
                            "color": "#E5ECF6",
                            "width": 0.5
                          },
                          "pattern": {
                            "fillmode": "overlay",
                            "size": 10,
                            "solidity": 0.2
                          }
                        },
                        "type": "bar"
                      }
                    ],
                    "carpet": [
                      {
                        "aaxis": {
                          "endlinecolor": "#2a3f5f",
                          "gridcolor": "white",
                          "linecolor": "white",
                          "minorgridcolor": "white",
                          "startlinecolor": "#2a3f5f"
                        },
                        "baxis": {
                          "endlinecolor": "#2a3f5f",
                          "gridcolor": "white",
                          "linecolor": "white",
                          "minorgridcolor": "white",
                          "startlinecolor": "#2a3f5f"
                        },
                        "type": "carpet"
                      }
                    ],
                    "choropleth": [
                      {
                        "colorbar": {
                          "outlinewidth": 0,
                          "ticks": ""
                        },
                        "type": "choropleth"
                      }
                    ],
                    "contourcarpet": [
                      {
                        "colorbar": {
                          "outlinewidth": 0,
                          "ticks": ""
                        },
                        "type": "contourcarpet"
                      }
                    ],
                    "contour": [
                      {
                        "colorbar": {
                          "outlinewidth": 0,
                          "ticks": ""
                        },
                        "colorscale": [
                          [
                            0,
                            "#0d0887"
                          ],
                          [
                            0.1111111111111111,
                            "#46039f"
                          ],
                          [
                            0.2222222222222222,
                            "#7201a8"
                          ],
                          [
                            0.3333333333333333,
                            "#9c179e"
                          ],
                          [
                            0.4444444444444444,
                            "#bd3786"
                          ],
                          [
                            0.5555555555555556,
                            "#d8576b"
                          ],
                          [
                            0.6666666666666666,
                            "#ed7953"
                          ],
                          [
                            0.7777777777777778,
                            "#fb9f3a"
                          ],
                          [
                            0.8888888888888888,
                            "#fdca26"
                          ],
                          [
                            1,
                            "#f0f921"
                          ]
                        ],
                        "type": "contour"
                      }
                    ],
                    "heatmapgl": [
                      {
                        "colorbar": {
                          "outlinewidth": 0,
                          "ticks": ""
                        },
                        "colorscale": [
                          [
                            0,
                            "#0d0887"
                          ],
                          [
                            0.1111111111111111,
                            "#46039f"
                          ],
                          [
                            0.2222222222222222,
                            "#7201a8"
                          ],
                          [
                            0.3333333333333333,
                            "#9c179e"
                          ],
                          [
                            0.4444444444444444,
                            "#bd3786"
                          ],
                          [
                            0.5555555555555556,
                            "#d8576b"
                          ],
                          [
                            0.6666666666666666,
                            "#ed7953"
                          ],
                          [
                            0.7777777777777778,
                            "#fb9f3a"
                          ],
                          [
                            0.8888888888888888,
                            "#fdca26"
                          ],
                          [
                            1,
                            "#f0f921"
                          ]
                        ],
                        "type": "heatmapgl"
                      }
                    ],
                    "heatmap": [
                      {
                        "colorbar": {
                          "outlinewidth": 0,
                          "ticks": ""
                        },
                        "colorscale": [
                          [
                            0,
                            "#0d0887"
                          ],
                          [
                            0.1111111111111111,
                            "#46039f"
                          ],
                          [
                            0.2222222222222222,
                            "#7201a8"
                          ],
                          [
                            0.3333333333333333,
                            "#9c179e"
                          ],
                          [
                            0.4444444444444444,
                            "#bd3786"
                          ],
                          [
                            0.5555555555555556,
                            "#d8576b"
                          ],
                          [
                            0.6666666666666666,
                            "#ed7953"
                          ],
                          [
                            0.7777777777777778,
                            "#fb9f3a"
                          ],
                          [
                            0.8888888888888888,
                            "#fdca26"
                          ],
                          [
                            1,
                            "#f0f921"
                          ]
                        ],
                        "type": "heatmap"
                      }
                    ],
                    "histogram2dcontour": [
                      {
                        "colorbar": {
                          "outlinewidth": 0,
                          "ticks": ""
                        },
                        "colorscale": [
                          [
                            0,
                            "#0d0887"
                          ],
                          [
                            0.1111111111111111,
                            "#46039f"
                          ],
                          [
                            0.2222222222222222,
                            "#7201a8"
                          ],
                          [
                            0.3333333333333333,
                            "#9c179e"
                          ],
                          [
                            0.4444444444444444,
                            "#bd3786"
                          ],
                          [
                            0.5555555555555556,
                            "#d8576b"
                          ],
                          [
                            0.6666666666666666,
                            "#ed7953"
                          ],
                          [
                            0.7777777777777778,
                            "#fb9f3a"
                          ],
                          [
                            0.8888888888888888,
                            "#fdca26"
                          ],
                          [
                            1,
                            "#f0f921"
                          ]
                        ],
                        "type": "histogram2dcontour"
                      }
                    ],
                    "histogram2d": [
                      {
                        "colorbar": {
                          "outlinewidth": 0,
                          "ticks": ""
                        },
                        "colorscale": [
                          [
                            0,
                            "#0d0887"
                          ],
                          [
                            0.1111111111111111,
                            "#46039f"
                          ],
                          [
                            0.2222222222222222,
                            "#7201a8"
                          ],
                          [
                            0.3333333333333333,
                            "#9c179e"
                          ],
                          [
                            0.4444444444444444,
                            "#bd3786"
                          ],
                          [
                            0.5555555555555556,
                            "#d8576b"
                          ],
                          [
                            0.6666666666666666,
                            "#ed7953"
                          ],
                          [
                            0.7777777777777778,
                            "#fb9f3a"
                          ],
                          [
                            0.8888888888888888,
                            "#fdca26"
                          ],
                          [
                            1,
                            "#f0f921"
                          ]
                        ],
                        "type": "histogram2d"
                      }
                    ],
                    "histogram": [
                      {
                        "marker": {
                          "pattern": {
                            "fillmode": "overlay",
                            "size": 10,
                            "solidity": 0.2
                          }
                        },
                        "type": "histogram"
                      }
                    ],
                    "mesh3d": [
                      {
                        "colorbar": {
                          "outlinewidth": 0,
                          "ticks": ""
                        },
                        "type": "mesh3d"
                      }
                    ],
                    "parcoords": [
                      {
                        "line": {
                          "colorbar": {
                            "outlinewidth": 0,
                            "ticks": ""
                          }
                        },
                        "type": "parcoords"
                      }
                    ],
                    "pie": [
                      {
                        "automargin": true,
                        "type": "pie"
                      }
                    ],
                    "scatter3d": [
                      {
                        "line": {
                          "colorbar": {
                            "outlinewidth": 0,
                            "ticks": ""
                          }
                        },
                        "marker": {
                          "colorbar": {
                            "outlinewidth": 0,
                            "ticks": ""
                          }
                        },
                        "type": "scatter3d"
                      }
                    ],
                    "scattercarpet": [
                      {
                        "marker": {
                          "colorbar": {
                            "outlinewidth": 0,
                            "ticks": ""
                          }
                        },
                        "type": "scattercarpet"
                      }
                    ],
                    "scattergeo": [
                      {
                        "marker": {
                          "colorbar": {
                            "outlinewidth": 0,
                            "ticks": ""
                          }
                        },
                        "type": "scattergeo"
                      }
                    ],
                    "scattergl": [
                      {
                        "marker": {
                          "colorbar": {
                            "outlinewidth": 0,
                            "ticks": ""
                          }
                        },
                        "type": "scattergl"
                      }
                    ],
                    "scattermapbox": [
                      {
                        "marker": {
                          "colorbar": {
                            "outlinewidth": 0,
                            "ticks": ""
                          }
                        },
                        "type": "scattermapbox"
                      }
                    ],
                    "scatterpolargl": [
                      {
                        "marker": {
                          "colorbar": {
                            "outlinewidth": 0,
                            "ticks": ""
                          }
                        },
                        "type": "scatterpolargl"
                      }
                    ],
                    "scatterpolar": [
                      {
                        "marker": {
                          "colorbar": {
                            "outlinewidth": 0,
                            "ticks": ""
                          }
                        },
                        "type": "scatterpolar"
                      }
                    ],
                    "scatter": [
                      {
                        "marker": {
                          "colorbar": {
                            "outlinewidth": 0,
                            "ticks": ""
                          }
                        },
                        "type": "scatter"
                      }
                    ],
                    "scatterternary": [
                      {
                        "marker": {
                          "colorbar": {
                            "outlinewidth": 0,
                            "ticks": ""
                          }
                        },
                        "type": "scatterternary"
                      }
                    ],
                    "surface": [
                      {
                        "colorbar": {
                          "outlinewidth": 0,
                          "ticks": ""
                        },
                        "colorscale": [
                          [
                            0,
                            "#0d0887"
                          ],
                          [
                            0.1111111111111111,
                            "#46039f"
                          ],
                          [
                            0.2222222222222222,
                            "#7201a8"
                          ],
                          [
                            0.3333333333333333,
                            "#9c179e"
                          ],
                          [
                            0.4444444444444444,
                            "#bd3786"
                          ],
                          [
                            0.5555555555555556,
                            "#d8576b"
                          ],
                          [
                            0.6666666666666666,
                            "#ed7953"
                          ],
                          [
                            0.7777777777777778,
                            "#fb9f3a"
                          ],
                          [
                            0.8888888888888888,
                            "#fdca26"
                          ],
                          [
                            1,
                            "#f0f921"
                          ]
                        ],
                        "type": "surface"
                      }
                    ],
                    "table": [
                      {
                        "cells": {
                          "fill": {
                            "color": "#EBF0F8"
                          },
                          "line": {
                            "color": "white"
                          }
                        },
                        "header": {
                          "fill": {
                            "color": "#C8D4E3"
                          },
                          "line": {
                            "color": "white"
                          }
                        },
                        "type": "table"
                      }
                    ]
                  },
                  "layout": {
                    "annotationdefaults": {
                      "arrowcolor": "#2a3f5f",
                      "arrowhead": 0,
                      "arrowwidth": 1
                    },
                    "autotypenumbers": "strict",
                    "coloraxis": {
                      "colorbar": {
                        "outlinewidth": 0,
                        "ticks": ""
                      }
                    },
                    "colorscale": {
                      "diverging": [
                        [
                          0,
                          "#8e0152"
                        ],
                        [
                          0.1,
                          "#c51b7d"
                        ],
                        [
                          0.2,
                          "#de77ae"
                        ],
                        [
                          0.3,
                          "#f1b6da"
                        ],
                        [
                          0.4,
                          "#fde0ef"
                        ],
                        [
                          0.5,
                          "#f7f7f7"
                        ],
                        [
                          0.6,
                          "#e6f5d0"
                        ],
                        [
                          0.7,
                          "#b8e186"
                        ],
                        [
                          0.8,
                          "#7fbc41"
                        ],
                        [
                          0.9,
                          "#4d9221"
                        ],
                        [
                          1,
                          "#276419"
                        ]
                      ],
                      "sequential": [
                        [
                          0,
                          "#0d0887"
                        ],
                        [
                          0.1111111111111111,
                          "#46039f"
                        ],
                        [
                          0.2222222222222222,
                          "#7201a8"
                        ],
                        [
                          0.3333333333333333,
                          "#9c179e"
                        ],
                        [
                          0.4444444444444444,
                          "#bd3786"
                        ],
                        [
                          0.5555555555555556,
                          "#d8576b"
                        ],
                        [
                          0.6666666666666666,
                          "#ed7953"
                        ],
                        [
                          0.7777777777777778,
                          "#fb9f3a"
                        ],
                        [
                          0.8888888888888888,
                          "#fdca26"
                        ],
                        [
                          1,
                          "#f0f921"
                        ]
                      ],
                      "sequentialminus": [
                        [
                          0,
                          "#0d0887"
                        ],
                        [
                          0.1111111111111111,
                          "#46039f"
                        ],
                        [
                          0.2222222222222222,
                          "#7201a8"
                        ],
                        [
                          0.3333333333333333,
                          "#9c179e"
                        ],
                        [
                          0.4444444444444444,
                          "#bd3786"
                        ],
                        [
                          0.5555555555555556,
                          "#d8576b"
                        ],
                        [
                          0.6666666666666666,
                          "#ed7953"
                        ],
                        [
                          0.7777777777777778,
                          "#fb9f3a"
                        ],
                        [
                          0.8888888888888888,
                          "#fdca26"
                        ],
                        [
                          1,
                          "#f0f921"
                        ]
                      ]
                    },
                    "colorway": [
                      "#636efa",
                      "#EF553B",
                      "#00cc96",
                      "#ab63fa",
                      "#FFA15A",
                      "#19d3f3",
                      "#FF6692",
                      "#B6E880",
                      "#FF97FF",
                      "#FECB52"
                    ],
                    "font": {
                      "color": "#2a3f5f"
                    },
                    "geo": {
                      "bgcolor": "white",
                      "lakecolor": "white",
                      "landcolor": "#E5ECF6",
                      "showlakes": true,
                      "showland": true,
                      "subunitcolor": "white"
                    },
                    "hoverlabel": {
                      "align": "left"
                    },
                    "hovermode": "closest",
                    "mapbox": {
                      "style": "light"
                    },
                    "paper_bgcolor": "white",
                    "plot_bgcolor": "#E5ECF6",
                    "polar": {
                      "angularaxis": {
                        "gridcolor": "white",
                        "linecolor": "white",
                        "ticks": ""
                      },
                      "bgcolor": "#E5ECF6",
                      "radialaxis": {
                        "gridcolor": "white",
                        "linecolor": "white",
                        "ticks": ""
                      }
                    },
                    "scene": {
                      "xaxis": {
                        "backgroundcolor": "#E5ECF6",
                        "gridcolor": "white",
                        "gridwidth": 2,
                        "linecolor": "white",
                        "showbackground": true,
                        "ticks": "",
                        "zerolinecolor": "white"
                      },
                      "yaxis": {
                        "backgroundcolor": "#E5ECF6",
                        "gridcolor": "white",
                        "gridwidth": 2,
                        "linecolor": "white",
                        "showbackground": true,
                        "ticks": "",
                        "zerolinecolor": "white"
                      },
                      "zaxis": {
                        "backgroundcolor": "#E5ECF6",
                        "gridcolor": "white",
                        "gridwidth": 2,
                        "linecolor": "white",
                        "showbackground": true,
                        "ticks": "",
                        "zerolinecolor": "white"
                      }
                    },
                    "shapedefaults": {
                      "line": {
                        "color": "#2a3f5f"
                      }
                    },
                    "ternary": {
                      "aaxis": {
                        "gridcolor": "white",
                        "linecolor": "white",
                        "ticks": ""
                      },
                      "baxis": {
                        "gridcolor": "white",
                        "linecolor": "white",
                        "ticks": ""
                      },
                      "bgcolor": "#E5ECF6",
                      "caxis": {
                        "gridcolor": "white",
                        "linecolor": "white",
                        "ticks": ""
                      }
                    },
                    "title": {
                      "x": 0.05
                    },
                    "xaxis": {
                      "automargin": true,
                      "gridcolor": "white",
                      "linecolor": "white",
                      "ticks": "",
                      "title": {
                        "standoff": 15
                      },
                      "zerolinecolor": "white",
                      "zerolinewidth": 2
                    },
                    "yaxis": {
                      "automargin": true,
                      "gridcolor": "white",
                      "linecolor": "white",
                      "ticks": "",
                      "title": {
                        "standoff": 15
                      },
                      "zerolinecolor": "white",
                      "zerolinewidth": 2
                    }
                  }
                },
                "title": {
                  "font": {
                    "color": "#4D5663"
                  }
                },
                "xaxis": {
                  "gridcolor": "#E1E5ED",
                  "showgrid": true,
                  "tickfont": {
                    "color": "#4D5663"
                  },
                  "title": {
                    "font": {
                      "color": "#4D5663"
                    },
                    "text": ""
                  },
                  "zerolinecolor": "#E1E5ED"
                },
                "yaxis": {
                  "gridcolor": "#E1E5ED",
                  "showgrid": true,
                  "tickfont": {
                    "color": "#4D5663"
                  },
                  "title": {
                    "font": {
                      "color": "#4D5663"
                    },
                    "text": ""
                  },
                  "zerolinecolor": "#E1E5ED"
                }
              },
              "config": {
                "showLink": true,
                "linkText": "Export to plot.ly",
                "plotlyServerURL": "https://plot.ly"
              }
            },
            "text/html": [
              "<div>                            <div id=\"08e73d1f-06cb-4a86-be94-7b8a7d172b37\" class=\"plotly-graph-div\" style=\"height:525px; width:100%;\"></div>            <script type=\"text/javascript\">                require([\"plotly\"], function(Plotly) {                    window.PLOTLYENV=window.PLOTLYENV || {};\n",
              "                    window.PLOTLYENV.BASE_URL='https://plot.ly';                                    if (document.getElementById(\"08e73d1f-06cb-4a86-be94-7b8a7d172b37\")) {                    Plotly.newPlot(                        \"08e73d1f-06cb-4a86-be94-7b8a7d172b37\",                        [{\"marker\":{\"color\":\"rgba(255, 153, 51, 0.6)\",\"line\":{\"color\":\"rgba(255, 153, 51, 1.0)\",\"width\":1}},\"name\":\"Confirmed\",\"orientation\":\"v\",\"text\":\"\",\"x\":[\"01/01/2021\",\"01/02/2021\",\"01/03/2021\",\"01/04/2021\",\"01/05/2021\",\"01/06/2021\",\"01/07/2021\",\"01/08/2021\",\"01/09/2021\",\"01/10/2021\",\"01/11/2021\",\"01/12/2021\",\"01/13/2021\",\"01/14/2021\",\"01/22/2020\",\"01/23/2020\",\"01/24/2020\",\"01/25/2020\",\"01/26/2020\",\"01/27/2020\",\"01/28/2020\",\"01/29/2020\",\"01/30/2020\",\"01/31/2020\",\"02/01/2020\",\"02/02/2020\",\"02/03/2020\",\"02/04/2020\",\"02/05/2020\",\"02/06/2020\",\"02/07/2020\",\"02/08/2020\",\"02/09/2020\",\"02/10/2020\",\"02/11/2020\",\"02/12/2020\",\"02/13/2020\",\"02/14/2020\",\"02/15/2020\",\"02/16/2020\",\"02/17/2020\",\"02/18/2020\",\"02/19/2020\",\"02/20/2020\",\"02/21/2020\",\"02/22/2020\",\"02/23/2020\",\"02/24/2020\",\"02/25/2020\",\"02/26/2020\",\"02/27/2020\",\"02/28/2020\",\"02/29/2020\",\"03/01/2020\",\"03/02/2020\",\"03/03/2020\",\"03/04/2020\",\"03/05/2020\",\"03/06/2020\",\"03/07/2020\",\"03/08/2020\",\"03/09/2020\",\"03/10/2020\",\"03/11/2020\",\"03/12/2020\",\"03/13/2020\",\"03/14/2020\",\"03/15/2020\",\"03/16/2020\",\"03/17/2020\",\"03/18/2020\",\"03/19/2020\",\"03/20/2020\",\"03/21/2020\",\"03/22/2020\",\"03/23/2020\",\"03/24/2020\",\"03/25/2020\",\"03/26/2020\",\"03/27/2020\",\"03/28/2020\",\"03/29/2020\",\"03/30/2020\",\"03/31/2020\",\"04/01/2020\",\"04/02/2020\",\"04/03/2020\",\"04/04/2020\",\"04/05/2020\",\"04/06/2020\",\"04/07/2020\",\"04/08/2020\",\"04/09/2020\",\"04/10/2020\",\"04/11/2020\",\"04/12/2020\",\"04/13/2020\",\"04/14/2020\",\"04/15/2020\",\"04/16/2020\",\"04/17/2020\",\"04/18/2020\",\"04/19/2020\",\"04/20/2020\",\"04/21/2020\",\"04/22/2020\",\"04/23/2020\",\"04/24/2020\",\"04/25/2020\",\"04/26/2020\",\"04/27/2020\",\"04/28/2020\",\"04/29/2020\",\"04/30/2020\",\"05/01/2020\",\"05/02/2020\",\"05/03/2020\",\"05/04/2020\",\"05/05/2020\",\"05/06/2020\",\"05/07/2020\",\"05/08/2020\",\"05/09/2020\",\"05/10/2020\",\"05/11/2020\",\"05/12/2020\",\"05/13/2020\",\"05/14/2020\",\"05/15/2020\",\"05/16/2020\",\"05/17/2020\",\"05/18/2020\",\"05/19/2020\",\"05/20/2020\",\"05/21/2020\",\"05/22/2020\",\"05/23/2020\",\"05/24/2020\",\"05/25/2020\",\"05/26/2020\",\"05/27/2020\",\"05/28/2020\",\"05/29/2020\",\"05/30/2020\",\"05/31/2020\",\"06/01/2020\",\"06/02/2020\",\"06/03/2020\",\"06/04/2020\",\"06/05/2020\",\"06/06/2020\",\"06/07/2020\",\"06/08/2020\",\"06/09/2020\",\"06/10/2020\",\"06/11/2020\",\"06/12/2020\",\"06/13/2020\",\"06/14/2020\",\"06/15/2020\",\"06/16/2020\",\"06/17/2020\",\"06/18/2020\",\"06/19/2020\",\"06/20/2020\",\"06/21/2020\",\"06/22/2020\",\"06/23/2020\",\"06/24/2020\",\"06/25/2020\",\"06/26/2020\",\"06/27/2020\",\"06/28/2020\",\"06/29/2020\",\"06/30/2020\",\"07/01/2020\",\"07/02/2020\",\"07/03/2020\",\"07/04/2020\",\"07/05/2020\",\"07/06/2020\",\"07/07/2020\",\"07/08/2020\",\"07/09/2020\",\"07/10/2020\",\"07/11/2020\",\"07/12/2020\",\"07/13/2020\",\"07/14/2020\",\"07/15/2020\",\"07/16/2020\",\"07/17/2020\",\"07/18/2020\",\"07/19/2020\",\"07/20/2020\",\"07/21/2020\",\"07/22/2020\",\"07/23/2020\",\"07/24/2020\",\"07/25/2020\",\"07/26/2020\",\"07/27/2020\",\"07/28/2020\",\"07/29/2020\",\"07/30/2020\",\"07/31/2020\",\"08/01/2020\",\"08/02/2020\",\"08/03/2020\",\"08/04/2020\",\"08/05/2020\",\"08/06/2020\",\"08/07/2020\",\"08/08/2020\",\"08/09/2020\",\"08/10/2020\",\"08/11/2020\",\"08/12/2020\",\"08/13/2020\",\"08/14/2020\",\"08/15/2020\",\"08/16/2020\",\"08/17/2020\",\"08/18/2020\",\"08/19/2020\",\"08/20/2020\",\"08/21/2020\",\"08/22/2020\",\"08/23/2020\",\"08/24/2020\",\"08/25/2020\",\"08/26/2020\",\"08/27/2020\",\"08/28/2020\",\"08/29/2020\",\"08/30/2020\",\"08/31/2020\",\"09/01/2020\",\"09/02/2020\",\"09/03/2020\",\"09/04/2020\",\"09/05/2020\",\"09/06/2020\",\"09/07/2020\",\"09/08/2020\",\"09/09/2020\",\"09/10/2020\",\"09/11/2020\",\"09/12/2020\",\"09/13/2020\",\"09/14/2020\",\"09/15/2020\",\"09/16/2020\",\"09/17/2020\",\"09/18/2020\",\"09/19/2020\",\"09/20/2020\",\"09/21/2020\",\"09/22/2020\",\"09/23/2020\",\"09/24/2020\",\"09/25/2020\",\"09/26/2020\",\"09/27/2020\",\"09/28/2020\",\"09/29/2020\",\"09/30/2020\",\"10/01/2020\",\"10/02/2020\",\"10/03/2020\",\"10/04/2020\",\"10/05/2020\",\"10/06/2020\",\"10/07/2020\",\"10/08/2020\",\"10/09/2020\",\"10/10/2020\",\"10/11/2020\",\"10/12/2020\",\"10/13/2020\",\"10/14/2020\",\"10/15/2020\",\"10/16/2020\",\"10/17/2020\",\"10/18/2020\",\"10/19/2020\",\"10/20/2020\",\"10/21/2020\",\"10/22/2020\",\"10/23/2020\",\"10/24/2020\",\"10/25/2020\",\"10/26/2020\",\"10/27/2020\",\"10/28/2020\",\"10/29/2020\",\"10/30/2020\",\"10/31/2020\",\"11/01/2020\",\"11/02/2020\",\"11/03/2020\",\"11/04/2020\",\"11/05/2020\",\"11/06/2020\",\"11/07/2020\",\"11/08/2020\",\"11/09/2020\",\"11/10/2020\",\"11/11/2020\",\"11/12/2020\",\"11/13/2020\",\"11/14/2020\",\"11/15/2020\",\"11/16/2020\",\"11/17/2020\",\"11/18/2020\",\"11/19/2020\",\"11/20/2020\",\"11/21/2020\",\"11/22/2020\",\"11/23/2020\",\"11/24/2020\",\"11/25/2020\",\"11/26/2020\",\"11/27/2020\",\"11/28/2020\",\"11/29/2020\",\"11/30/2020\",\"12/01/2020\",\"12/02/2020\",\"12/03/2020\",\"12/04/2020\",\"12/05/2020\",\"12/06/2020\",\"12/07/2020\",\"12/08/2020\",\"12/09/2020\",\"12/10/2020\",\"12/11/2020\",\"12/12/2020\",\"12/13/2020\",\"12/14/2020\",\"12/15/2020\",\"12/16/2020\",\"12/17/2020\",\"12/18/2020\",\"12/19/2020\",\"12/20/2020\",\"12/21/2020\",\"12/22/2020\",\"12/23/2020\",\"12/24/2020\",\"12/25/2020\",\"12/26/2020\",\"12/27/2020\",\"12/28/2020\",\"12/29/2020\",\"12/30/2020\",\"12/31/2020\"],\"y\":[84092619.0,84718978.0,85251774.0,85805892.0,86546014.0,87329386.0,88210223.0,89013445.0,89774439.0,90363573.0,90983503.0,91689011.0,92437399.0,30376553.0,557.0,1097.0,941.0,1437.0,2118.0,2927.0,5578.0,6165.0,8235.0,9925.0,12038.0,16787.0,19881.0,23892.0,27636.0,30818.0,34392.0,37121.0,40151.0,42763.0,44803.0,45222.0,60370.0,66887.0,69033.0,71226.0,73260.0,75138.0,75641.0,76199.0,76843.0,78599.0,78985.0,79570.0,80415.0,81397.0,82756.0,84125.0,86012.0,88368.0,90311.0,92856.0,95127.0,97936.0,101763.0,105832.0,109820.0,113776.0,118587.0,125850.0,128329.0,145182.0,156084.0,167408.0,181571.0,197205.0,214983.0,242674.0,272268.0,304672.0,337867.0,378498.0,417891.0,467535.0,529674.0,593447.0,660731.0,720010.0,782363.0,857474.0,932440.0,1013013.0,1095766.0,1175834.0,1249488.0,1321241.0,1394928.0,1480260.0,1563699.0,1657136.0,1735165.0,1834310.0,1904365.0,1975711.0,2055594.0,2152147.0,2239794.0,2321117.0,2400898.0,2471984.0,2549043.0,2627680.0,2708317.0,2811332.0,2897486.0,2971888.0,3042301.0,3117209.0,3195906.0,3259205.0,3346774.0,3429781.0,3508944.0,3585276.0,3665092.0,3758519.0,3848863.0,3940356.0,4026681.0,4104024.0,4179421.0,4264441.0,4350086.0,4444831.0,4544937.0,4636792.0,4716827.0,4805351.0,4900625.0,4999275.0,5105342.0,5213970.0,5313395.0,5410161.0,5497548.0,5592940.0,5695057.0,5812595.0,5927820.0,6062346.0,6169766.0,6268969.0,6390325.0,6509006.0,6637319.0,6774880.0,6900788.0,7014836.0,7123277.0,7247061.0,7365859.0,7519877.0,7638497.0,7772768.0,7906373.0,8039819.0,8179618.0,8357013.0,8496717.0,8676318.0,8799976.0,8963120.0,9107590.0,9274032.0,9442922.0,9622227.0,9814145.0,9991750.0,10160658.0,10315466.0,10489608.0,10706794.0,10885781.0,11089624.0,11281974.0,11465291.0,11634446.0,11844527.0,12058289.0,12283909.0,12515405.0,12733744.0,12925903.0,13119115.0,13339689.0,13571651.0,13820041.0,14070866.0,14307836.0,14521777.0,14722655.0,14962721.0,15242408.0,15525362.0,15807351.0,16060589.0,16266501.0,16501712.0,16706155.0,17046048.0,17326649.0,17617414.0,17866501.0,18097858.0,18305542.0,18563730.0,18839600.0,19124996.0,19407519.0,19666652.0,19892349.0,20118871.0,20375855.0,20662149.0,20940553.0,21242965.0,21493772.0,21708939.0,21916638.0,22174876.0,22453657.0,22726219.0,22988091.0,23241749.0,23459139.0,23685264.0,23929054.0,24211077.0,24491826.0,24776042.0,25041204.0,25262187.0,25527194.0,25792955.0,26075563.0,26349650.0,26655577.0,26926169.0,27165300.0,27378473.0,27617704.0,27911161.0,28210282.0,28531376.0,28818571.0,29061141.0,29241377.0,29610579.0,29914541.0,30229625.0,30555734.0,30848593.0,31101756.0,31377843.0,31662742.0,31937561.0,32291026.0,32626683.0,32915836.0,33170395.0,33423047.0,33706404.0,34032061.0,34344786.0,34650526.0,34968722.0,35244414.0,35541134.0,35872414.0,36222320.0,36583808.0,36944968.0,37302325.0,37589331.0,37881427.0,38200849.0,38583083.0,38990301.0,39402174.0,39774952.0,40091746.0,40479184.0,40868407.0,41312694.0,41785529.0,42291897.0,42747081.0,43146722.0,43587908.0,44059252.0,44577854.0,45116309.0,45682765.0,46169284.0,46639333.0,47144151.0,47662335.0,48261049.0,48857709.0,49502844.0,50100163.0,50584161.0,51052047.0,51616256.0,52264862.0,52914405.0,53566478.0,54161448.0,54635389.0,55169097.0,55781066.0,56408169.0,57061754.0,57730498.0,58318062.0,58806043.0,59331362.0,59921623.0,60557847.0,61140322.0,61827470.0,62413501.0,62902084.0,63410725.0,64022822.0,64674220.0,65368720.0,66051996.0,66694027.0,67232781.0,67752800.0,68396288.0,69066199.0,70564412.0,71268909.0,71903759.0,72434597.0,72959984.0,73596190.0,74329916.0,75069498.0,75789960.0,76401213.0,76934686.0,77483983.0,78134244.0,78829366.0,79496006.0,79961556.0,80474158.0,80912611.0,81408934.0,82073362.0,82834592.0,83559601.0],\"type\":\"bar\"}],                        {\"legend\":{\"bgcolor\":\"#F5F6F9\",\"font\":{\"color\":\"#4D5663\"}},\"paper_bgcolor\":\"#F5F6F9\",\"plot_bgcolor\":\"#F5F6F9\",\"template\":{\"data\":{\"barpolar\":[{\"marker\":{\"line\":{\"color\":\"#E5ECF6\",\"width\":0.5},\"pattern\":{\"fillmode\":\"overlay\",\"size\":10,\"solidity\":0.2}},\"type\":\"barpolar\"}],\"bar\":[{\"error_x\":{\"color\":\"#2a3f5f\"},\"error_y\":{\"color\":\"#2a3f5f\"},\"marker\":{\"line\":{\"color\":\"#E5ECF6\",\"width\":0.5},\"pattern\":{\"fillmode\":\"overlay\",\"size\":10,\"solidity\":0.2}},\"type\":\"bar\"}],\"carpet\":[{\"aaxis\":{\"endlinecolor\":\"#2a3f5f\",\"gridcolor\":\"white\",\"linecolor\":\"white\",\"minorgridcolor\":\"white\",\"startlinecolor\":\"#2a3f5f\"},\"baxis\":{\"endlinecolor\":\"#2a3f5f\",\"gridcolor\":\"white\",\"linecolor\":\"white\",\"minorgridcolor\":\"white\",\"startlinecolor\":\"#2a3f5f\"},\"type\":\"carpet\"}],\"choropleth\":[{\"colorbar\":{\"outlinewidth\":0,\"ticks\":\"\"},\"type\":\"choropleth\"}],\"contourcarpet\":[{\"colorbar\":{\"outlinewidth\":0,\"ticks\":\"\"},\"type\":\"contourcarpet\"}],\"contour\":[{\"colorbar\":{\"outlinewidth\":0,\"ticks\":\"\"},\"colorscale\":[[0.0,\"#0d0887\"],[0.1111111111111111,\"#46039f\"],[0.2222222222222222,\"#7201a8\"],[0.3333333333333333,\"#9c179e\"],[0.4444444444444444,\"#bd3786\"],[0.5555555555555556,\"#d8576b\"],[0.6666666666666666,\"#ed7953\"],[0.7777777777777778,\"#fb9f3a\"],[0.8888888888888888,\"#fdca26\"],[1.0,\"#f0f921\"]],\"type\":\"contour\"}],\"heatmapgl\":[{\"colorbar\":{\"outlinewidth\":0,\"ticks\":\"\"},\"colorscale\":[[0.0,\"#0d0887\"],[0.1111111111111111,\"#46039f\"],[0.2222222222222222,\"#7201a8\"],[0.3333333333333333,\"#9c179e\"],[0.4444444444444444,\"#bd3786\"],[0.5555555555555556,\"#d8576b\"],[0.6666666666666666,\"#ed7953\"],[0.7777777777777778,\"#fb9f3a\"],[0.8888888888888888,\"#fdca26\"],[1.0,\"#f0f921\"]],\"type\":\"heatmapgl\"}],\"heatmap\":[{\"colorbar\":{\"outlinewidth\":0,\"ticks\":\"\"},\"colorscale\":[[0.0,\"#0d0887\"],[0.1111111111111111,\"#46039f\"],[0.2222222222222222,\"#7201a8\"],[0.3333333333333333,\"#9c179e\"],[0.4444444444444444,\"#bd3786\"],[0.5555555555555556,\"#d8576b\"],[0.6666666666666666,\"#ed7953\"],[0.7777777777777778,\"#fb9f3a\"],[0.8888888888888888,\"#fdca26\"],[1.0,\"#f0f921\"]],\"type\":\"heatmap\"}],\"histogram2dcontour\":[{\"colorbar\":{\"outlinewidth\":0,\"ticks\":\"\"},\"colorscale\":[[0.0,\"#0d0887\"],[0.1111111111111111,\"#46039f\"],[0.2222222222222222,\"#7201a8\"],[0.3333333333333333,\"#9c179e\"],[0.4444444444444444,\"#bd3786\"],[0.5555555555555556,\"#d8576b\"],[0.6666666666666666,\"#ed7953\"],[0.7777777777777778,\"#fb9f3a\"],[0.8888888888888888,\"#fdca26\"],[1.0,\"#f0f921\"]],\"type\":\"histogram2dcontour\"}],\"histogram2d\":[{\"colorbar\":{\"outlinewidth\":0,\"ticks\":\"\"},\"colorscale\":[[0.0,\"#0d0887\"],[0.1111111111111111,\"#46039f\"],[0.2222222222222222,\"#7201a8\"],[0.3333333333333333,\"#9c179e\"],[0.4444444444444444,\"#bd3786\"],[0.5555555555555556,\"#d8576b\"],[0.6666666666666666,\"#ed7953\"],[0.7777777777777778,\"#fb9f3a\"],[0.8888888888888888,\"#fdca26\"],[1.0,\"#f0f921\"]],\"type\":\"histogram2d\"}],\"histogram\":[{\"marker\":{\"pattern\":{\"fillmode\":\"overlay\",\"size\":10,\"solidity\":0.2}},\"type\":\"histogram\"}],\"mesh3d\":[{\"colorbar\":{\"outlinewidth\":0,\"ticks\":\"\"},\"type\":\"mesh3d\"}],\"parcoords\":[{\"line\":{\"colorbar\":{\"outlinewidth\":0,\"ticks\":\"\"}},\"type\":\"parcoords\"}],\"pie\":[{\"automargin\":true,\"type\":\"pie\"}],\"scatter3d\":[{\"line\":{\"colorbar\":{\"outlinewidth\":0,\"ticks\":\"\"}},\"marker\":{\"colorbar\":{\"outlinewidth\":0,\"ticks\":\"\"}},\"type\":\"scatter3d\"}],\"scattercarpet\":[{\"marker\":{\"colorbar\":{\"outlinewidth\":0,\"ticks\":\"\"}},\"type\":\"scattercarpet\"}],\"scattergeo\":[{\"marker\":{\"colorbar\":{\"outlinewidth\":0,\"ticks\":\"\"}},\"type\":\"scattergeo\"}],\"scattergl\":[{\"marker\":{\"colorbar\":{\"outlinewidth\":0,\"ticks\":\"\"}},\"type\":\"scattergl\"}],\"scattermapbox\":[{\"marker\":{\"colorbar\":{\"outlinewidth\":0,\"ticks\":\"\"}},\"type\":\"scattermapbox\"}],\"scatterpolargl\":[{\"marker\":{\"colorbar\":{\"outlinewidth\":0,\"ticks\":\"\"}},\"type\":\"scatterpolargl\"}],\"scatterpolar\":[{\"marker\":{\"colorbar\":{\"outlinewidth\":0,\"ticks\":\"\"}},\"type\":\"scatterpolar\"}],\"scatter\":[{\"marker\":{\"colorbar\":{\"outlinewidth\":0,\"ticks\":\"\"}},\"type\":\"scatter\"}],\"scatterternary\":[{\"marker\":{\"colorbar\":{\"outlinewidth\":0,\"ticks\":\"\"}},\"type\":\"scatterternary\"}],\"surface\":[{\"colorbar\":{\"outlinewidth\":0,\"ticks\":\"\"},\"colorscale\":[[0.0,\"#0d0887\"],[0.1111111111111111,\"#46039f\"],[0.2222222222222222,\"#7201a8\"],[0.3333333333333333,\"#9c179e\"],[0.4444444444444444,\"#bd3786\"],[0.5555555555555556,\"#d8576b\"],[0.6666666666666666,\"#ed7953\"],[0.7777777777777778,\"#fb9f3a\"],[0.8888888888888888,\"#fdca26\"],[1.0,\"#f0f921\"]],\"type\":\"surface\"}],\"table\":[{\"cells\":{\"fill\":{\"color\":\"#EBF0F8\"},\"line\":{\"color\":\"white\"}},\"header\":{\"fill\":{\"color\":\"#C8D4E3\"},\"line\":{\"color\":\"white\"}},\"type\":\"table\"}]},\"layout\":{\"annotationdefaults\":{\"arrowcolor\":\"#2a3f5f\",\"arrowhead\":0,\"arrowwidth\":1},\"autotypenumbers\":\"strict\",\"coloraxis\":{\"colorbar\":{\"outlinewidth\":0,\"ticks\":\"\"}},\"colorscale\":{\"diverging\":[[0,\"#8e0152\"],[0.1,\"#c51b7d\"],[0.2,\"#de77ae\"],[0.3,\"#f1b6da\"],[0.4,\"#fde0ef\"],[0.5,\"#f7f7f7\"],[0.6,\"#e6f5d0\"],[0.7,\"#b8e186\"],[0.8,\"#7fbc41\"],[0.9,\"#4d9221\"],[1,\"#276419\"]],\"sequential\":[[0.0,\"#0d0887\"],[0.1111111111111111,\"#46039f\"],[0.2222222222222222,\"#7201a8\"],[0.3333333333333333,\"#9c179e\"],[0.4444444444444444,\"#bd3786\"],[0.5555555555555556,\"#d8576b\"],[0.6666666666666666,\"#ed7953\"],[0.7777777777777778,\"#fb9f3a\"],[0.8888888888888888,\"#fdca26\"],[1.0,\"#f0f921\"]],\"sequentialminus\":[[0.0,\"#0d0887\"],[0.1111111111111111,\"#46039f\"],[0.2222222222222222,\"#7201a8\"],[0.3333333333333333,\"#9c179e\"],[0.4444444444444444,\"#bd3786\"],[0.5555555555555556,\"#d8576b\"],[0.6666666666666666,\"#ed7953\"],[0.7777777777777778,\"#fb9f3a\"],[0.8888888888888888,\"#fdca26\"],[1.0,\"#f0f921\"]]},\"colorway\":[\"#636efa\",\"#EF553B\",\"#00cc96\",\"#ab63fa\",\"#FFA15A\",\"#19d3f3\",\"#FF6692\",\"#B6E880\",\"#FF97FF\",\"#FECB52\"],\"font\":{\"color\":\"#2a3f5f\"},\"geo\":{\"bgcolor\":\"white\",\"lakecolor\":\"white\",\"landcolor\":\"#E5ECF6\",\"showlakes\":true,\"showland\":true,\"subunitcolor\":\"white\"},\"hoverlabel\":{\"align\":\"left\"},\"hovermode\":\"closest\",\"mapbox\":{\"style\":\"light\"},\"paper_bgcolor\":\"white\",\"plot_bgcolor\":\"#E5ECF6\",\"polar\":{\"angularaxis\":{\"gridcolor\":\"white\",\"linecolor\":\"white\",\"ticks\":\"\"},\"bgcolor\":\"#E5ECF6\",\"radialaxis\":{\"gridcolor\":\"white\",\"linecolor\":\"white\",\"ticks\":\"\"}},\"scene\":{\"xaxis\":{\"backgroundcolor\":\"#E5ECF6\",\"gridcolor\":\"white\",\"gridwidth\":2,\"linecolor\":\"white\",\"showbackground\":true,\"ticks\":\"\",\"zerolinecolor\":\"white\"},\"yaxis\":{\"backgroundcolor\":\"#E5ECF6\",\"gridcolor\":\"white\",\"gridwidth\":2,\"linecolor\":\"white\",\"showbackground\":true,\"ticks\":\"\",\"zerolinecolor\":\"white\"},\"zaxis\":{\"backgroundcolor\":\"#E5ECF6\",\"gridcolor\":\"white\",\"gridwidth\":2,\"linecolor\":\"white\",\"showbackground\":true,\"ticks\":\"\",\"zerolinecolor\":\"white\"}},\"shapedefaults\":{\"line\":{\"color\":\"#2a3f5f\"}},\"ternary\":{\"aaxis\":{\"gridcolor\":\"white\",\"linecolor\":\"white\",\"ticks\":\"\"},\"baxis\":{\"gridcolor\":\"white\",\"linecolor\":\"white\",\"ticks\":\"\"},\"bgcolor\":\"#E5ECF6\",\"caxis\":{\"gridcolor\":\"white\",\"linecolor\":\"white\",\"ticks\":\"\"}},\"title\":{\"x\":0.05},\"xaxis\":{\"automargin\":true,\"gridcolor\":\"white\",\"linecolor\":\"white\",\"ticks\":\"\",\"title\":{\"standoff\":15},\"zerolinecolor\":\"white\",\"zerolinewidth\":2},\"yaxis\":{\"automargin\":true,\"gridcolor\":\"white\",\"linecolor\":\"white\",\"ticks\":\"\",\"title\":{\"standoff\":15},\"zerolinecolor\":\"white\",\"zerolinewidth\":2}}},\"title\":{\"font\":{\"color\":\"#4D5663\"}},\"xaxis\":{\"gridcolor\":\"#E1E5ED\",\"showgrid\":true,\"tickfont\":{\"color\":\"#4D5663\"},\"title\":{\"font\":{\"color\":\"#4D5663\"},\"text\":\"\"},\"zerolinecolor\":\"#E1E5ED\"},\"yaxis\":{\"gridcolor\":\"#E1E5ED\",\"showgrid\":true,\"tickfont\":{\"color\":\"#4D5663\"},\"title\":{\"font\":{\"color\":\"#4D5663\"},\"text\":\"\"},\"zerolinecolor\":\"#E1E5ED\"}},                        {\"showLink\": true, \"linkText\": \"Export to plot.ly\", \"plotlyServerURL\": \"https://plot.ly\", \"responsive\": true}                    ).then(function(){\n",
              "                            \n",
              "var gd = document.getElementById('08e73d1f-06cb-4a86-be94-7b8a7d172b37');\n",
              "var x = new MutationObserver(function (mutations, observer) {{\n",
              "        var display = window.getComputedStyle(gd).display;\n",
              "        if (!display || display === 'none') {{\n",
              "            console.log([gd, 'removed!']);\n",
              "            Plotly.purge(gd);\n",
              "            observer.disconnect();\n",
              "        }}\n",
              "}});\n",
              "\n",
              "// Listen for the removal of the full notebook cells\n",
              "var notebookContainer = gd.closest('#notebook-container');\n",
              "if (notebookContainer) {{\n",
              "    x.observe(notebookContainer, {childList: true});\n",
              "}}\n",
              "\n",
              "// Listen for the clearing of the current output cell\n",
              "var outputEl = gd.closest('.output');\n",
              "if (outputEl) {{\n",
              "    x.observe(outputEl, {childList: true});\n",
              "}}\n",
              "\n",
              "                        })                };                });            </script>        </div>"
            ]
          },
          "metadata": {}
        }
      ]
    },
    {
      "cell_type": "code",
      "source": [
        "death.iplot(kind='bar',x='Date',y='Deaths')"
      ],
      "metadata": {
        "colab": {
          "base_uri": "https://localhost:8080/",
          "height": 542
        },
        "id": "7HtxfmSqf-dB",
        "outputId": "662afd45-1ae3-4531-c979-163a58664e88"
      },
      "execution_count": 24,
      "outputs": [
        {
          "output_type": "display_data",
          "data": {
            "application/vnd.plotly.v1+json": {
              "data": [
                {
                  "marker": {
                    "color": "rgba(255, 153, 51, 0.6)",
                    "line": {
                      "color": "rgba(255, 153, 51, 1.0)",
                      "width": 1
                    }
                  },
                  "name": "Deaths",
                  "orientation": "v",
                  "text": "",
                  "x": [
                    "01/01/2021",
                    "01/02/2021",
                    "01/03/2021",
                    "01/04/2021",
                    "01/05/2021",
                    "01/06/2021",
                    "01/07/2021",
                    "01/08/2021",
                    "01/09/2021",
                    "01/10/2021",
                    "01/11/2021",
                    "01/12/2021",
                    "01/13/2021",
                    "01/14/2021",
                    "01/22/2020",
                    "01/23/2020",
                    "01/24/2020",
                    "01/25/2020",
                    "01/26/2020",
                    "01/27/2020",
                    "01/28/2020",
                    "01/29/2020",
                    "01/30/2020",
                    "01/31/2020",
                    "02/01/2020",
                    "02/02/2020",
                    "02/03/2020",
                    "02/04/2020",
                    "02/05/2020",
                    "02/06/2020",
                    "02/07/2020",
                    "02/08/2020",
                    "02/09/2020",
                    "02/10/2020",
                    "02/11/2020",
                    "02/12/2020",
                    "02/13/2020",
                    "02/14/2020",
                    "02/15/2020",
                    "02/16/2020",
                    "02/17/2020",
                    "02/18/2020",
                    "02/19/2020",
                    "02/20/2020",
                    "02/21/2020",
                    "02/22/2020",
                    "02/23/2020",
                    "02/24/2020",
                    "02/25/2020",
                    "02/26/2020",
                    "02/27/2020",
                    "02/28/2020",
                    "02/29/2020",
                    "03/01/2020",
                    "03/02/2020",
                    "03/03/2020",
                    "03/04/2020",
                    "03/05/2020",
                    "03/06/2020",
                    "03/07/2020",
                    "03/08/2020",
                    "03/09/2020",
                    "03/10/2020",
                    "03/11/2020",
                    "03/12/2020",
                    "03/13/2020",
                    "03/14/2020",
                    "03/15/2020",
                    "03/16/2020",
                    "03/17/2020",
                    "03/18/2020",
                    "03/19/2020",
                    "03/20/2020",
                    "03/21/2020",
                    "03/22/2020",
                    "03/23/2020",
                    "03/24/2020",
                    "03/25/2020",
                    "03/26/2020",
                    "03/27/2020",
                    "03/28/2020",
                    "03/29/2020",
                    "03/30/2020",
                    "03/31/2020",
                    "04/01/2020",
                    "04/02/2020",
                    "04/03/2020",
                    "04/04/2020",
                    "04/05/2020",
                    "04/06/2020",
                    "04/07/2020",
                    "04/08/2020",
                    "04/09/2020",
                    "04/10/2020",
                    "04/11/2020",
                    "04/12/2020",
                    "04/13/2020",
                    "04/14/2020",
                    "04/15/2020",
                    "04/16/2020",
                    "04/17/2020",
                    "04/18/2020",
                    "04/19/2020",
                    "04/20/2020",
                    "04/21/2020",
                    "04/22/2020",
                    "04/23/2020",
                    "04/24/2020",
                    "04/25/2020",
                    "04/26/2020",
                    "04/27/2020",
                    "04/28/2020",
                    "04/29/2020",
                    "04/30/2020",
                    "05/01/2020",
                    "05/02/2020",
                    "05/03/2020",
                    "05/04/2020",
                    "05/05/2020",
                    "05/06/2020",
                    "05/07/2020",
                    "05/08/2020",
                    "05/09/2020",
                    "05/10/2020",
                    "05/11/2020",
                    "05/12/2020",
                    "05/13/2020",
                    "05/14/2020",
                    "05/15/2020",
                    "05/16/2020",
                    "05/17/2020",
                    "05/18/2020",
                    "05/19/2020",
                    "05/20/2020",
                    "05/21/2020",
                    "05/22/2020",
                    "05/23/2020",
                    "05/24/2020",
                    "05/25/2020",
                    "05/26/2020",
                    "05/27/2020",
                    "05/28/2020",
                    "05/29/2020",
                    "05/30/2020",
                    "05/31/2020",
                    "06/01/2020",
                    "06/02/2020",
                    "06/03/2020",
                    "06/04/2020",
                    "06/05/2020",
                    "06/06/2020",
                    "06/07/2020",
                    "06/08/2020",
                    "06/09/2020",
                    "06/10/2020",
                    "06/11/2020",
                    "06/12/2020",
                    "06/13/2020",
                    "06/14/2020",
                    "06/15/2020",
                    "06/16/2020",
                    "06/17/2020",
                    "06/18/2020",
                    "06/19/2020",
                    "06/20/2020",
                    "06/21/2020",
                    "06/22/2020",
                    "06/23/2020",
                    "06/24/2020",
                    "06/25/2020",
                    "06/26/2020",
                    "06/27/2020",
                    "06/28/2020",
                    "06/29/2020",
                    "06/30/2020",
                    "07/01/2020",
                    "07/02/2020",
                    "07/03/2020",
                    "07/04/2020",
                    "07/05/2020",
                    "07/06/2020",
                    "07/07/2020",
                    "07/08/2020",
                    "07/09/2020",
                    "07/10/2020",
                    "07/11/2020",
                    "07/12/2020",
                    "07/13/2020",
                    "07/14/2020",
                    "07/15/2020",
                    "07/16/2020",
                    "07/17/2020",
                    "07/18/2020",
                    "07/19/2020",
                    "07/20/2020",
                    "07/21/2020",
                    "07/22/2020",
                    "07/23/2020",
                    "07/24/2020",
                    "07/25/2020",
                    "07/26/2020",
                    "07/27/2020",
                    "07/28/2020",
                    "07/29/2020",
                    "07/30/2020",
                    "07/31/2020",
                    "08/01/2020",
                    "08/02/2020",
                    "08/03/2020",
                    "08/04/2020",
                    "08/05/2020",
                    "08/06/2020",
                    "08/07/2020",
                    "08/08/2020",
                    "08/09/2020",
                    "08/10/2020",
                    "08/11/2020",
                    "08/12/2020",
                    "08/13/2020",
                    "08/14/2020",
                    "08/15/2020",
                    "08/16/2020",
                    "08/17/2020",
                    "08/18/2020",
                    "08/19/2020",
                    "08/20/2020",
                    "08/21/2020",
                    "08/22/2020",
                    "08/23/2020",
                    "08/24/2020",
                    "08/25/2020",
                    "08/26/2020",
                    "08/27/2020",
                    "08/28/2020",
                    "08/29/2020",
                    "08/30/2020",
                    "08/31/2020",
                    "09/01/2020",
                    "09/02/2020",
                    "09/03/2020",
                    "09/04/2020",
                    "09/05/2020",
                    "09/06/2020",
                    "09/07/2020",
                    "09/08/2020",
                    "09/09/2020",
                    "09/10/2020",
                    "09/11/2020",
                    "09/12/2020",
                    "09/13/2020",
                    "09/14/2020",
                    "09/15/2020",
                    "09/16/2020",
                    "09/17/2020",
                    "09/18/2020",
                    "09/19/2020",
                    "09/20/2020",
                    "09/21/2020",
                    "09/22/2020",
                    "09/23/2020",
                    "09/24/2020",
                    "09/25/2020",
                    "09/26/2020",
                    "09/27/2020",
                    "09/28/2020",
                    "09/29/2020",
                    "09/30/2020",
                    "10/01/2020",
                    "10/02/2020",
                    "10/03/2020",
                    "10/04/2020",
                    "10/05/2020",
                    "10/06/2020",
                    "10/07/2020",
                    "10/08/2020",
                    "10/09/2020",
                    "10/10/2020",
                    "10/11/2020",
                    "10/12/2020",
                    "10/13/2020",
                    "10/14/2020",
                    "10/15/2020",
                    "10/16/2020",
                    "10/17/2020",
                    "10/18/2020",
                    "10/19/2020",
                    "10/20/2020",
                    "10/21/2020",
                    "10/22/2020",
                    "10/23/2020",
                    "10/24/2020",
                    "10/25/2020",
                    "10/26/2020",
                    "10/27/2020",
                    "10/28/2020",
                    "10/29/2020",
                    "10/30/2020",
                    "10/31/2020",
                    "11/01/2020",
                    "11/02/2020",
                    "11/03/2020",
                    "11/04/2020",
                    "11/05/2020",
                    "11/06/2020",
                    "11/07/2020",
                    "11/08/2020",
                    "11/09/2020",
                    "11/10/2020",
                    "11/11/2020",
                    "11/12/2020",
                    "11/13/2020",
                    "11/14/2020",
                    "11/15/2020",
                    "11/16/2020",
                    "11/17/2020",
                    "11/18/2020",
                    "11/19/2020",
                    "11/20/2020",
                    "11/21/2020",
                    "11/22/2020",
                    "11/23/2020",
                    "11/24/2020",
                    "11/25/2020",
                    "11/26/2020",
                    "11/27/2020",
                    "11/28/2020",
                    "11/29/2020",
                    "11/30/2020",
                    "12/01/2020",
                    "12/02/2020",
                    "12/03/2020",
                    "12/04/2020",
                    "12/05/2020",
                    "12/06/2020",
                    "12/07/2020",
                    "12/08/2020",
                    "12/09/2020",
                    "12/10/2020",
                    "12/11/2020",
                    "12/12/2020",
                    "12/13/2020",
                    "12/14/2020",
                    "12/15/2020",
                    "12/16/2020",
                    "12/17/2020",
                    "12/18/2020",
                    "12/19/2020",
                    "12/20/2020",
                    "12/21/2020",
                    "12/22/2020",
                    "12/23/2020",
                    "12/24/2020",
                    "12/25/2020",
                    "12/26/2020",
                    "12/27/2020",
                    "12/28/2020",
                    "12/29/2020",
                    "12/30/2020",
                    "12/31/2020"
                  ],
                  "y": [
                    1834675,
                    1843108,
                    1850449,
                    1860598,
                    1875953,
                    1891006,
                    1905926,
                    1921092,
                    1933877,
                    1942225,
                    1952549,
                    1969887,
                    1986359,
                    616284,
                    17,
                    34,
                    26,
                    42,
                    56,
                    82,
                    131,
                    133,
                    171,
                    213,
                    259,
                    362,
                    426,
                    492,
                    564,
                    634,
                    719,
                    806,
                    906,
                    1013,
                    1113,
                    1118,
                    1371,
                    1523,
                    1666,
                    1770,
                    1868,
                    2007,
                    2122,
                    2247,
                    2251,
                    2458,
                    2469,
                    2629,
                    2708,
                    2770,
                    2814,
                    2872,
                    2941,
                    2996,
                    3085,
                    3160,
                    3254,
                    3349,
                    3460,
                    3563,
                    3803,
                    4002,
                    4262,
                    4615,
                    4720,
                    5404,
                    5819,
                    6440,
                    7126,
                    7906,
                    8736,
                    9869,
                    11300,
                    12972,
                    14633,
                    16527,
                    18635,
                    21207,
                    24005,
                    27230,
                    30691,
                    33991,
                    37664,
                    42183,
                    47363,
                    53187,
                    59039,
                    64916,
                    69739,
                    75053,
                    82384,
                    88895,
                    96000,
                    103097,
                    109093,
                    114798,
                    120313,
                    126810,
                    135068,
                    144603,
                    154672,
                    160457,
                    166017,
                    171005,
                    177579,
                    184106,
                    191893,
                    198235,
                    203955,
                    207764,
                    212464,
                    218483,
                    228935,
                    234577,
                    239834,
                    245177,
                    248929,
                    253070,
                    258683,
                    265100,
                    270809,
                    276146,
                    280587,
                    284004,
                    287667,
                    293246,
                    298412,
                    303604,
                    308878,
                    313077,
                    316428,
                    319807,
                    324521,
                    329335,
                    334079,
                    339366,
                    343314,
                    346195,
                    347375,
                    351650,
                    356692,
                    361294,
                    365829,
                    370052,
                    372819,
                    376350,
                    381093,
                    386614,
                    391725,
                    396661,
                    400522,
                    403297,
                    407091,
                    411929,
                    416632,
                    421847,
                    425761,
                    430046,
                    433395,
                    437219,
                    443968,
                    449215,
                    454180,
                    460357,
                    464545,
                    468471,
                    472297,
                    477616,
                    482763,
                    489311,
                    494191,
                    498744,
                    501968,
                    505552,
                    511230,
                    516178,
                    521269,
                    526352,
                    530742,
                    534286,
                    538110,
                    544143,
                    549428,
                    554873,
                    560157,
                    565124,
                    569122,
                    573096,
                    578732,
                    584205,
                    589993,
                    596593,
                    602211,
                    606273,
                    610036,
                    616577,
                    623577,
                    633521,
                    639745,
                    645382,
                    648827,
                    654289,
                    659813,
                    667205,
                    673422,
                    679738,
                    685278,
                    689615,
                    694316,
                    700941,
                    708056,
                    715180,
                    721561,
                    727019,
                    731595,
                    736877,
                    743077,
                    750007,
                    755989,
                    766118,
                    771472,
                    775727,
                    774567,
                    781365,
                    788111,
                    794182,
                    799624,
                    804731,
                    809080,
                    813575,
                    819857,
                    826074,
                    831983,
                    837531,
                    842853,
                    846892,
                    851010,
                    857422,
                    863535,
                    869217,
                    874814,
                    879768,
                    883878,
                    893042,
                    897944,
                    904278,
                    910078,
                    915924,
                    920810,
                    924519,
                    927901,
                    935390,
                    941170,
                    946635,
                    952306,
                    957583,
                    961312,
                    965412,
                    971429,
                    976992,
                    983641,
                    989544,
                    994887,
                    998561,
                    1002529,
                    1008448,
                    1014917,
                    1023487,
                    1028562,
                    1033936,
                    1037770,
                    1044708,
                    1050477,
                    1056316,
                    1062537,
                    1068728,
                    1073604,
                    1077616,
                    1081588,
                    1086887,
                    1092959,
                    1099062,
                    1105232,
                    1110799,
                    1114303,
                    1119126,
                    1125684,
                    1132319,
                    1138235,
                    1145232,
                    1151002,
                    1155162,
                    1160672,
                    1168047,
                    1175257,
                    1182310,
                    1190175,
                    1196770,
                    1201797,
                    1207554,
                    1216522,
                    1227194,
                    1235221,
                    1244907,
                    1252532,
                    1258396,
                    1265616,
                    1275687,
                    1286157,
                    1296087,
                    1305675,
                    1314757,
                    1321182,
                    1329120,
                    1340268,
                    1351621,
                    1362654,
                    1374541,
                    1383513,
                    1390708,
                    1399234,
                    1411988,
                    1424025,
                    1434913,
                    1446300,
                    1455583,
                    1462743,
                    1471623,
                    1484426,
                    1496898,
                    1509473,
                    1521993,
                    1532282,
                    1539710,
                    1548425,
                    1560838,
                    1573425,
                    1586121,
                    1599149,
                    1609694,
                    1617153,
                    1626325,
                    1640431,
                    1653937,
                    1667388,
                    1680178,
                    1690950,
                    1698865,
                    1708512,
                    1722999,
                    1736628,
                    1748259,
                    1756861,
                    1764260,
                    1771659,
                    1781415,
                    1796786,
                    1811843,
                    1825012
                  ],
                  "type": "bar"
                }
              ],
              "layout": {
                "legend": {
                  "bgcolor": "#F5F6F9",
                  "font": {
                    "color": "#4D5663"
                  }
                },
                "paper_bgcolor": "#F5F6F9",
                "plot_bgcolor": "#F5F6F9",
                "template": {
                  "data": {
                    "barpolar": [
                      {
                        "marker": {
                          "line": {
                            "color": "#E5ECF6",
                            "width": 0.5
                          },
                          "pattern": {
                            "fillmode": "overlay",
                            "size": 10,
                            "solidity": 0.2
                          }
                        },
                        "type": "barpolar"
                      }
                    ],
                    "bar": [
                      {
                        "error_x": {
                          "color": "#2a3f5f"
                        },
                        "error_y": {
                          "color": "#2a3f5f"
                        },
                        "marker": {
                          "line": {
                            "color": "#E5ECF6",
                            "width": 0.5
                          },
                          "pattern": {
                            "fillmode": "overlay",
                            "size": 10,
                            "solidity": 0.2
                          }
                        },
                        "type": "bar"
                      }
                    ],
                    "carpet": [
                      {
                        "aaxis": {
                          "endlinecolor": "#2a3f5f",
                          "gridcolor": "white",
                          "linecolor": "white",
                          "minorgridcolor": "white",
                          "startlinecolor": "#2a3f5f"
                        },
                        "baxis": {
                          "endlinecolor": "#2a3f5f",
                          "gridcolor": "white",
                          "linecolor": "white",
                          "minorgridcolor": "white",
                          "startlinecolor": "#2a3f5f"
                        },
                        "type": "carpet"
                      }
                    ],
                    "choropleth": [
                      {
                        "colorbar": {
                          "outlinewidth": 0,
                          "ticks": ""
                        },
                        "type": "choropleth"
                      }
                    ],
                    "contourcarpet": [
                      {
                        "colorbar": {
                          "outlinewidth": 0,
                          "ticks": ""
                        },
                        "type": "contourcarpet"
                      }
                    ],
                    "contour": [
                      {
                        "colorbar": {
                          "outlinewidth": 0,
                          "ticks": ""
                        },
                        "colorscale": [
                          [
                            0,
                            "#0d0887"
                          ],
                          [
                            0.1111111111111111,
                            "#46039f"
                          ],
                          [
                            0.2222222222222222,
                            "#7201a8"
                          ],
                          [
                            0.3333333333333333,
                            "#9c179e"
                          ],
                          [
                            0.4444444444444444,
                            "#bd3786"
                          ],
                          [
                            0.5555555555555556,
                            "#d8576b"
                          ],
                          [
                            0.6666666666666666,
                            "#ed7953"
                          ],
                          [
                            0.7777777777777778,
                            "#fb9f3a"
                          ],
                          [
                            0.8888888888888888,
                            "#fdca26"
                          ],
                          [
                            1,
                            "#f0f921"
                          ]
                        ],
                        "type": "contour"
                      }
                    ],
                    "heatmapgl": [
                      {
                        "colorbar": {
                          "outlinewidth": 0,
                          "ticks": ""
                        },
                        "colorscale": [
                          [
                            0,
                            "#0d0887"
                          ],
                          [
                            0.1111111111111111,
                            "#46039f"
                          ],
                          [
                            0.2222222222222222,
                            "#7201a8"
                          ],
                          [
                            0.3333333333333333,
                            "#9c179e"
                          ],
                          [
                            0.4444444444444444,
                            "#bd3786"
                          ],
                          [
                            0.5555555555555556,
                            "#d8576b"
                          ],
                          [
                            0.6666666666666666,
                            "#ed7953"
                          ],
                          [
                            0.7777777777777778,
                            "#fb9f3a"
                          ],
                          [
                            0.8888888888888888,
                            "#fdca26"
                          ],
                          [
                            1,
                            "#f0f921"
                          ]
                        ],
                        "type": "heatmapgl"
                      }
                    ],
                    "heatmap": [
                      {
                        "colorbar": {
                          "outlinewidth": 0,
                          "ticks": ""
                        },
                        "colorscale": [
                          [
                            0,
                            "#0d0887"
                          ],
                          [
                            0.1111111111111111,
                            "#46039f"
                          ],
                          [
                            0.2222222222222222,
                            "#7201a8"
                          ],
                          [
                            0.3333333333333333,
                            "#9c179e"
                          ],
                          [
                            0.4444444444444444,
                            "#bd3786"
                          ],
                          [
                            0.5555555555555556,
                            "#d8576b"
                          ],
                          [
                            0.6666666666666666,
                            "#ed7953"
                          ],
                          [
                            0.7777777777777778,
                            "#fb9f3a"
                          ],
                          [
                            0.8888888888888888,
                            "#fdca26"
                          ],
                          [
                            1,
                            "#f0f921"
                          ]
                        ],
                        "type": "heatmap"
                      }
                    ],
                    "histogram2dcontour": [
                      {
                        "colorbar": {
                          "outlinewidth": 0,
                          "ticks": ""
                        },
                        "colorscale": [
                          [
                            0,
                            "#0d0887"
                          ],
                          [
                            0.1111111111111111,
                            "#46039f"
                          ],
                          [
                            0.2222222222222222,
                            "#7201a8"
                          ],
                          [
                            0.3333333333333333,
                            "#9c179e"
                          ],
                          [
                            0.4444444444444444,
                            "#bd3786"
                          ],
                          [
                            0.5555555555555556,
                            "#d8576b"
                          ],
                          [
                            0.6666666666666666,
                            "#ed7953"
                          ],
                          [
                            0.7777777777777778,
                            "#fb9f3a"
                          ],
                          [
                            0.8888888888888888,
                            "#fdca26"
                          ],
                          [
                            1,
                            "#f0f921"
                          ]
                        ],
                        "type": "histogram2dcontour"
                      }
                    ],
                    "histogram2d": [
                      {
                        "colorbar": {
                          "outlinewidth": 0,
                          "ticks": ""
                        },
                        "colorscale": [
                          [
                            0,
                            "#0d0887"
                          ],
                          [
                            0.1111111111111111,
                            "#46039f"
                          ],
                          [
                            0.2222222222222222,
                            "#7201a8"
                          ],
                          [
                            0.3333333333333333,
                            "#9c179e"
                          ],
                          [
                            0.4444444444444444,
                            "#bd3786"
                          ],
                          [
                            0.5555555555555556,
                            "#d8576b"
                          ],
                          [
                            0.6666666666666666,
                            "#ed7953"
                          ],
                          [
                            0.7777777777777778,
                            "#fb9f3a"
                          ],
                          [
                            0.8888888888888888,
                            "#fdca26"
                          ],
                          [
                            1,
                            "#f0f921"
                          ]
                        ],
                        "type": "histogram2d"
                      }
                    ],
                    "histogram": [
                      {
                        "marker": {
                          "pattern": {
                            "fillmode": "overlay",
                            "size": 10,
                            "solidity": 0.2
                          }
                        },
                        "type": "histogram"
                      }
                    ],
                    "mesh3d": [
                      {
                        "colorbar": {
                          "outlinewidth": 0,
                          "ticks": ""
                        },
                        "type": "mesh3d"
                      }
                    ],
                    "parcoords": [
                      {
                        "line": {
                          "colorbar": {
                            "outlinewidth": 0,
                            "ticks": ""
                          }
                        },
                        "type": "parcoords"
                      }
                    ],
                    "pie": [
                      {
                        "automargin": true,
                        "type": "pie"
                      }
                    ],
                    "scatter3d": [
                      {
                        "line": {
                          "colorbar": {
                            "outlinewidth": 0,
                            "ticks": ""
                          }
                        },
                        "marker": {
                          "colorbar": {
                            "outlinewidth": 0,
                            "ticks": ""
                          }
                        },
                        "type": "scatter3d"
                      }
                    ],
                    "scattercarpet": [
                      {
                        "marker": {
                          "colorbar": {
                            "outlinewidth": 0,
                            "ticks": ""
                          }
                        },
                        "type": "scattercarpet"
                      }
                    ],
                    "scattergeo": [
                      {
                        "marker": {
                          "colorbar": {
                            "outlinewidth": 0,
                            "ticks": ""
                          }
                        },
                        "type": "scattergeo"
                      }
                    ],
                    "scattergl": [
                      {
                        "marker": {
                          "colorbar": {
                            "outlinewidth": 0,
                            "ticks": ""
                          }
                        },
                        "type": "scattergl"
                      }
                    ],
                    "scattermapbox": [
                      {
                        "marker": {
                          "colorbar": {
                            "outlinewidth": 0,
                            "ticks": ""
                          }
                        },
                        "type": "scattermapbox"
                      }
                    ],
                    "scatterpolargl": [
                      {
                        "marker": {
                          "colorbar": {
                            "outlinewidth": 0,
                            "ticks": ""
                          }
                        },
                        "type": "scatterpolargl"
                      }
                    ],
                    "scatterpolar": [
                      {
                        "marker": {
                          "colorbar": {
                            "outlinewidth": 0,
                            "ticks": ""
                          }
                        },
                        "type": "scatterpolar"
                      }
                    ],
                    "scatter": [
                      {
                        "marker": {
                          "colorbar": {
                            "outlinewidth": 0,
                            "ticks": ""
                          }
                        },
                        "type": "scatter"
                      }
                    ],
                    "scatterternary": [
                      {
                        "marker": {
                          "colorbar": {
                            "outlinewidth": 0,
                            "ticks": ""
                          }
                        },
                        "type": "scatterternary"
                      }
                    ],
                    "surface": [
                      {
                        "colorbar": {
                          "outlinewidth": 0,
                          "ticks": ""
                        },
                        "colorscale": [
                          [
                            0,
                            "#0d0887"
                          ],
                          [
                            0.1111111111111111,
                            "#46039f"
                          ],
                          [
                            0.2222222222222222,
                            "#7201a8"
                          ],
                          [
                            0.3333333333333333,
                            "#9c179e"
                          ],
                          [
                            0.4444444444444444,
                            "#bd3786"
                          ],
                          [
                            0.5555555555555556,
                            "#d8576b"
                          ],
                          [
                            0.6666666666666666,
                            "#ed7953"
                          ],
                          [
                            0.7777777777777778,
                            "#fb9f3a"
                          ],
                          [
                            0.8888888888888888,
                            "#fdca26"
                          ],
                          [
                            1,
                            "#f0f921"
                          ]
                        ],
                        "type": "surface"
                      }
                    ],
                    "table": [
                      {
                        "cells": {
                          "fill": {
                            "color": "#EBF0F8"
                          },
                          "line": {
                            "color": "white"
                          }
                        },
                        "header": {
                          "fill": {
                            "color": "#C8D4E3"
                          },
                          "line": {
                            "color": "white"
                          }
                        },
                        "type": "table"
                      }
                    ]
                  },
                  "layout": {
                    "annotationdefaults": {
                      "arrowcolor": "#2a3f5f",
                      "arrowhead": 0,
                      "arrowwidth": 1
                    },
                    "autotypenumbers": "strict",
                    "coloraxis": {
                      "colorbar": {
                        "outlinewidth": 0,
                        "ticks": ""
                      }
                    },
                    "colorscale": {
                      "diverging": [
                        [
                          0,
                          "#8e0152"
                        ],
                        [
                          0.1,
                          "#c51b7d"
                        ],
                        [
                          0.2,
                          "#de77ae"
                        ],
                        [
                          0.3,
                          "#f1b6da"
                        ],
                        [
                          0.4,
                          "#fde0ef"
                        ],
                        [
                          0.5,
                          "#f7f7f7"
                        ],
                        [
                          0.6,
                          "#e6f5d0"
                        ],
                        [
                          0.7,
                          "#b8e186"
                        ],
                        [
                          0.8,
                          "#7fbc41"
                        ],
                        [
                          0.9,
                          "#4d9221"
                        ],
                        [
                          1,
                          "#276419"
                        ]
                      ],
                      "sequential": [
                        [
                          0,
                          "#0d0887"
                        ],
                        [
                          0.1111111111111111,
                          "#46039f"
                        ],
                        [
                          0.2222222222222222,
                          "#7201a8"
                        ],
                        [
                          0.3333333333333333,
                          "#9c179e"
                        ],
                        [
                          0.4444444444444444,
                          "#bd3786"
                        ],
                        [
                          0.5555555555555556,
                          "#d8576b"
                        ],
                        [
                          0.6666666666666666,
                          "#ed7953"
                        ],
                        [
                          0.7777777777777778,
                          "#fb9f3a"
                        ],
                        [
                          0.8888888888888888,
                          "#fdca26"
                        ],
                        [
                          1,
                          "#f0f921"
                        ]
                      ],
                      "sequentialminus": [
                        [
                          0,
                          "#0d0887"
                        ],
                        [
                          0.1111111111111111,
                          "#46039f"
                        ],
                        [
                          0.2222222222222222,
                          "#7201a8"
                        ],
                        [
                          0.3333333333333333,
                          "#9c179e"
                        ],
                        [
                          0.4444444444444444,
                          "#bd3786"
                        ],
                        [
                          0.5555555555555556,
                          "#d8576b"
                        ],
                        [
                          0.6666666666666666,
                          "#ed7953"
                        ],
                        [
                          0.7777777777777778,
                          "#fb9f3a"
                        ],
                        [
                          0.8888888888888888,
                          "#fdca26"
                        ],
                        [
                          1,
                          "#f0f921"
                        ]
                      ]
                    },
                    "colorway": [
                      "#636efa",
                      "#EF553B",
                      "#00cc96",
                      "#ab63fa",
                      "#FFA15A",
                      "#19d3f3",
                      "#FF6692",
                      "#B6E880",
                      "#FF97FF",
                      "#FECB52"
                    ],
                    "font": {
                      "color": "#2a3f5f"
                    },
                    "geo": {
                      "bgcolor": "white",
                      "lakecolor": "white",
                      "landcolor": "#E5ECF6",
                      "showlakes": true,
                      "showland": true,
                      "subunitcolor": "white"
                    },
                    "hoverlabel": {
                      "align": "left"
                    },
                    "hovermode": "closest",
                    "mapbox": {
                      "style": "light"
                    },
                    "paper_bgcolor": "white",
                    "plot_bgcolor": "#E5ECF6",
                    "polar": {
                      "angularaxis": {
                        "gridcolor": "white",
                        "linecolor": "white",
                        "ticks": ""
                      },
                      "bgcolor": "#E5ECF6",
                      "radialaxis": {
                        "gridcolor": "white",
                        "linecolor": "white",
                        "ticks": ""
                      }
                    },
                    "scene": {
                      "xaxis": {
                        "backgroundcolor": "#E5ECF6",
                        "gridcolor": "white",
                        "gridwidth": 2,
                        "linecolor": "white",
                        "showbackground": true,
                        "ticks": "",
                        "zerolinecolor": "white"
                      },
                      "yaxis": {
                        "backgroundcolor": "#E5ECF6",
                        "gridcolor": "white",
                        "gridwidth": 2,
                        "linecolor": "white",
                        "showbackground": true,
                        "ticks": "",
                        "zerolinecolor": "white"
                      },
                      "zaxis": {
                        "backgroundcolor": "#E5ECF6",
                        "gridcolor": "white",
                        "gridwidth": 2,
                        "linecolor": "white",
                        "showbackground": true,
                        "ticks": "",
                        "zerolinecolor": "white"
                      }
                    },
                    "shapedefaults": {
                      "line": {
                        "color": "#2a3f5f"
                      }
                    },
                    "ternary": {
                      "aaxis": {
                        "gridcolor": "white",
                        "linecolor": "white",
                        "ticks": ""
                      },
                      "baxis": {
                        "gridcolor": "white",
                        "linecolor": "white",
                        "ticks": ""
                      },
                      "bgcolor": "#E5ECF6",
                      "caxis": {
                        "gridcolor": "white",
                        "linecolor": "white",
                        "ticks": ""
                      }
                    },
                    "title": {
                      "x": 0.05
                    },
                    "xaxis": {
                      "automargin": true,
                      "gridcolor": "white",
                      "linecolor": "white",
                      "ticks": "",
                      "title": {
                        "standoff": 15
                      },
                      "zerolinecolor": "white",
                      "zerolinewidth": 2
                    },
                    "yaxis": {
                      "automargin": true,
                      "gridcolor": "white",
                      "linecolor": "white",
                      "ticks": "",
                      "title": {
                        "standoff": 15
                      },
                      "zerolinecolor": "white",
                      "zerolinewidth": 2
                    }
                  }
                },
                "title": {
                  "font": {
                    "color": "#4D5663"
                  }
                },
                "xaxis": {
                  "gridcolor": "#E1E5ED",
                  "showgrid": true,
                  "tickfont": {
                    "color": "#4D5663"
                  },
                  "title": {
                    "font": {
                      "color": "#4D5663"
                    },
                    "text": ""
                  },
                  "zerolinecolor": "#E1E5ED"
                },
                "yaxis": {
                  "gridcolor": "#E1E5ED",
                  "showgrid": true,
                  "tickfont": {
                    "color": "#4D5663"
                  },
                  "title": {
                    "font": {
                      "color": "#4D5663"
                    },
                    "text": ""
                  },
                  "zerolinecolor": "#E1E5ED"
                }
              },
              "config": {
                "showLink": true,
                "linkText": "Export to plot.ly",
                "plotlyServerURL": "https://plot.ly"
              }
            },
            "text/html": [
              "<div>                            <div id=\"9ccdbed7-3c60-4759-87d5-4ca32bc8c921\" class=\"plotly-graph-div\" style=\"height:525px; width:100%;\"></div>            <script type=\"text/javascript\">                require([\"plotly\"], function(Plotly) {                    window.PLOTLYENV=window.PLOTLYENV || {};\n",
              "                    window.PLOTLYENV.BASE_URL='https://plot.ly';                                    if (document.getElementById(\"9ccdbed7-3c60-4759-87d5-4ca32bc8c921\")) {                    Plotly.newPlot(                        \"9ccdbed7-3c60-4759-87d5-4ca32bc8c921\",                        [{\"marker\":{\"color\":\"rgba(255, 153, 51, 0.6)\",\"line\":{\"color\":\"rgba(255, 153, 51, 1.0)\",\"width\":1}},\"name\":\"Deaths\",\"orientation\":\"v\",\"text\":\"\",\"x\":[\"01/01/2021\",\"01/02/2021\",\"01/03/2021\",\"01/04/2021\",\"01/05/2021\",\"01/06/2021\",\"01/07/2021\",\"01/08/2021\",\"01/09/2021\",\"01/10/2021\",\"01/11/2021\",\"01/12/2021\",\"01/13/2021\",\"01/14/2021\",\"01/22/2020\",\"01/23/2020\",\"01/24/2020\",\"01/25/2020\",\"01/26/2020\",\"01/27/2020\",\"01/28/2020\",\"01/29/2020\",\"01/30/2020\",\"01/31/2020\",\"02/01/2020\",\"02/02/2020\",\"02/03/2020\",\"02/04/2020\",\"02/05/2020\",\"02/06/2020\",\"02/07/2020\",\"02/08/2020\",\"02/09/2020\",\"02/10/2020\",\"02/11/2020\",\"02/12/2020\",\"02/13/2020\",\"02/14/2020\",\"02/15/2020\",\"02/16/2020\",\"02/17/2020\",\"02/18/2020\",\"02/19/2020\",\"02/20/2020\",\"02/21/2020\",\"02/22/2020\",\"02/23/2020\",\"02/24/2020\",\"02/25/2020\",\"02/26/2020\",\"02/27/2020\",\"02/28/2020\",\"02/29/2020\",\"03/01/2020\",\"03/02/2020\",\"03/03/2020\",\"03/04/2020\",\"03/05/2020\",\"03/06/2020\",\"03/07/2020\",\"03/08/2020\",\"03/09/2020\",\"03/10/2020\",\"03/11/2020\",\"03/12/2020\",\"03/13/2020\",\"03/14/2020\",\"03/15/2020\",\"03/16/2020\",\"03/17/2020\",\"03/18/2020\",\"03/19/2020\",\"03/20/2020\",\"03/21/2020\",\"03/22/2020\",\"03/23/2020\",\"03/24/2020\",\"03/25/2020\",\"03/26/2020\",\"03/27/2020\",\"03/28/2020\",\"03/29/2020\",\"03/30/2020\",\"03/31/2020\",\"04/01/2020\",\"04/02/2020\",\"04/03/2020\",\"04/04/2020\",\"04/05/2020\",\"04/06/2020\",\"04/07/2020\",\"04/08/2020\",\"04/09/2020\",\"04/10/2020\",\"04/11/2020\",\"04/12/2020\",\"04/13/2020\",\"04/14/2020\",\"04/15/2020\",\"04/16/2020\",\"04/17/2020\",\"04/18/2020\",\"04/19/2020\",\"04/20/2020\",\"04/21/2020\",\"04/22/2020\",\"04/23/2020\",\"04/24/2020\",\"04/25/2020\",\"04/26/2020\",\"04/27/2020\",\"04/28/2020\",\"04/29/2020\",\"04/30/2020\",\"05/01/2020\",\"05/02/2020\",\"05/03/2020\",\"05/04/2020\",\"05/05/2020\",\"05/06/2020\",\"05/07/2020\",\"05/08/2020\",\"05/09/2020\",\"05/10/2020\",\"05/11/2020\",\"05/12/2020\",\"05/13/2020\",\"05/14/2020\",\"05/15/2020\",\"05/16/2020\",\"05/17/2020\",\"05/18/2020\",\"05/19/2020\",\"05/20/2020\",\"05/21/2020\",\"05/22/2020\",\"05/23/2020\",\"05/24/2020\",\"05/25/2020\",\"05/26/2020\",\"05/27/2020\",\"05/28/2020\",\"05/29/2020\",\"05/30/2020\",\"05/31/2020\",\"06/01/2020\",\"06/02/2020\",\"06/03/2020\",\"06/04/2020\",\"06/05/2020\",\"06/06/2020\",\"06/07/2020\",\"06/08/2020\",\"06/09/2020\",\"06/10/2020\",\"06/11/2020\",\"06/12/2020\",\"06/13/2020\",\"06/14/2020\",\"06/15/2020\",\"06/16/2020\",\"06/17/2020\",\"06/18/2020\",\"06/19/2020\",\"06/20/2020\",\"06/21/2020\",\"06/22/2020\",\"06/23/2020\",\"06/24/2020\",\"06/25/2020\",\"06/26/2020\",\"06/27/2020\",\"06/28/2020\",\"06/29/2020\",\"06/30/2020\",\"07/01/2020\",\"07/02/2020\",\"07/03/2020\",\"07/04/2020\",\"07/05/2020\",\"07/06/2020\",\"07/07/2020\",\"07/08/2020\",\"07/09/2020\",\"07/10/2020\",\"07/11/2020\",\"07/12/2020\",\"07/13/2020\",\"07/14/2020\",\"07/15/2020\",\"07/16/2020\",\"07/17/2020\",\"07/18/2020\",\"07/19/2020\",\"07/20/2020\",\"07/21/2020\",\"07/22/2020\",\"07/23/2020\",\"07/24/2020\",\"07/25/2020\",\"07/26/2020\",\"07/27/2020\",\"07/28/2020\",\"07/29/2020\",\"07/30/2020\",\"07/31/2020\",\"08/01/2020\",\"08/02/2020\",\"08/03/2020\",\"08/04/2020\",\"08/05/2020\",\"08/06/2020\",\"08/07/2020\",\"08/08/2020\",\"08/09/2020\",\"08/10/2020\",\"08/11/2020\",\"08/12/2020\",\"08/13/2020\",\"08/14/2020\",\"08/15/2020\",\"08/16/2020\",\"08/17/2020\",\"08/18/2020\",\"08/19/2020\",\"08/20/2020\",\"08/21/2020\",\"08/22/2020\",\"08/23/2020\",\"08/24/2020\",\"08/25/2020\",\"08/26/2020\",\"08/27/2020\",\"08/28/2020\",\"08/29/2020\",\"08/30/2020\",\"08/31/2020\",\"09/01/2020\",\"09/02/2020\",\"09/03/2020\",\"09/04/2020\",\"09/05/2020\",\"09/06/2020\",\"09/07/2020\",\"09/08/2020\",\"09/09/2020\",\"09/10/2020\",\"09/11/2020\",\"09/12/2020\",\"09/13/2020\",\"09/14/2020\",\"09/15/2020\",\"09/16/2020\",\"09/17/2020\",\"09/18/2020\",\"09/19/2020\",\"09/20/2020\",\"09/21/2020\",\"09/22/2020\",\"09/23/2020\",\"09/24/2020\",\"09/25/2020\",\"09/26/2020\",\"09/27/2020\",\"09/28/2020\",\"09/29/2020\",\"09/30/2020\",\"10/01/2020\",\"10/02/2020\",\"10/03/2020\",\"10/04/2020\",\"10/05/2020\",\"10/06/2020\",\"10/07/2020\",\"10/08/2020\",\"10/09/2020\",\"10/10/2020\",\"10/11/2020\",\"10/12/2020\",\"10/13/2020\",\"10/14/2020\",\"10/15/2020\",\"10/16/2020\",\"10/17/2020\",\"10/18/2020\",\"10/19/2020\",\"10/20/2020\",\"10/21/2020\",\"10/22/2020\",\"10/23/2020\",\"10/24/2020\",\"10/25/2020\",\"10/26/2020\",\"10/27/2020\",\"10/28/2020\",\"10/29/2020\",\"10/30/2020\",\"10/31/2020\",\"11/01/2020\",\"11/02/2020\",\"11/03/2020\",\"11/04/2020\",\"11/05/2020\",\"11/06/2020\",\"11/07/2020\",\"11/08/2020\",\"11/09/2020\",\"11/10/2020\",\"11/11/2020\",\"11/12/2020\",\"11/13/2020\",\"11/14/2020\",\"11/15/2020\",\"11/16/2020\",\"11/17/2020\",\"11/18/2020\",\"11/19/2020\",\"11/20/2020\",\"11/21/2020\",\"11/22/2020\",\"11/23/2020\",\"11/24/2020\",\"11/25/2020\",\"11/26/2020\",\"11/27/2020\",\"11/28/2020\",\"11/29/2020\",\"11/30/2020\",\"12/01/2020\",\"12/02/2020\",\"12/03/2020\",\"12/04/2020\",\"12/05/2020\",\"12/06/2020\",\"12/07/2020\",\"12/08/2020\",\"12/09/2020\",\"12/10/2020\",\"12/11/2020\",\"12/12/2020\",\"12/13/2020\",\"12/14/2020\",\"12/15/2020\",\"12/16/2020\",\"12/17/2020\",\"12/18/2020\",\"12/19/2020\",\"12/20/2020\",\"12/21/2020\",\"12/22/2020\",\"12/23/2020\",\"12/24/2020\",\"12/25/2020\",\"12/26/2020\",\"12/27/2020\",\"12/28/2020\",\"12/29/2020\",\"12/30/2020\",\"12/31/2020\"],\"y\":[1834675.0,1843108.0,1850449.0,1860598.0,1875953.0,1891006.0,1905926.0,1921092.0,1933877.0,1942225.0,1952549.0,1969887.0,1986359.0,616284.0,17.0,34.0,26.0,42.0,56.0,82.0,131.0,133.0,171.0,213.0,259.0,362.0,426.0,492.0,564.0,634.0,719.0,806.0,906.0,1013.0,1113.0,1118.0,1371.0,1523.0,1666.0,1770.0,1868.0,2007.0,2122.0,2247.0,2251.0,2458.0,2469.0,2629.0,2708.0,2770.0,2814.0,2872.0,2941.0,2996.0,3085.0,3160.0,3254.0,3349.0,3460.0,3563.0,3803.0,4002.0,4262.0,4615.0,4720.0,5404.0,5819.0,6440.0,7126.0,7906.0,8736.0,9869.0,11300.0,12972.0,14633.0,16527.0,18635.0,21207.0,24005.0,27230.0,30691.0,33991.0,37664.0,42183.0,47363.0,53187.0,59039.0,64916.0,69739.0,75053.0,82384.0,88895.0,96000.0,103097.0,109093.0,114798.0,120313.0,126810.0,135068.0,144603.0,154672.0,160457.0,166017.0,171005.0,177579.0,184106.0,191893.0,198235.0,203955.0,207764.0,212464.0,218483.0,228935.0,234577.0,239834.0,245177.0,248929.0,253070.0,258683.0,265100.0,270809.0,276146.0,280587.0,284004.0,287667.0,293246.0,298412.0,303604.0,308878.0,313077.0,316428.0,319807.0,324521.0,329335.0,334079.0,339366.0,343314.0,346195.0,347375.0,351650.0,356692.0,361294.0,365829.0,370052.0,372819.0,376350.0,381093.0,386614.0,391725.0,396661.0,400522.0,403297.0,407091.0,411929.0,416632.0,421847.0,425761.0,430046.0,433395.0,437219.0,443968.0,449215.0,454180.0,460357.0,464545.0,468471.0,472297.0,477616.0,482763.0,489311.0,494191.0,498744.0,501968.0,505552.0,511230.0,516178.0,521269.0,526352.0,530742.0,534286.0,538110.0,544143.0,549428.0,554873.0,560157.0,565124.0,569122.0,573096.0,578732.0,584205.0,589993.0,596593.0,602211.0,606273.0,610036.0,616577.0,623577.0,633521.0,639745.0,645382.0,648827.0,654289.0,659813.0,667205.0,673422.0,679738.0,685278.0,689615.0,694316.0,700941.0,708056.0,715180.0,721561.0,727019.0,731595.0,736877.0,743077.0,750007.0,755989.0,766118.0,771472.0,775727.0,774567.0,781365.0,788111.0,794182.0,799624.0,804731.0,809080.0,813575.0,819857.0,826074.0,831983.0,837531.0,842853.0,846892.0,851010.0,857422.0,863535.0,869217.0,874814.0,879768.0,883878.0,893042.0,897944.0,904278.0,910078.0,915924.0,920810.0,924519.0,927901.0,935390.0,941170.0,946635.0,952306.0,957583.0,961312.0,965412.0,971429.0,976992.0,983641.0,989544.0,994887.0,998561.0,1002529.0,1008448.0,1014917.0,1023487.0,1028562.0,1033936.0,1037770.0,1044708.0,1050477.0,1056316.0,1062537.0,1068728.0,1073604.0,1077616.0,1081588.0,1086887.0,1092959.0,1099062.0,1105232.0,1110799.0,1114303.0,1119126.0,1125684.0,1132319.0,1138235.0,1145232.0,1151002.0,1155162.0,1160672.0,1168047.0,1175257.0,1182310.0,1190175.0,1196770.0,1201797.0,1207554.0,1216522.0,1227194.0,1235221.0,1244907.0,1252532.0,1258396.0,1265616.0,1275687.0,1286157.0,1296087.0,1305675.0,1314757.0,1321182.0,1329120.0,1340268.0,1351621.0,1362654.0,1374541.0,1383513.0,1390708.0,1399234.0,1411988.0,1424025.0,1434913.0,1446300.0,1455583.0,1462743.0,1471623.0,1484426.0,1496898.0,1509473.0,1521993.0,1532282.0,1539710.0,1548425.0,1560838.0,1573425.0,1586121.0,1599149.0,1609694.0,1617153.0,1626325.0,1640431.0,1653937.0,1667388.0,1680178.0,1690950.0,1698865.0,1708512.0,1722999.0,1736628.0,1748259.0,1756861.0,1764260.0,1771659.0,1781415.0,1796786.0,1811843.0,1825012.0],\"type\":\"bar\"}],                        {\"legend\":{\"bgcolor\":\"#F5F6F9\",\"font\":{\"color\":\"#4D5663\"}},\"paper_bgcolor\":\"#F5F6F9\",\"plot_bgcolor\":\"#F5F6F9\",\"template\":{\"data\":{\"barpolar\":[{\"marker\":{\"line\":{\"color\":\"#E5ECF6\",\"width\":0.5},\"pattern\":{\"fillmode\":\"overlay\",\"size\":10,\"solidity\":0.2}},\"type\":\"barpolar\"}],\"bar\":[{\"error_x\":{\"color\":\"#2a3f5f\"},\"error_y\":{\"color\":\"#2a3f5f\"},\"marker\":{\"line\":{\"color\":\"#E5ECF6\",\"width\":0.5},\"pattern\":{\"fillmode\":\"overlay\",\"size\":10,\"solidity\":0.2}},\"type\":\"bar\"}],\"carpet\":[{\"aaxis\":{\"endlinecolor\":\"#2a3f5f\",\"gridcolor\":\"white\",\"linecolor\":\"white\",\"minorgridcolor\":\"white\",\"startlinecolor\":\"#2a3f5f\"},\"baxis\":{\"endlinecolor\":\"#2a3f5f\",\"gridcolor\":\"white\",\"linecolor\":\"white\",\"minorgridcolor\":\"white\",\"startlinecolor\":\"#2a3f5f\"},\"type\":\"carpet\"}],\"choropleth\":[{\"colorbar\":{\"outlinewidth\":0,\"ticks\":\"\"},\"type\":\"choropleth\"}],\"contourcarpet\":[{\"colorbar\":{\"outlinewidth\":0,\"ticks\":\"\"},\"type\":\"contourcarpet\"}],\"contour\":[{\"colorbar\":{\"outlinewidth\":0,\"ticks\":\"\"},\"colorscale\":[[0.0,\"#0d0887\"],[0.1111111111111111,\"#46039f\"],[0.2222222222222222,\"#7201a8\"],[0.3333333333333333,\"#9c179e\"],[0.4444444444444444,\"#bd3786\"],[0.5555555555555556,\"#d8576b\"],[0.6666666666666666,\"#ed7953\"],[0.7777777777777778,\"#fb9f3a\"],[0.8888888888888888,\"#fdca26\"],[1.0,\"#f0f921\"]],\"type\":\"contour\"}],\"heatmapgl\":[{\"colorbar\":{\"outlinewidth\":0,\"ticks\":\"\"},\"colorscale\":[[0.0,\"#0d0887\"],[0.1111111111111111,\"#46039f\"],[0.2222222222222222,\"#7201a8\"],[0.3333333333333333,\"#9c179e\"],[0.4444444444444444,\"#bd3786\"],[0.5555555555555556,\"#d8576b\"],[0.6666666666666666,\"#ed7953\"],[0.7777777777777778,\"#fb9f3a\"],[0.8888888888888888,\"#fdca26\"],[1.0,\"#f0f921\"]],\"type\":\"heatmapgl\"}],\"heatmap\":[{\"colorbar\":{\"outlinewidth\":0,\"ticks\":\"\"},\"colorscale\":[[0.0,\"#0d0887\"],[0.1111111111111111,\"#46039f\"],[0.2222222222222222,\"#7201a8\"],[0.3333333333333333,\"#9c179e\"],[0.4444444444444444,\"#bd3786\"],[0.5555555555555556,\"#d8576b\"],[0.6666666666666666,\"#ed7953\"],[0.7777777777777778,\"#fb9f3a\"],[0.8888888888888888,\"#fdca26\"],[1.0,\"#f0f921\"]],\"type\":\"heatmap\"}],\"histogram2dcontour\":[{\"colorbar\":{\"outlinewidth\":0,\"ticks\":\"\"},\"colorscale\":[[0.0,\"#0d0887\"],[0.1111111111111111,\"#46039f\"],[0.2222222222222222,\"#7201a8\"],[0.3333333333333333,\"#9c179e\"],[0.4444444444444444,\"#bd3786\"],[0.5555555555555556,\"#d8576b\"],[0.6666666666666666,\"#ed7953\"],[0.7777777777777778,\"#fb9f3a\"],[0.8888888888888888,\"#fdca26\"],[1.0,\"#f0f921\"]],\"type\":\"histogram2dcontour\"}],\"histogram2d\":[{\"colorbar\":{\"outlinewidth\":0,\"ticks\":\"\"},\"colorscale\":[[0.0,\"#0d0887\"],[0.1111111111111111,\"#46039f\"],[0.2222222222222222,\"#7201a8\"],[0.3333333333333333,\"#9c179e\"],[0.4444444444444444,\"#bd3786\"],[0.5555555555555556,\"#d8576b\"],[0.6666666666666666,\"#ed7953\"],[0.7777777777777778,\"#fb9f3a\"],[0.8888888888888888,\"#fdca26\"],[1.0,\"#f0f921\"]],\"type\":\"histogram2d\"}],\"histogram\":[{\"marker\":{\"pattern\":{\"fillmode\":\"overlay\",\"size\":10,\"solidity\":0.2}},\"type\":\"histogram\"}],\"mesh3d\":[{\"colorbar\":{\"outlinewidth\":0,\"ticks\":\"\"},\"type\":\"mesh3d\"}],\"parcoords\":[{\"line\":{\"colorbar\":{\"outlinewidth\":0,\"ticks\":\"\"}},\"type\":\"parcoords\"}],\"pie\":[{\"automargin\":true,\"type\":\"pie\"}],\"scatter3d\":[{\"line\":{\"colorbar\":{\"outlinewidth\":0,\"ticks\":\"\"}},\"marker\":{\"colorbar\":{\"outlinewidth\":0,\"ticks\":\"\"}},\"type\":\"scatter3d\"}],\"scattercarpet\":[{\"marker\":{\"colorbar\":{\"outlinewidth\":0,\"ticks\":\"\"}},\"type\":\"scattercarpet\"}],\"scattergeo\":[{\"marker\":{\"colorbar\":{\"outlinewidth\":0,\"ticks\":\"\"}},\"type\":\"scattergeo\"}],\"scattergl\":[{\"marker\":{\"colorbar\":{\"outlinewidth\":0,\"ticks\":\"\"}},\"type\":\"scattergl\"}],\"scattermapbox\":[{\"marker\":{\"colorbar\":{\"outlinewidth\":0,\"ticks\":\"\"}},\"type\":\"scattermapbox\"}],\"scatterpolargl\":[{\"marker\":{\"colorbar\":{\"outlinewidth\":0,\"ticks\":\"\"}},\"type\":\"scatterpolargl\"}],\"scatterpolar\":[{\"marker\":{\"colorbar\":{\"outlinewidth\":0,\"ticks\":\"\"}},\"type\":\"scatterpolar\"}],\"scatter\":[{\"marker\":{\"colorbar\":{\"outlinewidth\":0,\"ticks\":\"\"}},\"type\":\"scatter\"}],\"scatterternary\":[{\"marker\":{\"colorbar\":{\"outlinewidth\":0,\"ticks\":\"\"}},\"type\":\"scatterternary\"}],\"surface\":[{\"colorbar\":{\"outlinewidth\":0,\"ticks\":\"\"},\"colorscale\":[[0.0,\"#0d0887\"],[0.1111111111111111,\"#46039f\"],[0.2222222222222222,\"#7201a8\"],[0.3333333333333333,\"#9c179e\"],[0.4444444444444444,\"#bd3786\"],[0.5555555555555556,\"#d8576b\"],[0.6666666666666666,\"#ed7953\"],[0.7777777777777778,\"#fb9f3a\"],[0.8888888888888888,\"#fdca26\"],[1.0,\"#f0f921\"]],\"type\":\"surface\"}],\"table\":[{\"cells\":{\"fill\":{\"color\":\"#EBF0F8\"},\"line\":{\"color\":\"white\"}},\"header\":{\"fill\":{\"color\":\"#C8D4E3\"},\"line\":{\"color\":\"white\"}},\"type\":\"table\"}]},\"layout\":{\"annotationdefaults\":{\"arrowcolor\":\"#2a3f5f\",\"arrowhead\":0,\"arrowwidth\":1},\"autotypenumbers\":\"strict\",\"coloraxis\":{\"colorbar\":{\"outlinewidth\":0,\"ticks\":\"\"}},\"colorscale\":{\"diverging\":[[0,\"#8e0152\"],[0.1,\"#c51b7d\"],[0.2,\"#de77ae\"],[0.3,\"#f1b6da\"],[0.4,\"#fde0ef\"],[0.5,\"#f7f7f7\"],[0.6,\"#e6f5d0\"],[0.7,\"#b8e186\"],[0.8,\"#7fbc41\"],[0.9,\"#4d9221\"],[1,\"#276419\"]],\"sequential\":[[0.0,\"#0d0887\"],[0.1111111111111111,\"#46039f\"],[0.2222222222222222,\"#7201a8\"],[0.3333333333333333,\"#9c179e\"],[0.4444444444444444,\"#bd3786\"],[0.5555555555555556,\"#d8576b\"],[0.6666666666666666,\"#ed7953\"],[0.7777777777777778,\"#fb9f3a\"],[0.8888888888888888,\"#fdca26\"],[1.0,\"#f0f921\"]],\"sequentialminus\":[[0.0,\"#0d0887\"],[0.1111111111111111,\"#46039f\"],[0.2222222222222222,\"#7201a8\"],[0.3333333333333333,\"#9c179e\"],[0.4444444444444444,\"#bd3786\"],[0.5555555555555556,\"#d8576b\"],[0.6666666666666666,\"#ed7953\"],[0.7777777777777778,\"#fb9f3a\"],[0.8888888888888888,\"#fdca26\"],[1.0,\"#f0f921\"]]},\"colorway\":[\"#636efa\",\"#EF553B\",\"#00cc96\",\"#ab63fa\",\"#FFA15A\",\"#19d3f3\",\"#FF6692\",\"#B6E880\",\"#FF97FF\",\"#FECB52\"],\"font\":{\"color\":\"#2a3f5f\"},\"geo\":{\"bgcolor\":\"white\",\"lakecolor\":\"white\",\"landcolor\":\"#E5ECF6\",\"showlakes\":true,\"showland\":true,\"subunitcolor\":\"white\"},\"hoverlabel\":{\"align\":\"left\"},\"hovermode\":\"closest\",\"mapbox\":{\"style\":\"light\"},\"paper_bgcolor\":\"white\",\"plot_bgcolor\":\"#E5ECF6\",\"polar\":{\"angularaxis\":{\"gridcolor\":\"white\",\"linecolor\":\"white\",\"ticks\":\"\"},\"bgcolor\":\"#E5ECF6\",\"radialaxis\":{\"gridcolor\":\"white\",\"linecolor\":\"white\",\"ticks\":\"\"}},\"scene\":{\"xaxis\":{\"backgroundcolor\":\"#E5ECF6\",\"gridcolor\":\"white\",\"gridwidth\":2,\"linecolor\":\"white\",\"showbackground\":true,\"ticks\":\"\",\"zerolinecolor\":\"white\"},\"yaxis\":{\"backgroundcolor\":\"#E5ECF6\",\"gridcolor\":\"white\",\"gridwidth\":2,\"linecolor\":\"white\",\"showbackground\":true,\"ticks\":\"\",\"zerolinecolor\":\"white\"},\"zaxis\":{\"backgroundcolor\":\"#E5ECF6\",\"gridcolor\":\"white\",\"gridwidth\":2,\"linecolor\":\"white\",\"showbackground\":true,\"ticks\":\"\",\"zerolinecolor\":\"white\"}},\"shapedefaults\":{\"line\":{\"color\":\"#2a3f5f\"}},\"ternary\":{\"aaxis\":{\"gridcolor\":\"white\",\"linecolor\":\"white\",\"ticks\":\"\"},\"baxis\":{\"gridcolor\":\"white\",\"linecolor\":\"white\",\"ticks\":\"\"},\"bgcolor\":\"#E5ECF6\",\"caxis\":{\"gridcolor\":\"white\",\"linecolor\":\"white\",\"ticks\":\"\"}},\"title\":{\"x\":0.05},\"xaxis\":{\"automargin\":true,\"gridcolor\":\"white\",\"linecolor\":\"white\",\"ticks\":\"\",\"title\":{\"standoff\":15},\"zerolinecolor\":\"white\",\"zerolinewidth\":2},\"yaxis\":{\"automargin\":true,\"gridcolor\":\"white\",\"linecolor\":\"white\",\"ticks\":\"\",\"title\":{\"standoff\":15},\"zerolinecolor\":\"white\",\"zerolinewidth\":2}}},\"title\":{\"font\":{\"color\":\"#4D5663\"}},\"xaxis\":{\"gridcolor\":\"#E1E5ED\",\"showgrid\":true,\"tickfont\":{\"color\":\"#4D5663\"},\"title\":{\"font\":{\"color\":\"#4D5663\"},\"text\":\"\"},\"zerolinecolor\":\"#E1E5ED\"},\"yaxis\":{\"gridcolor\":\"#E1E5ED\",\"showgrid\":true,\"tickfont\":{\"color\":\"#4D5663\"},\"title\":{\"font\":{\"color\":\"#4D5663\"},\"text\":\"\"},\"zerolinecolor\":\"#E1E5ED\"}},                        {\"showLink\": true, \"linkText\": \"Export to plot.ly\", \"plotlyServerURL\": \"https://plot.ly\", \"responsive\": true}                    ).then(function(){\n",
              "                            \n",
              "var gd = document.getElementById('9ccdbed7-3c60-4759-87d5-4ca32bc8c921');\n",
              "var x = new MutationObserver(function (mutations, observer) {{\n",
              "        var display = window.getComputedStyle(gd).display;\n",
              "        if (!display || display === 'none') {{\n",
              "            console.log([gd, 'removed!']);\n",
              "            Plotly.purge(gd);\n",
              "            observer.disconnect();\n",
              "        }}\n",
              "}});\n",
              "\n",
              "// Listen for the removal of the full notebook cells\n",
              "var notebookContainer = gd.closest('#notebook-container');\n",
              "if (notebookContainer) {{\n",
              "    x.observe(notebookContainer, {childList: true});\n",
              "}}\n",
              "\n",
              "// Listen for the clearing of the current output cell\n",
              "var outputEl = gd.closest('.output');\n",
              "if (outputEl) {{\n",
              "    x.observe(outputEl, {childList: true});\n",
              "}}\n",
              "\n",
              "                        })                };                });            </script>        </div>"
            ]
          },
          "metadata": {}
        }
      ]
    },
    {
      "cell_type": "code",
      "source": [
        "recovered.iplot(kind='bar',x='Date',y='Recovered')"
      ],
      "metadata": {
        "colab": {
          "base_uri": "https://localhost:8080/",
          "height": 542
        },
        "id": "ngDEzGvLf_yh",
        "outputId": "a3f957c7-e996-428f-e53f-c3d5c845f12a"
      },
      "execution_count": 25,
      "outputs": [
        {
          "output_type": "display_data",
          "data": {
            "application/vnd.plotly.v1+json": {
              "data": [
                {
                  "marker": {
                    "color": "rgba(255, 153, 51, 0.6)",
                    "line": {
                      "color": "rgba(255, 153, 51, 1.0)",
                      "width": 1
                    }
                  },
                  "name": "Recovered",
                  "orientation": "v",
                  "text": "",
                  "x": [
                    "01/01/2021",
                    "01/02/2021",
                    "01/03/2021",
                    "01/04/2021",
                    "01/05/2021",
                    "01/06/2021",
                    "01/07/2021",
                    "01/08/2021",
                    "01/09/2021",
                    "01/10/2021",
                    "01/11/2021",
                    "01/12/2021",
                    "01/13/2021",
                    "01/14/2021",
                    "01/22/2020",
                    "01/23/2020",
                    "01/24/2020",
                    "01/25/2020",
                    "01/26/2020",
                    "01/27/2020",
                    "01/28/2020",
                    "01/29/2020",
                    "01/30/2020",
                    "01/31/2020",
                    "02/01/2020",
                    "02/02/2020",
                    "02/03/2020",
                    "02/04/2020",
                    "02/05/2020",
                    "02/06/2020",
                    "02/07/2020",
                    "02/08/2020",
                    "02/09/2020",
                    "02/10/2020",
                    "02/11/2020",
                    "02/12/2020",
                    "02/13/2020",
                    "02/14/2020",
                    "02/15/2020",
                    "02/16/2020",
                    "02/17/2020",
                    "02/18/2020",
                    "02/19/2020",
                    "02/20/2020",
                    "02/21/2020",
                    "02/22/2020",
                    "02/23/2020",
                    "02/24/2020",
                    "02/25/2020",
                    "02/26/2020",
                    "02/27/2020",
                    "02/28/2020",
                    "02/29/2020",
                    "03/01/2020",
                    "03/02/2020",
                    "03/03/2020",
                    "03/04/2020",
                    "03/05/2020",
                    "03/06/2020",
                    "03/07/2020",
                    "03/08/2020",
                    "03/09/2020",
                    "03/10/2020",
                    "03/11/2020",
                    "03/12/2020",
                    "03/13/2020",
                    "03/14/2020",
                    "03/15/2020",
                    "03/16/2020",
                    "03/17/2020",
                    "03/18/2020",
                    "03/19/2020",
                    "03/20/2020",
                    "03/21/2020",
                    "03/22/2020",
                    "03/23/2020",
                    "03/24/2020",
                    "03/25/2020",
                    "03/26/2020",
                    "03/27/2020",
                    "03/28/2020",
                    "03/29/2020",
                    "03/30/2020",
                    "03/31/2020",
                    "04/01/2020",
                    "04/02/2020",
                    "04/03/2020",
                    "04/04/2020",
                    "04/05/2020",
                    "04/06/2020",
                    "04/07/2020",
                    "04/08/2020",
                    "04/09/2020",
                    "04/10/2020",
                    "04/11/2020",
                    "04/12/2020",
                    "04/13/2020",
                    "04/14/2020",
                    "04/15/2020",
                    "04/16/2020",
                    "04/17/2020",
                    "04/18/2020",
                    "04/19/2020",
                    "04/20/2020",
                    "04/21/2020",
                    "04/22/2020",
                    "04/23/2020",
                    "04/24/2020",
                    "04/25/2020",
                    "04/26/2020",
                    "04/27/2020",
                    "04/28/2020",
                    "04/29/2020",
                    "04/30/2020",
                    "05/01/2020",
                    "05/02/2020",
                    "05/03/2020",
                    "05/04/2020",
                    "05/05/2020",
                    "05/06/2020",
                    "05/07/2020",
                    "05/08/2020",
                    "05/09/2020",
                    "05/10/2020",
                    "05/11/2020",
                    "05/12/2020",
                    "05/13/2020",
                    "05/14/2020",
                    "05/15/2020",
                    "05/16/2020",
                    "05/17/2020",
                    "05/18/2020",
                    "05/19/2020",
                    "05/20/2020",
                    "05/21/2020",
                    "05/22/2020",
                    "05/23/2020",
                    "05/24/2020",
                    "05/25/2020",
                    "05/26/2020",
                    "05/27/2020",
                    "05/28/2020",
                    "05/29/2020",
                    "05/30/2020",
                    "05/31/2020",
                    "06/01/2020",
                    "06/02/2020",
                    "06/03/2020",
                    "06/04/2020",
                    "06/05/2020",
                    "06/06/2020",
                    "06/07/2020",
                    "06/08/2020",
                    "06/09/2020",
                    "06/10/2020",
                    "06/11/2020",
                    "06/12/2020",
                    "06/13/2020",
                    "06/14/2020",
                    "06/15/2020",
                    "06/16/2020",
                    "06/17/2020",
                    "06/18/2020",
                    "06/19/2020",
                    "06/20/2020",
                    "06/21/2020",
                    "06/22/2020",
                    "06/23/2020",
                    "06/24/2020",
                    "06/25/2020",
                    "06/26/2020",
                    "06/27/2020",
                    "06/28/2020",
                    "06/29/2020",
                    "06/30/2020",
                    "07/01/2020",
                    "07/02/2020",
                    "07/03/2020",
                    "07/04/2020",
                    "07/05/2020",
                    "07/06/2020",
                    "07/07/2020",
                    "07/08/2020",
                    "07/09/2020",
                    "07/10/2020",
                    "07/11/2020",
                    "07/12/2020",
                    "07/13/2020",
                    "07/14/2020",
                    "07/15/2020",
                    "07/16/2020",
                    "07/17/2020",
                    "07/18/2020",
                    "07/19/2020",
                    "07/20/2020",
                    "07/21/2020",
                    "07/22/2020",
                    "07/23/2020",
                    "07/24/2020",
                    "07/25/2020",
                    "07/26/2020",
                    "07/27/2020",
                    "07/28/2020",
                    "07/29/2020",
                    "07/30/2020",
                    "07/31/2020",
                    "08/01/2020",
                    "08/02/2020",
                    "08/03/2020",
                    "08/04/2020",
                    "08/05/2020",
                    "08/06/2020",
                    "08/07/2020",
                    "08/08/2020",
                    "08/09/2020",
                    "08/10/2020",
                    "08/11/2020",
                    "08/12/2020",
                    "08/13/2020",
                    "08/14/2020",
                    "08/15/2020",
                    "08/16/2020",
                    "08/17/2020",
                    "08/18/2020",
                    "08/19/2020",
                    "08/20/2020",
                    "08/21/2020",
                    "08/22/2020",
                    "08/23/2020",
                    "08/24/2020",
                    "08/25/2020",
                    "08/26/2020",
                    "08/27/2020",
                    "08/28/2020",
                    "08/29/2020",
                    "08/30/2020",
                    "08/31/2020",
                    "09/01/2020",
                    "09/02/2020",
                    "09/03/2020",
                    "09/04/2020",
                    "09/05/2020",
                    "09/06/2020",
                    "09/07/2020",
                    "09/08/2020",
                    "09/09/2020",
                    "09/10/2020",
                    "09/11/2020",
                    "09/12/2020",
                    "09/13/2020",
                    "09/14/2020",
                    "09/15/2020",
                    "09/16/2020",
                    "09/17/2020",
                    "09/18/2020",
                    "09/19/2020",
                    "09/20/2020",
                    "09/21/2020",
                    "09/22/2020",
                    "09/23/2020",
                    "09/24/2020",
                    "09/25/2020",
                    "09/26/2020",
                    "09/27/2020",
                    "09/28/2020",
                    "09/29/2020",
                    "09/30/2020",
                    "10/01/2020",
                    "10/02/2020",
                    "10/03/2020",
                    "10/04/2020",
                    "10/05/2020",
                    "10/06/2020",
                    "10/07/2020",
                    "10/08/2020",
                    "10/09/2020",
                    "10/10/2020",
                    "10/11/2020",
                    "10/12/2020",
                    "10/13/2020",
                    "10/14/2020",
                    "10/15/2020",
                    "10/16/2020",
                    "10/17/2020",
                    "10/18/2020",
                    "10/19/2020",
                    "10/20/2020",
                    "10/21/2020",
                    "10/22/2020",
                    "10/23/2020",
                    "10/24/2020",
                    "10/25/2020",
                    "10/26/2020",
                    "10/27/2020",
                    "10/28/2020",
                    "10/29/2020",
                    "10/30/2020",
                    "10/31/2020",
                    "11/01/2020",
                    "11/02/2020",
                    "11/03/2020",
                    "11/04/2020",
                    "11/05/2020",
                    "11/06/2020",
                    "11/07/2020",
                    "11/08/2020",
                    "11/09/2020",
                    "11/10/2020",
                    "11/11/2020",
                    "11/12/2020",
                    "11/13/2020",
                    "11/14/2020",
                    "11/15/2020",
                    "11/16/2020",
                    "11/17/2020",
                    "11/18/2020",
                    "11/19/2020",
                    "11/20/2020",
                    "11/21/2020",
                    "11/22/2020",
                    "11/23/2020",
                    "11/24/2020",
                    "11/25/2020",
                    "11/26/2020",
                    "11/27/2020",
                    "11/28/2020",
                    "11/29/2020",
                    "11/30/2020",
                    "12/01/2020",
                    "12/02/2020",
                    "12/03/2020",
                    "12/04/2020",
                    "12/05/2020",
                    "12/06/2020",
                    "12/07/2020",
                    "12/08/2020",
                    "12/09/2020",
                    "12/10/2020",
                    "12/11/2020",
                    "12/12/2020",
                    "12/13/2020",
                    "12/14/2020",
                    "12/15/2020",
                    "12/16/2020",
                    "12/17/2020",
                    "12/18/2020",
                    "12/19/2020",
                    "12/20/2020",
                    "12/21/2020",
                    "12/22/2020",
                    "12/23/2020",
                    "12/24/2020",
                    "12/25/2020",
                    "12/26/2020",
                    "12/27/2020",
                    "12/28/2020",
                    "12/29/2020",
                    "12/30/2020",
                    "12/31/2020"
                  ],
                  "y": [
                    47313005,
                    47614297,
                    47882779,
                    48173187,
                    48488548,
                    48801673,
                    49125604,
                    49422867,
                    49753112,
                    50023662,
                    50313950,
                    50657507,
                    51023568,
                    22479993,
                    30,
                    60,
                    39,
                    42,
                    56,
                    65,
                    108,
                    127,
                    145,
                    225,
                    287,
                    476,
                    627,
                    857,
                    1129,
                    1492,
                    2016,
                    2616,
                    3245,
                    3947,
                    4684,
                    5151,
                    6294,
                    8057,
                    9396,
                    10866,
                    12583,
                    14352,
                    16121,
                    18179,
                    18892,
                    22889,
                    23394,
                    25227,
                    27905,
                    30386,
                    33278,
                    36710,
                    39781,
                    42717,
                    45601,
                    48228,
                    51170,
                    53796,
                    55864,
                    58357,
                    60695,
                    62512,
                    64400,
                    66999,
                    68321,
                    70248,
                    72622,
                    76033,
                    78088,
                    80832,
                    83308,
                    84961,
                    87402,
                    91655,
                    97225,
                    100942,
                    107681,
                    113742,
                    122124,
                    130898,
                    139406,
                    149062,
                    164437,
                    178007,
                    193329,
                    210515,
                    226022,
                    246373,
                    260229,
                    276861,
                    300271,
                    329044,
                    354264,
                    376321,
                    402328,
                    421909,
                    448932,
                    474523,
                    511150,
                    542301,
                    568598,
                    592521,
                    624233,
                    646256,
                    680296,
                    709831,
                    738573,
                    793485,
                    816726,
                    865981,
                    894330,
                    928962,
                    972918,
                    1015102,
                    1053580,
                    1093137,
                    1125478,
                    1162965,
                    1199006,
                    1245700,
                    1285085,
                    1322257,
                    1375722,
                    1409293,
                    1456413,
                    1493639,
                    1548788,
                    1588129,
                    1637398,
                    1693347,
                    1734214,
                    1787121,
                    1839188,
                    1897701,
                    1948929,
                    2056729,
                    2112134,
                    2168599,
                    2231780,
                    2286936,
                    2350002,
                    2415880,
                    2493374,
                    2564529,
                    2641229,
                    2695937,
                    2729444,
                    2804886,
                    2869884,
                    3013059,
                    3085760,
                    3140855,
                    3293391,
                    3375644,
                    3454811,
                    3540697,
                    3613274,
                    3698259,
                    3769701,
                    3857395,
                    3955248,
                    4074078,
                    4155243,
                    4245896,
                    4378403,
                    4447183,
                    4526437,
                    4630475,
                    4746193,
                    4839024,
                    4944926,
                    5051154,
                    5140272,
                    5235191,
                    5352668,
                    5577068,
                    5753447,
                    5863276,
                    6058921,
                    6178403,
                    6302110,
                    6447148,
                    6605164,
                    6739827,
                    6879278,
                    7005039,
                    7116854,
                    7257245,
                    7399402,
                    7559205,
                    7711593,
                    7895069,
                    8045836,
                    8133853,
                    8290753,
                    8467518,
                    8646273,
                    8823668,
                    9051968,
                    9271780,
                    9409711,
                    9586464,
                    9721636,
                    9959508,
                    10173027,
                    10372633,
                    10553544,
                    10692268,
                    10914713,
                    11135940,
                    11357635,
                    11546442,
                    11738488,
                    11938732,
                    12117483,
                    12281694,
                    12586762,
                    12828274,
                    12991323,
                    13274565,
                    13443169,
                    13676123,
                    13887135,
                    14114730,
                    14332727,
                    14540517,
                    14709011,
                    14908070,
                    15135052,
                    15334473,
                    15566022,
                    15791657,
                    16000171,
                    16199749,
                    16411129,
                    16621344,
                    16822117,
                    17077391,
                    17295478,
                    17516847,
                    17721278,
                    17921785,
                    18143127,
                    18329625,
                    18529251,
                    18781963,
                    18998624,
                    19222294,
                    19445228,
                    19633076,
                    19782283,
                    20086278,
                    20315755,
                    20535966,
                    20787115,
                    21024100,
                    21261177,
                    21506655,
                    21724453,
                    21987866,
                    22243536,
                    22482744,
                    22744887,
                    22958766,
                    23181308,
                    23421347,
                    23669565,
                    23882866,
                    24063392,
                    24318993,
                    24541152,
                    24778620,
                    25009733,
                    25264924,
                    25484501,
                    25691358,
                    25886763,
                    26109403,
                    26309718,
                    26498939,
                    26711282,
                    26918203,
                    27121217,
                    27319500,
                    27521011,
                    27723542,
                    27931677,
                    28142899,
                    28369692,
                    28576426,
                    28788007,
                    28986101,
                    29224400,
                    29814105,
                    30076742,
                    30323493,
                    29715704,
                    30845020,
                    31102837,
                    31383407,
                    31634980,
                    31914299,
                    32217954,
                    32506315,
                    32805331,
                    33058571,
                    33315624,
                    33572984,
                    33953208,
                    34179447,
                    34481579,
                    34759398,
                    34990158,
                    35379591,
                    35814479,
                    36177589,
                    36551888,
                    36907312,
                    37246582,
                    37520306,
                    37931519,
                    38303698,
                    38741108,
                    39107984,
                    39489610,
                    39849316,
                    40167599,
                    40569855,
                    41046059,
                    41508985,
                    41935969,
                    42426586,
                    42862534,
                    43178578,
                    43591717,
                    44032488,
                    44458968,
                    44950194,
                    45428334,
                    46933277,
                    47328396,
                    47737930,
                    41696563,
                    42058783,
                    42434192,
                    42751920,
                    43103506,
                    43380335,
                    43723555,
                    44086740,
                    44410880,
                    44725552,
                    45017158,
                    45425322,
                    45717710,
                    46016136,
                    46369231,
                    46757476,
                    47032627
                  ],
                  "type": "bar"
                }
              ],
              "layout": {
                "legend": {
                  "bgcolor": "#F5F6F9",
                  "font": {
                    "color": "#4D5663"
                  }
                },
                "paper_bgcolor": "#F5F6F9",
                "plot_bgcolor": "#F5F6F9",
                "template": {
                  "data": {
                    "barpolar": [
                      {
                        "marker": {
                          "line": {
                            "color": "#E5ECF6",
                            "width": 0.5
                          },
                          "pattern": {
                            "fillmode": "overlay",
                            "size": 10,
                            "solidity": 0.2
                          }
                        },
                        "type": "barpolar"
                      }
                    ],
                    "bar": [
                      {
                        "error_x": {
                          "color": "#2a3f5f"
                        },
                        "error_y": {
                          "color": "#2a3f5f"
                        },
                        "marker": {
                          "line": {
                            "color": "#E5ECF6",
                            "width": 0.5
                          },
                          "pattern": {
                            "fillmode": "overlay",
                            "size": 10,
                            "solidity": 0.2
                          }
                        },
                        "type": "bar"
                      }
                    ],
                    "carpet": [
                      {
                        "aaxis": {
                          "endlinecolor": "#2a3f5f",
                          "gridcolor": "white",
                          "linecolor": "white",
                          "minorgridcolor": "white",
                          "startlinecolor": "#2a3f5f"
                        },
                        "baxis": {
                          "endlinecolor": "#2a3f5f",
                          "gridcolor": "white",
                          "linecolor": "white",
                          "minorgridcolor": "white",
                          "startlinecolor": "#2a3f5f"
                        },
                        "type": "carpet"
                      }
                    ],
                    "choropleth": [
                      {
                        "colorbar": {
                          "outlinewidth": 0,
                          "ticks": ""
                        },
                        "type": "choropleth"
                      }
                    ],
                    "contourcarpet": [
                      {
                        "colorbar": {
                          "outlinewidth": 0,
                          "ticks": ""
                        },
                        "type": "contourcarpet"
                      }
                    ],
                    "contour": [
                      {
                        "colorbar": {
                          "outlinewidth": 0,
                          "ticks": ""
                        },
                        "colorscale": [
                          [
                            0,
                            "#0d0887"
                          ],
                          [
                            0.1111111111111111,
                            "#46039f"
                          ],
                          [
                            0.2222222222222222,
                            "#7201a8"
                          ],
                          [
                            0.3333333333333333,
                            "#9c179e"
                          ],
                          [
                            0.4444444444444444,
                            "#bd3786"
                          ],
                          [
                            0.5555555555555556,
                            "#d8576b"
                          ],
                          [
                            0.6666666666666666,
                            "#ed7953"
                          ],
                          [
                            0.7777777777777778,
                            "#fb9f3a"
                          ],
                          [
                            0.8888888888888888,
                            "#fdca26"
                          ],
                          [
                            1,
                            "#f0f921"
                          ]
                        ],
                        "type": "contour"
                      }
                    ],
                    "heatmapgl": [
                      {
                        "colorbar": {
                          "outlinewidth": 0,
                          "ticks": ""
                        },
                        "colorscale": [
                          [
                            0,
                            "#0d0887"
                          ],
                          [
                            0.1111111111111111,
                            "#46039f"
                          ],
                          [
                            0.2222222222222222,
                            "#7201a8"
                          ],
                          [
                            0.3333333333333333,
                            "#9c179e"
                          ],
                          [
                            0.4444444444444444,
                            "#bd3786"
                          ],
                          [
                            0.5555555555555556,
                            "#d8576b"
                          ],
                          [
                            0.6666666666666666,
                            "#ed7953"
                          ],
                          [
                            0.7777777777777778,
                            "#fb9f3a"
                          ],
                          [
                            0.8888888888888888,
                            "#fdca26"
                          ],
                          [
                            1,
                            "#f0f921"
                          ]
                        ],
                        "type": "heatmapgl"
                      }
                    ],
                    "heatmap": [
                      {
                        "colorbar": {
                          "outlinewidth": 0,
                          "ticks": ""
                        },
                        "colorscale": [
                          [
                            0,
                            "#0d0887"
                          ],
                          [
                            0.1111111111111111,
                            "#46039f"
                          ],
                          [
                            0.2222222222222222,
                            "#7201a8"
                          ],
                          [
                            0.3333333333333333,
                            "#9c179e"
                          ],
                          [
                            0.4444444444444444,
                            "#bd3786"
                          ],
                          [
                            0.5555555555555556,
                            "#d8576b"
                          ],
                          [
                            0.6666666666666666,
                            "#ed7953"
                          ],
                          [
                            0.7777777777777778,
                            "#fb9f3a"
                          ],
                          [
                            0.8888888888888888,
                            "#fdca26"
                          ],
                          [
                            1,
                            "#f0f921"
                          ]
                        ],
                        "type": "heatmap"
                      }
                    ],
                    "histogram2dcontour": [
                      {
                        "colorbar": {
                          "outlinewidth": 0,
                          "ticks": ""
                        },
                        "colorscale": [
                          [
                            0,
                            "#0d0887"
                          ],
                          [
                            0.1111111111111111,
                            "#46039f"
                          ],
                          [
                            0.2222222222222222,
                            "#7201a8"
                          ],
                          [
                            0.3333333333333333,
                            "#9c179e"
                          ],
                          [
                            0.4444444444444444,
                            "#bd3786"
                          ],
                          [
                            0.5555555555555556,
                            "#d8576b"
                          ],
                          [
                            0.6666666666666666,
                            "#ed7953"
                          ],
                          [
                            0.7777777777777778,
                            "#fb9f3a"
                          ],
                          [
                            0.8888888888888888,
                            "#fdca26"
                          ],
                          [
                            1,
                            "#f0f921"
                          ]
                        ],
                        "type": "histogram2dcontour"
                      }
                    ],
                    "histogram2d": [
                      {
                        "colorbar": {
                          "outlinewidth": 0,
                          "ticks": ""
                        },
                        "colorscale": [
                          [
                            0,
                            "#0d0887"
                          ],
                          [
                            0.1111111111111111,
                            "#46039f"
                          ],
                          [
                            0.2222222222222222,
                            "#7201a8"
                          ],
                          [
                            0.3333333333333333,
                            "#9c179e"
                          ],
                          [
                            0.4444444444444444,
                            "#bd3786"
                          ],
                          [
                            0.5555555555555556,
                            "#d8576b"
                          ],
                          [
                            0.6666666666666666,
                            "#ed7953"
                          ],
                          [
                            0.7777777777777778,
                            "#fb9f3a"
                          ],
                          [
                            0.8888888888888888,
                            "#fdca26"
                          ],
                          [
                            1,
                            "#f0f921"
                          ]
                        ],
                        "type": "histogram2d"
                      }
                    ],
                    "histogram": [
                      {
                        "marker": {
                          "pattern": {
                            "fillmode": "overlay",
                            "size": 10,
                            "solidity": 0.2
                          }
                        },
                        "type": "histogram"
                      }
                    ],
                    "mesh3d": [
                      {
                        "colorbar": {
                          "outlinewidth": 0,
                          "ticks": ""
                        },
                        "type": "mesh3d"
                      }
                    ],
                    "parcoords": [
                      {
                        "line": {
                          "colorbar": {
                            "outlinewidth": 0,
                            "ticks": ""
                          }
                        },
                        "type": "parcoords"
                      }
                    ],
                    "pie": [
                      {
                        "automargin": true,
                        "type": "pie"
                      }
                    ],
                    "scatter3d": [
                      {
                        "line": {
                          "colorbar": {
                            "outlinewidth": 0,
                            "ticks": ""
                          }
                        },
                        "marker": {
                          "colorbar": {
                            "outlinewidth": 0,
                            "ticks": ""
                          }
                        },
                        "type": "scatter3d"
                      }
                    ],
                    "scattercarpet": [
                      {
                        "marker": {
                          "colorbar": {
                            "outlinewidth": 0,
                            "ticks": ""
                          }
                        },
                        "type": "scattercarpet"
                      }
                    ],
                    "scattergeo": [
                      {
                        "marker": {
                          "colorbar": {
                            "outlinewidth": 0,
                            "ticks": ""
                          }
                        },
                        "type": "scattergeo"
                      }
                    ],
                    "scattergl": [
                      {
                        "marker": {
                          "colorbar": {
                            "outlinewidth": 0,
                            "ticks": ""
                          }
                        },
                        "type": "scattergl"
                      }
                    ],
                    "scattermapbox": [
                      {
                        "marker": {
                          "colorbar": {
                            "outlinewidth": 0,
                            "ticks": ""
                          }
                        },
                        "type": "scattermapbox"
                      }
                    ],
                    "scatterpolargl": [
                      {
                        "marker": {
                          "colorbar": {
                            "outlinewidth": 0,
                            "ticks": ""
                          }
                        },
                        "type": "scatterpolargl"
                      }
                    ],
                    "scatterpolar": [
                      {
                        "marker": {
                          "colorbar": {
                            "outlinewidth": 0,
                            "ticks": ""
                          }
                        },
                        "type": "scatterpolar"
                      }
                    ],
                    "scatter": [
                      {
                        "marker": {
                          "colorbar": {
                            "outlinewidth": 0,
                            "ticks": ""
                          }
                        },
                        "type": "scatter"
                      }
                    ],
                    "scatterternary": [
                      {
                        "marker": {
                          "colorbar": {
                            "outlinewidth": 0,
                            "ticks": ""
                          }
                        },
                        "type": "scatterternary"
                      }
                    ],
                    "surface": [
                      {
                        "colorbar": {
                          "outlinewidth": 0,
                          "ticks": ""
                        },
                        "colorscale": [
                          [
                            0,
                            "#0d0887"
                          ],
                          [
                            0.1111111111111111,
                            "#46039f"
                          ],
                          [
                            0.2222222222222222,
                            "#7201a8"
                          ],
                          [
                            0.3333333333333333,
                            "#9c179e"
                          ],
                          [
                            0.4444444444444444,
                            "#bd3786"
                          ],
                          [
                            0.5555555555555556,
                            "#d8576b"
                          ],
                          [
                            0.6666666666666666,
                            "#ed7953"
                          ],
                          [
                            0.7777777777777778,
                            "#fb9f3a"
                          ],
                          [
                            0.8888888888888888,
                            "#fdca26"
                          ],
                          [
                            1,
                            "#f0f921"
                          ]
                        ],
                        "type": "surface"
                      }
                    ],
                    "table": [
                      {
                        "cells": {
                          "fill": {
                            "color": "#EBF0F8"
                          },
                          "line": {
                            "color": "white"
                          }
                        },
                        "header": {
                          "fill": {
                            "color": "#C8D4E3"
                          },
                          "line": {
                            "color": "white"
                          }
                        },
                        "type": "table"
                      }
                    ]
                  },
                  "layout": {
                    "annotationdefaults": {
                      "arrowcolor": "#2a3f5f",
                      "arrowhead": 0,
                      "arrowwidth": 1
                    },
                    "autotypenumbers": "strict",
                    "coloraxis": {
                      "colorbar": {
                        "outlinewidth": 0,
                        "ticks": ""
                      }
                    },
                    "colorscale": {
                      "diverging": [
                        [
                          0,
                          "#8e0152"
                        ],
                        [
                          0.1,
                          "#c51b7d"
                        ],
                        [
                          0.2,
                          "#de77ae"
                        ],
                        [
                          0.3,
                          "#f1b6da"
                        ],
                        [
                          0.4,
                          "#fde0ef"
                        ],
                        [
                          0.5,
                          "#f7f7f7"
                        ],
                        [
                          0.6,
                          "#e6f5d0"
                        ],
                        [
                          0.7,
                          "#b8e186"
                        ],
                        [
                          0.8,
                          "#7fbc41"
                        ],
                        [
                          0.9,
                          "#4d9221"
                        ],
                        [
                          1,
                          "#276419"
                        ]
                      ],
                      "sequential": [
                        [
                          0,
                          "#0d0887"
                        ],
                        [
                          0.1111111111111111,
                          "#46039f"
                        ],
                        [
                          0.2222222222222222,
                          "#7201a8"
                        ],
                        [
                          0.3333333333333333,
                          "#9c179e"
                        ],
                        [
                          0.4444444444444444,
                          "#bd3786"
                        ],
                        [
                          0.5555555555555556,
                          "#d8576b"
                        ],
                        [
                          0.6666666666666666,
                          "#ed7953"
                        ],
                        [
                          0.7777777777777778,
                          "#fb9f3a"
                        ],
                        [
                          0.8888888888888888,
                          "#fdca26"
                        ],
                        [
                          1,
                          "#f0f921"
                        ]
                      ],
                      "sequentialminus": [
                        [
                          0,
                          "#0d0887"
                        ],
                        [
                          0.1111111111111111,
                          "#46039f"
                        ],
                        [
                          0.2222222222222222,
                          "#7201a8"
                        ],
                        [
                          0.3333333333333333,
                          "#9c179e"
                        ],
                        [
                          0.4444444444444444,
                          "#bd3786"
                        ],
                        [
                          0.5555555555555556,
                          "#d8576b"
                        ],
                        [
                          0.6666666666666666,
                          "#ed7953"
                        ],
                        [
                          0.7777777777777778,
                          "#fb9f3a"
                        ],
                        [
                          0.8888888888888888,
                          "#fdca26"
                        ],
                        [
                          1,
                          "#f0f921"
                        ]
                      ]
                    },
                    "colorway": [
                      "#636efa",
                      "#EF553B",
                      "#00cc96",
                      "#ab63fa",
                      "#FFA15A",
                      "#19d3f3",
                      "#FF6692",
                      "#B6E880",
                      "#FF97FF",
                      "#FECB52"
                    ],
                    "font": {
                      "color": "#2a3f5f"
                    },
                    "geo": {
                      "bgcolor": "white",
                      "lakecolor": "white",
                      "landcolor": "#E5ECF6",
                      "showlakes": true,
                      "showland": true,
                      "subunitcolor": "white"
                    },
                    "hoverlabel": {
                      "align": "left"
                    },
                    "hovermode": "closest",
                    "mapbox": {
                      "style": "light"
                    },
                    "paper_bgcolor": "white",
                    "plot_bgcolor": "#E5ECF6",
                    "polar": {
                      "angularaxis": {
                        "gridcolor": "white",
                        "linecolor": "white",
                        "ticks": ""
                      },
                      "bgcolor": "#E5ECF6",
                      "radialaxis": {
                        "gridcolor": "white",
                        "linecolor": "white",
                        "ticks": ""
                      }
                    },
                    "scene": {
                      "xaxis": {
                        "backgroundcolor": "#E5ECF6",
                        "gridcolor": "white",
                        "gridwidth": 2,
                        "linecolor": "white",
                        "showbackground": true,
                        "ticks": "",
                        "zerolinecolor": "white"
                      },
                      "yaxis": {
                        "backgroundcolor": "#E5ECF6",
                        "gridcolor": "white",
                        "gridwidth": 2,
                        "linecolor": "white",
                        "showbackground": true,
                        "ticks": "",
                        "zerolinecolor": "white"
                      },
                      "zaxis": {
                        "backgroundcolor": "#E5ECF6",
                        "gridcolor": "white",
                        "gridwidth": 2,
                        "linecolor": "white",
                        "showbackground": true,
                        "ticks": "",
                        "zerolinecolor": "white"
                      }
                    },
                    "shapedefaults": {
                      "line": {
                        "color": "#2a3f5f"
                      }
                    },
                    "ternary": {
                      "aaxis": {
                        "gridcolor": "white",
                        "linecolor": "white",
                        "ticks": ""
                      },
                      "baxis": {
                        "gridcolor": "white",
                        "linecolor": "white",
                        "ticks": ""
                      },
                      "bgcolor": "#E5ECF6",
                      "caxis": {
                        "gridcolor": "white",
                        "linecolor": "white",
                        "ticks": ""
                      }
                    },
                    "title": {
                      "x": 0.05
                    },
                    "xaxis": {
                      "automargin": true,
                      "gridcolor": "white",
                      "linecolor": "white",
                      "ticks": "",
                      "title": {
                        "standoff": 15
                      },
                      "zerolinecolor": "white",
                      "zerolinewidth": 2
                    },
                    "yaxis": {
                      "automargin": true,
                      "gridcolor": "white",
                      "linecolor": "white",
                      "ticks": "",
                      "title": {
                        "standoff": 15
                      },
                      "zerolinecolor": "white",
                      "zerolinewidth": 2
                    }
                  }
                },
                "title": {
                  "font": {
                    "color": "#4D5663"
                  }
                },
                "xaxis": {
                  "gridcolor": "#E1E5ED",
                  "showgrid": true,
                  "tickfont": {
                    "color": "#4D5663"
                  },
                  "title": {
                    "font": {
                      "color": "#4D5663"
                    },
                    "text": ""
                  },
                  "zerolinecolor": "#E1E5ED"
                },
                "yaxis": {
                  "gridcolor": "#E1E5ED",
                  "showgrid": true,
                  "tickfont": {
                    "color": "#4D5663"
                  },
                  "title": {
                    "font": {
                      "color": "#4D5663"
                    },
                    "text": ""
                  },
                  "zerolinecolor": "#E1E5ED"
                }
              },
              "config": {
                "showLink": true,
                "linkText": "Export to plot.ly",
                "plotlyServerURL": "https://plot.ly"
              }
            },
            "text/html": [
              "<div>                            <div id=\"06740db2-3286-4965-a238-9c223b9882bd\" class=\"plotly-graph-div\" style=\"height:525px; width:100%;\"></div>            <script type=\"text/javascript\">                require([\"plotly\"], function(Plotly) {                    window.PLOTLYENV=window.PLOTLYENV || {};\n",
              "                    window.PLOTLYENV.BASE_URL='https://plot.ly';                                    if (document.getElementById(\"06740db2-3286-4965-a238-9c223b9882bd\")) {                    Plotly.newPlot(                        \"06740db2-3286-4965-a238-9c223b9882bd\",                        [{\"marker\":{\"color\":\"rgba(255, 153, 51, 0.6)\",\"line\":{\"color\":\"rgba(255, 153, 51, 1.0)\",\"width\":1}},\"name\":\"Recovered\",\"orientation\":\"v\",\"text\":\"\",\"x\":[\"01/01/2021\",\"01/02/2021\",\"01/03/2021\",\"01/04/2021\",\"01/05/2021\",\"01/06/2021\",\"01/07/2021\",\"01/08/2021\",\"01/09/2021\",\"01/10/2021\",\"01/11/2021\",\"01/12/2021\",\"01/13/2021\",\"01/14/2021\",\"01/22/2020\",\"01/23/2020\",\"01/24/2020\",\"01/25/2020\",\"01/26/2020\",\"01/27/2020\",\"01/28/2020\",\"01/29/2020\",\"01/30/2020\",\"01/31/2020\",\"02/01/2020\",\"02/02/2020\",\"02/03/2020\",\"02/04/2020\",\"02/05/2020\",\"02/06/2020\",\"02/07/2020\",\"02/08/2020\",\"02/09/2020\",\"02/10/2020\",\"02/11/2020\",\"02/12/2020\",\"02/13/2020\",\"02/14/2020\",\"02/15/2020\",\"02/16/2020\",\"02/17/2020\",\"02/18/2020\",\"02/19/2020\",\"02/20/2020\",\"02/21/2020\",\"02/22/2020\",\"02/23/2020\",\"02/24/2020\",\"02/25/2020\",\"02/26/2020\",\"02/27/2020\",\"02/28/2020\",\"02/29/2020\",\"03/01/2020\",\"03/02/2020\",\"03/03/2020\",\"03/04/2020\",\"03/05/2020\",\"03/06/2020\",\"03/07/2020\",\"03/08/2020\",\"03/09/2020\",\"03/10/2020\",\"03/11/2020\",\"03/12/2020\",\"03/13/2020\",\"03/14/2020\",\"03/15/2020\",\"03/16/2020\",\"03/17/2020\",\"03/18/2020\",\"03/19/2020\",\"03/20/2020\",\"03/21/2020\",\"03/22/2020\",\"03/23/2020\",\"03/24/2020\",\"03/25/2020\",\"03/26/2020\",\"03/27/2020\",\"03/28/2020\",\"03/29/2020\",\"03/30/2020\",\"03/31/2020\",\"04/01/2020\",\"04/02/2020\",\"04/03/2020\",\"04/04/2020\",\"04/05/2020\",\"04/06/2020\",\"04/07/2020\",\"04/08/2020\",\"04/09/2020\",\"04/10/2020\",\"04/11/2020\",\"04/12/2020\",\"04/13/2020\",\"04/14/2020\",\"04/15/2020\",\"04/16/2020\",\"04/17/2020\",\"04/18/2020\",\"04/19/2020\",\"04/20/2020\",\"04/21/2020\",\"04/22/2020\",\"04/23/2020\",\"04/24/2020\",\"04/25/2020\",\"04/26/2020\",\"04/27/2020\",\"04/28/2020\",\"04/29/2020\",\"04/30/2020\",\"05/01/2020\",\"05/02/2020\",\"05/03/2020\",\"05/04/2020\",\"05/05/2020\",\"05/06/2020\",\"05/07/2020\",\"05/08/2020\",\"05/09/2020\",\"05/10/2020\",\"05/11/2020\",\"05/12/2020\",\"05/13/2020\",\"05/14/2020\",\"05/15/2020\",\"05/16/2020\",\"05/17/2020\",\"05/18/2020\",\"05/19/2020\",\"05/20/2020\",\"05/21/2020\",\"05/22/2020\",\"05/23/2020\",\"05/24/2020\",\"05/25/2020\",\"05/26/2020\",\"05/27/2020\",\"05/28/2020\",\"05/29/2020\",\"05/30/2020\",\"05/31/2020\",\"06/01/2020\",\"06/02/2020\",\"06/03/2020\",\"06/04/2020\",\"06/05/2020\",\"06/06/2020\",\"06/07/2020\",\"06/08/2020\",\"06/09/2020\",\"06/10/2020\",\"06/11/2020\",\"06/12/2020\",\"06/13/2020\",\"06/14/2020\",\"06/15/2020\",\"06/16/2020\",\"06/17/2020\",\"06/18/2020\",\"06/19/2020\",\"06/20/2020\",\"06/21/2020\",\"06/22/2020\",\"06/23/2020\",\"06/24/2020\",\"06/25/2020\",\"06/26/2020\",\"06/27/2020\",\"06/28/2020\",\"06/29/2020\",\"06/30/2020\",\"07/01/2020\",\"07/02/2020\",\"07/03/2020\",\"07/04/2020\",\"07/05/2020\",\"07/06/2020\",\"07/07/2020\",\"07/08/2020\",\"07/09/2020\",\"07/10/2020\",\"07/11/2020\",\"07/12/2020\",\"07/13/2020\",\"07/14/2020\",\"07/15/2020\",\"07/16/2020\",\"07/17/2020\",\"07/18/2020\",\"07/19/2020\",\"07/20/2020\",\"07/21/2020\",\"07/22/2020\",\"07/23/2020\",\"07/24/2020\",\"07/25/2020\",\"07/26/2020\",\"07/27/2020\",\"07/28/2020\",\"07/29/2020\",\"07/30/2020\",\"07/31/2020\",\"08/01/2020\",\"08/02/2020\",\"08/03/2020\",\"08/04/2020\",\"08/05/2020\",\"08/06/2020\",\"08/07/2020\",\"08/08/2020\",\"08/09/2020\",\"08/10/2020\",\"08/11/2020\",\"08/12/2020\",\"08/13/2020\",\"08/14/2020\",\"08/15/2020\",\"08/16/2020\",\"08/17/2020\",\"08/18/2020\",\"08/19/2020\",\"08/20/2020\",\"08/21/2020\",\"08/22/2020\",\"08/23/2020\",\"08/24/2020\",\"08/25/2020\",\"08/26/2020\",\"08/27/2020\",\"08/28/2020\",\"08/29/2020\",\"08/30/2020\",\"08/31/2020\",\"09/01/2020\",\"09/02/2020\",\"09/03/2020\",\"09/04/2020\",\"09/05/2020\",\"09/06/2020\",\"09/07/2020\",\"09/08/2020\",\"09/09/2020\",\"09/10/2020\",\"09/11/2020\",\"09/12/2020\",\"09/13/2020\",\"09/14/2020\",\"09/15/2020\",\"09/16/2020\",\"09/17/2020\",\"09/18/2020\",\"09/19/2020\",\"09/20/2020\",\"09/21/2020\",\"09/22/2020\",\"09/23/2020\",\"09/24/2020\",\"09/25/2020\",\"09/26/2020\",\"09/27/2020\",\"09/28/2020\",\"09/29/2020\",\"09/30/2020\",\"10/01/2020\",\"10/02/2020\",\"10/03/2020\",\"10/04/2020\",\"10/05/2020\",\"10/06/2020\",\"10/07/2020\",\"10/08/2020\",\"10/09/2020\",\"10/10/2020\",\"10/11/2020\",\"10/12/2020\",\"10/13/2020\",\"10/14/2020\",\"10/15/2020\",\"10/16/2020\",\"10/17/2020\",\"10/18/2020\",\"10/19/2020\",\"10/20/2020\",\"10/21/2020\",\"10/22/2020\",\"10/23/2020\",\"10/24/2020\",\"10/25/2020\",\"10/26/2020\",\"10/27/2020\",\"10/28/2020\",\"10/29/2020\",\"10/30/2020\",\"10/31/2020\",\"11/01/2020\",\"11/02/2020\",\"11/03/2020\",\"11/04/2020\",\"11/05/2020\",\"11/06/2020\",\"11/07/2020\",\"11/08/2020\",\"11/09/2020\",\"11/10/2020\",\"11/11/2020\",\"11/12/2020\",\"11/13/2020\",\"11/14/2020\",\"11/15/2020\",\"11/16/2020\",\"11/17/2020\",\"11/18/2020\",\"11/19/2020\",\"11/20/2020\",\"11/21/2020\",\"11/22/2020\",\"11/23/2020\",\"11/24/2020\",\"11/25/2020\",\"11/26/2020\",\"11/27/2020\",\"11/28/2020\",\"11/29/2020\",\"11/30/2020\",\"12/01/2020\",\"12/02/2020\",\"12/03/2020\",\"12/04/2020\",\"12/05/2020\",\"12/06/2020\",\"12/07/2020\",\"12/08/2020\",\"12/09/2020\",\"12/10/2020\",\"12/11/2020\",\"12/12/2020\",\"12/13/2020\",\"12/14/2020\",\"12/15/2020\",\"12/16/2020\",\"12/17/2020\",\"12/18/2020\",\"12/19/2020\",\"12/20/2020\",\"12/21/2020\",\"12/22/2020\",\"12/23/2020\",\"12/24/2020\",\"12/25/2020\",\"12/26/2020\",\"12/27/2020\",\"12/28/2020\",\"12/29/2020\",\"12/30/2020\",\"12/31/2020\"],\"y\":[47313005.0,47614297.0,47882779.0,48173187.0,48488548.0,48801673.0,49125604.0,49422867.0,49753112.0,50023662.0,50313950.0,50657507.0,51023568.0,22479993.0,30.0,60.0,39.0,42.0,56.0,65.0,108.0,127.0,145.0,225.0,287.0,476.0,627.0,857.0,1129.0,1492.0,2016.0,2616.0,3245.0,3947.0,4684.0,5151.0,6294.0,8057.0,9396.0,10866.0,12583.0,14352.0,16121.0,18179.0,18892.0,22889.0,23394.0,25227.0,27905.0,30386.0,33278.0,36710.0,39781.0,42717.0,45601.0,48228.0,51170.0,53796.0,55864.0,58357.0,60695.0,62512.0,64400.0,66999.0,68321.0,70248.0,72622.0,76033.0,78088.0,80832.0,83308.0,84961.0,87402.0,91655.0,97225.0,100942.0,107681.0,113742.0,122124.0,130898.0,139406.0,149062.0,164437.0,178007.0,193329.0,210515.0,226022.0,246373.0,260229.0,276861.0,300271.0,329044.0,354264.0,376321.0,402328.0,421909.0,448932.0,474523.0,511150.0,542301.0,568598.0,592521.0,624233.0,646256.0,680296.0,709831.0,738573.0,793485.0,816726.0,865981.0,894330.0,928962.0,972918.0,1015102.0,1053580.0,1093137.0,1125478.0,1162965.0,1199006.0,1245700.0,1285085.0,1322257.0,1375722.0,1409293.0,1456413.0,1493639.0,1548788.0,1588129.0,1637398.0,1693347.0,1734214.0,1787121.0,1839188.0,1897701.0,1948929.0,2056729.0,2112134.0,2168599.0,2231780.0,2286936.0,2350002.0,2415880.0,2493374.0,2564529.0,2641229.0,2695937.0,2729444.0,2804886.0,2869884.0,3013059.0,3085760.0,3140855.0,3293391.0,3375644.0,3454811.0,3540697.0,3613274.0,3698259.0,3769701.0,3857395.0,3955248.0,4074078.0,4155243.0,4245896.0,4378403.0,4447183.0,4526437.0,4630475.0,4746193.0,4839024.0,4944926.0,5051154.0,5140272.0,5235191.0,5352668.0,5577068.0,5753447.0,5863276.0,6058921.0,6178403.0,6302110.0,6447148.0,6605164.0,6739827.0,6879278.0,7005039.0,7116854.0,7257245.0,7399402.0,7559205.0,7711593.0,7895069.0,8045836.0,8133853.0,8290753.0,8467518.0,8646273.0,8823668.0,9051968.0,9271780.0,9409711.0,9586464.0,9721636.0,9959508.0,10173027.0,10372633.0,10553544.0,10692268.0,10914713.0,11135940.0,11357635.0,11546442.0,11738488.0,11938732.0,12117483.0,12281694.0,12586762.0,12828274.0,12991323.0,13274565.0,13443169.0,13676123.0,13887135.0,14114730.0,14332727.0,14540517.0,14709011.0,14908070.0,15135052.0,15334473.0,15566022.0,15791657.0,16000171.0,16199749.0,16411129.0,16621344.0,16822117.0,17077391.0,17295478.0,17516847.0,17721278.0,17921785.0,18143127.0,18329625.0,18529251.0,18781963.0,18998624.0,19222294.0,19445228.0,19633076.0,19782283.0,20086278.0,20315755.0,20535966.0,20787115.0,21024100.0,21261177.0,21506655.0,21724453.0,21987866.0,22243536.0,22482744.0,22744887.0,22958766.0,23181308.0,23421347.0,23669565.0,23882866.0,24063392.0,24318993.0,24541152.0,24778620.0,25009733.0,25264924.0,25484501.0,25691358.0,25886763.0,26109403.0,26309718.0,26498939.0,26711282.0,26918203.0,27121217.0,27319500.0,27521011.0,27723542.0,27931677.0,28142899.0,28369692.0,28576426.0,28788007.0,28986101.0,29224400.0,29814105.0,30076742.0,30323493.0,29715704.0,30845020.0,31102837.0,31383407.0,31634980.0,31914299.0,32217954.0,32506315.0,32805331.0,33058571.0,33315624.0,33572984.0,33953208.0,34179447.0,34481579.0,34759398.0,34990158.0,35379591.0,35814479.0,36177589.0,36551888.0,36907312.0,37246582.0,37520306.0,37931519.0,38303698.0,38741108.0,39107984.0,39489610.0,39849316.0,40167599.0,40569855.0,41046059.0,41508985.0,41935969.0,42426586.0,42862534.0,43178578.0,43591717.0,44032488.0,44458968.0,44950194.0,45428334.0,46933277.0,47328396.0,47737930.0,41696563.0,42058783.0,42434192.0,42751920.0,43103506.0,43380335.0,43723555.0,44086740.0,44410880.0,44725552.0,45017158.0,45425322.0,45717710.0,46016136.0,46369231.0,46757476.0,47032627.0],\"type\":\"bar\"}],                        {\"legend\":{\"bgcolor\":\"#F5F6F9\",\"font\":{\"color\":\"#4D5663\"}},\"paper_bgcolor\":\"#F5F6F9\",\"plot_bgcolor\":\"#F5F6F9\",\"template\":{\"data\":{\"barpolar\":[{\"marker\":{\"line\":{\"color\":\"#E5ECF6\",\"width\":0.5},\"pattern\":{\"fillmode\":\"overlay\",\"size\":10,\"solidity\":0.2}},\"type\":\"barpolar\"}],\"bar\":[{\"error_x\":{\"color\":\"#2a3f5f\"},\"error_y\":{\"color\":\"#2a3f5f\"},\"marker\":{\"line\":{\"color\":\"#E5ECF6\",\"width\":0.5},\"pattern\":{\"fillmode\":\"overlay\",\"size\":10,\"solidity\":0.2}},\"type\":\"bar\"}],\"carpet\":[{\"aaxis\":{\"endlinecolor\":\"#2a3f5f\",\"gridcolor\":\"white\",\"linecolor\":\"white\",\"minorgridcolor\":\"white\",\"startlinecolor\":\"#2a3f5f\"},\"baxis\":{\"endlinecolor\":\"#2a3f5f\",\"gridcolor\":\"white\",\"linecolor\":\"white\",\"minorgridcolor\":\"white\",\"startlinecolor\":\"#2a3f5f\"},\"type\":\"carpet\"}],\"choropleth\":[{\"colorbar\":{\"outlinewidth\":0,\"ticks\":\"\"},\"type\":\"choropleth\"}],\"contourcarpet\":[{\"colorbar\":{\"outlinewidth\":0,\"ticks\":\"\"},\"type\":\"contourcarpet\"}],\"contour\":[{\"colorbar\":{\"outlinewidth\":0,\"ticks\":\"\"},\"colorscale\":[[0.0,\"#0d0887\"],[0.1111111111111111,\"#46039f\"],[0.2222222222222222,\"#7201a8\"],[0.3333333333333333,\"#9c179e\"],[0.4444444444444444,\"#bd3786\"],[0.5555555555555556,\"#d8576b\"],[0.6666666666666666,\"#ed7953\"],[0.7777777777777778,\"#fb9f3a\"],[0.8888888888888888,\"#fdca26\"],[1.0,\"#f0f921\"]],\"type\":\"contour\"}],\"heatmapgl\":[{\"colorbar\":{\"outlinewidth\":0,\"ticks\":\"\"},\"colorscale\":[[0.0,\"#0d0887\"],[0.1111111111111111,\"#46039f\"],[0.2222222222222222,\"#7201a8\"],[0.3333333333333333,\"#9c179e\"],[0.4444444444444444,\"#bd3786\"],[0.5555555555555556,\"#d8576b\"],[0.6666666666666666,\"#ed7953\"],[0.7777777777777778,\"#fb9f3a\"],[0.8888888888888888,\"#fdca26\"],[1.0,\"#f0f921\"]],\"type\":\"heatmapgl\"}],\"heatmap\":[{\"colorbar\":{\"outlinewidth\":0,\"ticks\":\"\"},\"colorscale\":[[0.0,\"#0d0887\"],[0.1111111111111111,\"#46039f\"],[0.2222222222222222,\"#7201a8\"],[0.3333333333333333,\"#9c179e\"],[0.4444444444444444,\"#bd3786\"],[0.5555555555555556,\"#d8576b\"],[0.6666666666666666,\"#ed7953\"],[0.7777777777777778,\"#fb9f3a\"],[0.8888888888888888,\"#fdca26\"],[1.0,\"#f0f921\"]],\"type\":\"heatmap\"}],\"histogram2dcontour\":[{\"colorbar\":{\"outlinewidth\":0,\"ticks\":\"\"},\"colorscale\":[[0.0,\"#0d0887\"],[0.1111111111111111,\"#46039f\"],[0.2222222222222222,\"#7201a8\"],[0.3333333333333333,\"#9c179e\"],[0.4444444444444444,\"#bd3786\"],[0.5555555555555556,\"#d8576b\"],[0.6666666666666666,\"#ed7953\"],[0.7777777777777778,\"#fb9f3a\"],[0.8888888888888888,\"#fdca26\"],[1.0,\"#f0f921\"]],\"type\":\"histogram2dcontour\"}],\"histogram2d\":[{\"colorbar\":{\"outlinewidth\":0,\"ticks\":\"\"},\"colorscale\":[[0.0,\"#0d0887\"],[0.1111111111111111,\"#46039f\"],[0.2222222222222222,\"#7201a8\"],[0.3333333333333333,\"#9c179e\"],[0.4444444444444444,\"#bd3786\"],[0.5555555555555556,\"#d8576b\"],[0.6666666666666666,\"#ed7953\"],[0.7777777777777778,\"#fb9f3a\"],[0.8888888888888888,\"#fdca26\"],[1.0,\"#f0f921\"]],\"type\":\"histogram2d\"}],\"histogram\":[{\"marker\":{\"pattern\":{\"fillmode\":\"overlay\",\"size\":10,\"solidity\":0.2}},\"type\":\"histogram\"}],\"mesh3d\":[{\"colorbar\":{\"outlinewidth\":0,\"ticks\":\"\"},\"type\":\"mesh3d\"}],\"parcoords\":[{\"line\":{\"colorbar\":{\"outlinewidth\":0,\"ticks\":\"\"}},\"type\":\"parcoords\"}],\"pie\":[{\"automargin\":true,\"type\":\"pie\"}],\"scatter3d\":[{\"line\":{\"colorbar\":{\"outlinewidth\":0,\"ticks\":\"\"}},\"marker\":{\"colorbar\":{\"outlinewidth\":0,\"ticks\":\"\"}},\"type\":\"scatter3d\"}],\"scattercarpet\":[{\"marker\":{\"colorbar\":{\"outlinewidth\":0,\"ticks\":\"\"}},\"type\":\"scattercarpet\"}],\"scattergeo\":[{\"marker\":{\"colorbar\":{\"outlinewidth\":0,\"ticks\":\"\"}},\"type\":\"scattergeo\"}],\"scattergl\":[{\"marker\":{\"colorbar\":{\"outlinewidth\":0,\"ticks\":\"\"}},\"type\":\"scattergl\"}],\"scattermapbox\":[{\"marker\":{\"colorbar\":{\"outlinewidth\":0,\"ticks\":\"\"}},\"type\":\"scattermapbox\"}],\"scatterpolargl\":[{\"marker\":{\"colorbar\":{\"outlinewidth\":0,\"ticks\":\"\"}},\"type\":\"scatterpolargl\"}],\"scatterpolar\":[{\"marker\":{\"colorbar\":{\"outlinewidth\":0,\"ticks\":\"\"}},\"type\":\"scatterpolar\"}],\"scatter\":[{\"marker\":{\"colorbar\":{\"outlinewidth\":0,\"ticks\":\"\"}},\"type\":\"scatter\"}],\"scatterternary\":[{\"marker\":{\"colorbar\":{\"outlinewidth\":0,\"ticks\":\"\"}},\"type\":\"scatterternary\"}],\"surface\":[{\"colorbar\":{\"outlinewidth\":0,\"ticks\":\"\"},\"colorscale\":[[0.0,\"#0d0887\"],[0.1111111111111111,\"#46039f\"],[0.2222222222222222,\"#7201a8\"],[0.3333333333333333,\"#9c179e\"],[0.4444444444444444,\"#bd3786\"],[0.5555555555555556,\"#d8576b\"],[0.6666666666666666,\"#ed7953\"],[0.7777777777777778,\"#fb9f3a\"],[0.8888888888888888,\"#fdca26\"],[1.0,\"#f0f921\"]],\"type\":\"surface\"}],\"table\":[{\"cells\":{\"fill\":{\"color\":\"#EBF0F8\"},\"line\":{\"color\":\"white\"}},\"header\":{\"fill\":{\"color\":\"#C8D4E3\"},\"line\":{\"color\":\"white\"}},\"type\":\"table\"}]},\"layout\":{\"annotationdefaults\":{\"arrowcolor\":\"#2a3f5f\",\"arrowhead\":0,\"arrowwidth\":1},\"autotypenumbers\":\"strict\",\"coloraxis\":{\"colorbar\":{\"outlinewidth\":0,\"ticks\":\"\"}},\"colorscale\":{\"diverging\":[[0,\"#8e0152\"],[0.1,\"#c51b7d\"],[0.2,\"#de77ae\"],[0.3,\"#f1b6da\"],[0.4,\"#fde0ef\"],[0.5,\"#f7f7f7\"],[0.6,\"#e6f5d0\"],[0.7,\"#b8e186\"],[0.8,\"#7fbc41\"],[0.9,\"#4d9221\"],[1,\"#276419\"]],\"sequential\":[[0.0,\"#0d0887\"],[0.1111111111111111,\"#46039f\"],[0.2222222222222222,\"#7201a8\"],[0.3333333333333333,\"#9c179e\"],[0.4444444444444444,\"#bd3786\"],[0.5555555555555556,\"#d8576b\"],[0.6666666666666666,\"#ed7953\"],[0.7777777777777778,\"#fb9f3a\"],[0.8888888888888888,\"#fdca26\"],[1.0,\"#f0f921\"]],\"sequentialminus\":[[0.0,\"#0d0887\"],[0.1111111111111111,\"#46039f\"],[0.2222222222222222,\"#7201a8\"],[0.3333333333333333,\"#9c179e\"],[0.4444444444444444,\"#bd3786\"],[0.5555555555555556,\"#d8576b\"],[0.6666666666666666,\"#ed7953\"],[0.7777777777777778,\"#fb9f3a\"],[0.8888888888888888,\"#fdca26\"],[1.0,\"#f0f921\"]]},\"colorway\":[\"#636efa\",\"#EF553B\",\"#00cc96\",\"#ab63fa\",\"#FFA15A\",\"#19d3f3\",\"#FF6692\",\"#B6E880\",\"#FF97FF\",\"#FECB52\"],\"font\":{\"color\":\"#2a3f5f\"},\"geo\":{\"bgcolor\":\"white\",\"lakecolor\":\"white\",\"landcolor\":\"#E5ECF6\",\"showlakes\":true,\"showland\":true,\"subunitcolor\":\"white\"},\"hoverlabel\":{\"align\":\"left\"},\"hovermode\":\"closest\",\"mapbox\":{\"style\":\"light\"},\"paper_bgcolor\":\"white\",\"plot_bgcolor\":\"#E5ECF6\",\"polar\":{\"angularaxis\":{\"gridcolor\":\"white\",\"linecolor\":\"white\",\"ticks\":\"\"},\"bgcolor\":\"#E5ECF6\",\"radialaxis\":{\"gridcolor\":\"white\",\"linecolor\":\"white\",\"ticks\":\"\"}},\"scene\":{\"xaxis\":{\"backgroundcolor\":\"#E5ECF6\",\"gridcolor\":\"white\",\"gridwidth\":2,\"linecolor\":\"white\",\"showbackground\":true,\"ticks\":\"\",\"zerolinecolor\":\"white\"},\"yaxis\":{\"backgroundcolor\":\"#E5ECF6\",\"gridcolor\":\"white\",\"gridwidth\":2,\"linecolor\":\"white\",\"showbackground\":true,\"ticks\":\"\",\"zerolinecolor\":\"white\"},\"zaxis\":{\"backgroundcolor\":\"#E5ECF6\",\"gridcolor\":\"white\",\"gridwidth\":2,\"linecolor\":\"white\",\"showbackground\":true,\"ticks\":\"\",\"zerolinecolor\":\"white\"}},\"shapedefaults\":{\"line\":{\"color\":\"#2a3f5f\"}},\"ternary\":{\"aaxis\":{\"gridcolor\":\"white\",\"linecolor\":\"white\",\"ticks\":\"\"},\"baxis\":{\"gridcolor\":\"white\",\"linecolor\":\"white\",\"ticks\":\"\"},\"bgcolor\":\"#E5ECF6\",\"caxis\":{\"gridcolor\":\"white\",\"linecolor\":\"white\",\"ticks\":\"\"}},\"title\":{\"x\":0.05},\"xaxis\":{\"automargin\":true,\"gridcolor\":\"white\",\"linecolor\":\"white\",\"ticks\":\"\",\"title\":{\"standoff\":15},\"zerolinecolor\":\"white\",\"zerolinewidth\":2},\"yaxis\":{\"automargin\":true,\"gridcolor\":\"white\",\"linecolor\":\"white\",\"ticks\":\"\",\"title\":{\"standoff\":15},\"zerolinecolor\":\"white\",\"zerolinewidth\":2}}},\"title\":{\"font\":{\"color\":\"#4D5663\"}},\"xaxis\":{\"gridcolor\":\"#E1E5ED\",\"showgrid\":true,\"tickfont\":{\"color\":\"#4D5663\"},\"title\":{\"font\":{\"color\":\"#4D5663\"},\"text\":\"\"},\"zerolinecolor\":\"#E1E5ED\"},\"yaxis\":{\"gridcolor\":\"#E1E5ED\",\"showgrid\":true,\"tickfont\":{\"color\":\"#4D5663\"},\"title\":{\"font\":{\"color\":\"#4D5663\"},\"text\":\"\"},\"zerolinecolor\":\"#E1E5ED\"}},                        {\"showLink\": true, \"linkText\": \"Export to plot.ly\", \"plotlyServerURL\": \"https://plot.ly\", \"responsive\": true}                    ).then(function(){\n",
              "                            \n",
              "var gd = document.getElementById('06740db2-3286-4965-a238-9c223b9882bd');\n",
              "var x = new MutationObserver(function (mutations, observer) {{\n",
              "        var display = window.getComputedStyle(gd).display;\n",
              "        if (!display || display === 'none') {{\n",
              "            console.log([gd, 'removed!']);\n",
              "            Plotly.purge(gd);\n",
              "            observer.disconnect();\n",
              "        }}\n",
              "}});\n",
              "\n",
              "// Listen for the removal of the full notebook cells\n",
              "var notebookContainer = gd.closest('#notebook-container');\n",
              "if (notebookContainer) {{\n",
              "    x.observe(notebookContainer, {childList: true});\n",
              "}}\n",
              "\n",
              "// Listen for the clearing of the current output cell\n",
              "var outputEl = gd.closest('.output');\n",
              "if (outputEl) {{\n",
              "    x.observe(outputEl, {childList: true});\n",
              "}}\n",
              "\n",
              "                        })                };                });            </script>        </div>"
            ]
          },
          "metadata": {}
        }
      ]
    },
    {
      "cell_type": "code",
      "source": [
        "from fbprophet import Prophet"
      ],
      "metadata": {
        "id": "r-NoKmuRgA_J"
      },
      "execution_count": 26,
      "outputs": []
    },
    {
      "cell_type": "code",
      "source": [
        "confirmed.columns=['ds','y']\n",
        "confirmed['ds']=pd.to_datetime(confirmed['ds'])\n"
      ],
      "metadata": {
        "id": "yyj0Hwf7gCdB"
      },
      "execution_count": 27,
      "outputs": []
    },
    {
      "cell_type": "code",
      "source": [
        "confirmed.shape"
      ],
      "metadata": {
        "colab": {
          "base_uri": "https://localhost:8080/"
        },
        "id": "AJpP7h0KgEOi",
        "outputId": "52f8620f-1c98-4eb1-bd4f-d8ef71c49722"
      },
      "execution_count": 28,
      "outputs": [
        {
          "output_type": "execute_result",
          "data": {
            "text/plain": [
              "(359, 2)"
            ]
          },
          "metadata": {},
          "execution_count": 28
        }
      ]
    },
    {
      "cell_type": "code",
      "source": [
        "model=Prophet(interval_width=0.95)\n",
        "model.fit(confirmed)"
      ],
      "metadata": {
        "colab": {
          "base_uri": "https://localhost:8080/"
        },
        "id": "YWfvawe_gG1p",
        "outputId": "e1e3d308-7e40-42ce-b170-04e936ce5fe1"
      },
      "execution_count": 29,
      "outputs": [
        {
          "output_type": "stream",
          "name": "stderr",
          "text": [
            "INFO:fbprophet:Disabling yearly seasonality. Run prophet with yearly_seasonality=True to override this.\n",
            "INFO:fbprophet:Disabling daily seasonality. Run prophet with daily_seasonality=True to override this.\n"
          ]
        },
        {
          "output_type": "execute_result",
          "data": {
            "text/plain": [
              "<fbprophet.forecaster.Prophet at 0x7f4f9ba7d550>"
            ]
          },
          "metadata": {},
          "execution_count": 29
        }
      ]
    },
    {
      "cell_type": "code",
      "source": [
        "future=model.make_future_dataframe(periods=30)"
      ],
      "metadata": {
        "id": "Nkw-TIXxgISp"
      },
      "execution_count": 31,
      "outputs": []
    },
    {
      "cell_type": "code",
      "source": [
        "future"
      ],
      "metadata": {
        "colab": {
          "base_uri": "https://localhost:8080/",
          "height": 423
        },
        "id": "wnqP-YbZgVmx",
        "outputId": "8b42c66d-ac4c-4c78-bd10-457e11da4033"
      },
      "execution_count": 32,
      "outputs": [
        {
          "output_type": "execute_result",
          "data": {
            "text/plain": [
              "            ds\n",
              "0   2020-01-22\n",
              "1   2020-01-23\n",
              "2   2020-01-24\n",
              "3   2020-01-25\n",
              "4   2020-01-26\n",
              "..         ...\n",
              "384 2021-02-09\n",
              "385 2021-02-10\n",
              "386 2021-02-11\n",
              "387 2021-02-12\n",
              "388 2021-02-13\n",
              "\n",
              "[389 rows x 1 columns]"
            ],
            "text/html": [
              "\n",
              "  <div id=\"df-5a7c0a6d-ac4b-44ed-942a-9af6eeb5e871\">\n",
              "    <div class=\"colab-df-container\">\n",
              "      <div>\n",
              "<style scoped>\n",
              "    .dataframe tbody tr th:only-of-type {\n",
              "        vertical-align: middle;\n",
              "    }\n",
              "\n",
              "    .dataframe tbody tr th {\n",
              "        vertical-align: top;\n",
              "    }\n",
              "\n",
              "    .dataframe thead th {\n",
              "        text-align: right;\n",
              "    }\n",
              "</style>\n",
              "<table border=\"1\" class=\"dataframe\">\n",
              "  <thead>\n",
              "    <tr style=\"text-align: right;\">\n",
              "      <th></th>\n",
              "      <th>ds</th>\n",
              "    </tr>\n",
              "  </thead>\n",
              "  <tbody>\n",
              "    <tr>\n",
              "      <th>0</th>\n",
              "      <td>2020-01-22</td>\n",
              "    </tr>\n",
              "    <tr>\n",
              "      <th>1</th>\n",
              "      <td>2020-01-23</td>\n",
              "    </tr>\n",
              "    <tr>\n",
              "      <th>2</th>\n",
              "      <td>2020-01-24</td>\n",
              "    </tr>\n",
              "    <tr>\n",
              "      <th>3</th>\n",
              "      <td>2020-01-25</td>\n",
              "    </tr>\n",
              "    <tr>\n",
              "      <th>4</th>\n",
              "      <td>2020-01-26</td>\n",
              "    </tr>\n",
              "    <tr>\n",
              "      <th>...</th>\n",
              "      <td>...</td>\n",
              "    </tr>\n",
              "    <tr>\n",
              "      <th>384</th>\n",
              "      <td>2021-02-09</td>\n",
              "    </tr>\n",
              "    <tr>\n",
              "      <th>385</th>\n",
              "      <td>2021-02-10</td>\n",
              "    </tr>\n",
              "    <tr>\n",
              "      <th>386</th>\n",
              "      <td>2021-02-11</td>\n",
              "    </tr>\n",
              "    <tr>\n",
              "      <th>387</th>\n",
              "      <td>2021-02-12</td>\n",
              "    </tr>\n",
              "    <tr>\n",
              "      <th>388</th>\n",
              "      <td>2021-02-13</td>\n",
              "    </tr>\n",
              "  </tbody>\n",
              "</table>\n",
              "<p>389 rows × 1 columns</p>\n",
              "</div>\n",
              "      <button class=\"colab-df-convert\" onclick=\"convertToInteractive('df-5a7c0a6d-ac4b-44ed-942a-9af6eeb5e871')\"\n",
              "              title=\"Convert this dataframe to an interactive table.\"\n",
              "              style=\"display:none;\">\n",
              "        \n",
              "  <svg xmlns=\"http://www.w3.org/2000/svg\" height=\"24px\"viewBox=\"0 0 24 24\"\n",
              "       width=\"24px\">\n",
              "    <path d=\"M0 0h24v24H0V0z\" fill=\"none\"/>\n",
              "    <path d=\"M18.56 5.44l.94 2.06.94-2.06 2.06-.94-2.06-.94-.94-2.06-.94 2.06-2.06.94zm-11 1L8.5 8.5l.94-2.06 2.06-.94-2.06-.94L8.5 2.5l-.94 2.06-2.06.94zm10 10l.94 2.06.94-2.06 2.06-.94-2.06-.94-.94-2.06-.94 2.06-2.06.94z\"/><path d=\"M17.41 7.96l-1.37-1.37c-.4-.4-.92-.59-1.43-.59-.52 0-1.04.2-1.43.59L10.3 9.45l-7.72 7.72c-.78.78-.78 2.05 0 2.83L4 21.41c.39.39.9.59 1.41.59.51 0 1.02-.2 1.41-.59l7.78-7.78 2.81-2.81c.8-.78.8-2.07 0-2.86zM5.41 20L4 18.59l7.72-7.72 1.47 1.35L5.41 20z\"/>\n",
              "  </svg>\n",
              "      </button>\n",
              "      \n",
              "  <style>\n",
              "    .colab-df-container {\n",
              "      display:flex;\n",
              "      flex-wrap:wrap;\n",
              "      gap: 12px;\n",
              "    }\n",
              "\n",
              "    .colab-df-convert {\n",
              "      background-color: #E8F0FE;\n",
              "      border: none;\n",
              "      border-radius: 50%;\n",
              "      cursor: pointer;\n",
              "      display: none;\n",
              "      fill: #1967D2;\n",
              "      height: 32px;\n",
              "      padding: 0 0 0 0;\n",
              "      width: 32px;\n",
              "    }\n",
              "\n",
              "    .colab-df-convert:hover {\n",
              "      background-color: #E2EBFA;\n",
              "      box-shadow: 0px 1px 2px rgba(60, 64, 67, 0.3), 0px 1px 3px 1px rgba(60, 64, 67, 0.15);\n",
              "      fill: #174EA6;\n",
              "    }\n",
              "\n",
              "    [theme=dark] .colab-df-convert {\n",
              "      background-color: #3B4455;\n",
              "      fill: #D2E3FC;\n",
              "    }\n",
              "\n",
              "    [theme=dark] .colab-df-convert:hover {\n",
              "      background-color: #434B5C;\n",
              "      box-shadow: 0px 1px 3px 1px rgba(0, 0, 0, 0.15);\n",
              "      filter: drop-shadow(0px 1px 2px rgba(0, 0, 0, 0.3));\n",
              "      fill: #FFFFFF;\n",
              "    }\n",
              "  </style>\n",
              "\n",
              "      <script>\n",
              "        const buttonEl =\n",
              "          document.querySelector('#df-5a7c0a6d-ac4b-44ed-942a-9af6eeb5e871 button.colab-df-convert');\n",
              "        buttonEl.style.display =\n",
              "          google.colab.kernel.accessAllowed ? 'block' : 'none';\n",
              "\n",
              "        async function convertToInteractive(key) {\n",
              "          const element = document.querySelector('#df-5a7c0a6d-ac4b-44ed-942a-9af6eeb5e871');\n",
              "          const dataTable =\n",
              "            await google.colab.kernel.invokeFunction('convertToInteractive',\n",
              "                                                     [key], {});\n",
              "          if (!dataTable) return;\n",
              "\n",
              "          const docLinkHtml = 'Like what you see? Visit the ' +\n",
              "            '<a target=\"_blank\" href=https://colab.research.google.com/notebooks/data_table.ipynb>data table notebook</a>'\n",
              "            + ' to learn more about interactive tables.';\n",
              "          element.innerHTML = '';\n",
              "          dataTable['output_type'] = 'display_data';\n",
              "          await google.colab.output.renderOutput(dataTable, element);\n",
              "          const docLink = document.createElement('div');\n",
              "          docLink.innerHTML = docLinkHtml;\n",
              "          element.appendChild(docLink);\n",
              "        }\n",
              "      </script>\n",
              "    </div>\n",
              "  </div>\n",
              "  "
            ]
          },
          "metadata": {},
          "execution_count": 32
        }
      ]
    },
    {
      "cell_type": "code",
      "source": [
        "forecast=model.predict(future)"
      ],
      "metadata": {
        "id": "VZ-b6ZOhgZrx"
      },
      "execution_count": 33,
      "outputs": []
    },
    {
      "cell_type": "code",
      "source": [
        "forecast"
      ],
      "metadata": {
        "colab": {
          "base_uri": "https://localhost:8080/",
          "height": 661
        },
        "id": "BkqvWJNzgx25",
        "outputId": "b2ae4eaf-4afb-4057-f898-608a65b08a36"
      },
      "execution_count": 35,
      "outputs": [
        {
          "output_type": "execute_result",
          "data": {
            "text/plain": [
              "            ds         trend    yhat_lower    yhat_upper   trend_lower  \\\n",
              "0   2020-01-22 -1.024519e+06 -7.099314e+06  5.369490e+06 -1.024519e+06   \n",
              "1   2020-01-23 -9.906210e+05 -8.613092e+06  3.973635e+06 -9.906210e+05   \n",
              "2   2020-01-24 -9.567224e+05 -7.115556e+06  5.388057e+06 -9.567224e+05   \n",
              "3   2020-01-25 -9.228239e+05 -6.617424e+06  5.563333e+06 -9.228239e+05   \n",
              "4   2020-01-26 -8.889254e+05 -7.430444e+06  4.964334e+06 -8.889254e+05   \n",
              "..         ...           ...           ...           ...           ...   \n",
              "384 2021-02-09  1.033952e+08  9.766578e+07  1.098217e+08  1.019885e+08   \n",
              "385 2021-02-10  1.039550e+08  9.799759e+07  1.109013e+08  1.024798e+08   \n",
              "386 2021-02-11  1.045148e+08  9.670560e+07  1.097361e+08  1.029653e+08   \n",
              "387 2021-02-12  1.050746e+08  9.931382e+07  1.114781e+08  1.034926e+08   \n",
              "388 2021-02-13  1.056344e+08  9.954177e+07  1.126753e+08  1.039524e+08   \n",
              "\n",
              "      trend_upper  additive_terms  additive_terms_lower  additive_terms_upper  \\\n",
              "0   -1.024519e+06   184996.345489         184996.345489         184996.345489   \n",
              "1   -9.906210e+05  -972605.153469        -972605.153469        -972605.153469   \n",
              "2   -9.567224e+05   183485.202097         183485.202097         183485.202097   \n",
              "3   -9.228239e+05   187104.686944         187104.686944         187104.686944   \n",
              "4   -8.889254e+05   155907.653091         155907.653091         155907.653091   \n",
              "..            ...             ...                   ...                   ...   \n",
              "384  1.045319e+08   134000.832348         134000.832348         134000.832348   \n",
              "385  1.051463e+08   184996.345490         184996.345490         184996.345490   \n",
              "386  1.057926e+08  -972605.153469        -972605.153469        -972605.153469   \n",
              "387  1.064279e+08   183485.202096         183485.202096         183485.202096   \n",
              "388  1.070392e+08   187104.686943         187104.686943         187104.686943   \n",
              "\n",
              "            weekly   weekly_lower   weekly_upper  multiplicative_terms  \\\n",
              "0    184996.345489  184996.345489  184996.345489                   0.0   \n",
              "1   -972605.153469 -972605.153469 -972605.153469                   0.0   \n",
              "2    183485.202097  183485.202097  183485.202097                   0.0   \n",
              "3    187104.686944  187104.686944  187104.686944                   0.0   \n",
              "4    155907.653091  155907.653091  155907.653091                   0.0   \n",
              "..             ...            ...            ...                   ...   \n",
              "384  134000.832348  134000.832348  134000.832348                   0.0   \n",
              "385  184996.345490  184996.345490  184996.345490                   0.0   \n",
              "386 -972605.153469 -972605.153469 -972605.153469                   0.0   \n",
              "387  183485.202096  183485.202096  183485.202096                   0.0   \n",
              "388  187104.686943  187104.686943  187104.686943                   0.0   \n",
              "\n",
              "     multiplicative_terms_lower  multiplicative_terms_upper          yhat  \n",
              "0                           0.0                         0.0 -8.395231e+05  \n",
              "1                           0.0                         0.0 -1.963226e+06  \n",
              "2                           0.0                         0.0 -7.732372e+05  \n",
              "3                           0.0                         0.0 -7.357192e+05  \n",
              "4                           0.0                         0.0 -7.330178e+05  \n",
              "..                          ...                         ...           ...  \n",
              "384                         0.0                         0.0  1.035292e+08  \n",
              "385                         0.0                         0.0  1.041400e+08  \n",
              "386                         0.0                         0.0  1.035422e+08  \n",
              "387                         0.0                         0.0  1.052581e+08  \n",
              "388                         0.0                         0.0  1.058215e+08  \n",
              "\n",
              "[389 rows x 16 columns]"
            ],
            "text/html": [
              "\n",
              "  <div id=\"df-7b90a5e4-69f2-474d-a3c1-edf88c052aea\">\n",
              "    <div class=\"colab-df-container\">\n",
              "      <div>\n",
              "<style scoped>\n",
              "    .dataframe tbody tr th:only-of-type {\n",
              "        vertical-align: middle;\n",
              "    }\n",
              "\n",
              "    .dataframe tbody tr th {\n",
              "        vertical-align: top;\n",
              "    }\n",
              "\n",
              "    .dataframe thead th {\n",
              "        text-align: right;\n",
              "    }\n",
              "</style>\n",
              "<table border=\"1\" class=\"dataframe\">\n",
              "  <thead>\n",
              "    <tr style=\"text-align: right;\">\n",
              "      <th></th>\n",
              "      <th>ds</th>\n",
              "      <th>trend</th>\n",
              "      <th>yhat_lower</th>\n",
              "      <th>yhat_upper</th>\n",
              "      <th>trend_lower</th>\n",
              "      <th>trend_upper</th>\n",
              "      <th>additive_terms</th>\n",
              "      <th>additive_terms_lower</th>\n",
              "      <th>additive_terms_upper</th>\n",
              "      <th>weekly</th>\n",
              "      <th>weekly_lower</th>\n",
              "      <th>weekly_upper</th>\n",
              "      <th>multiplicative_terms</th>\n",
              "      <th>multiplicative_terms_lower</th>\n",
              "      <th>multiplicative_terms_upper</th>\n",
              "      <th>yhat</th>\n",
              "    </tr>\n",
              "  </thead>\n",
              "  <tbody>\n",
              "    <tr>\n",
              "      <th>0</th>\n",
              "      <td>2020-01-22</td>\n",
              "      <td>-1.024519e+06</td>\n",
              "      <td>-7.099314e+06</td>\n",
              "      <td>5.369490e+06</td>\n",
              "      <td>-1.024519e+06</td>\n",
              "      <td>-1.024519e+06</td>\n",
              "      <td>184996.345489</td>\n",
              "      <td>184996.345489</td>\n",
              "      <td>184996.345489</td>\n",
              "      <td>184996.345489</td>\n",
              "      <td>184996.345489</td>\n",
              "      <td>184996.345489</td>\n",
              "      <td>0.0</td>\n",
              "      <td>0.0</td>\n",
              "      <td>0.0</td>\n",
              "      <td>-8.395231e+05</td>\n",
              "    </tr>\n",
              "    <tr>\n",
              "      <th>1</th>\n",
              "      <td>2020-01-23</td>\n",
              "      <td>-9.906210e+05</td>\n",
              "      <td>-8.613092e+06</td>\n",
              "      <td>3.973635e+06</td>\n",
              "      <td>-9.906210e+05</td>\n",
              "      <td>-9.906210e+05</td>\n",
              "      <td>-972605.153469</td>\n",
              "      <td>-972605.153469</td>\n",
              "      <td>-972605.153469</td>\n",
              "      <td>-972605.153469</td>\n",
              "      <td>-972605.153469</td>\n",
              "      <td>-972605.153469</td>\n",
              "      <td>0.0</td>\n",
              "      <td>0.0</td>\n",
              "      <td>0.0</td>\n",
              "      <td>-1.963226e+06</td>\n",
              "    </tr>\n",
              "    <tr>\n",
              "      <th>2</th>\n",
              "      <td>2020-01-24</td>\n",
              "      <td>-9.567224e+05</td>\n",
              "      <td>-7.115556e+06</td>\n",
              "      <td>5.388057e+06</td>\n",
              "      <td>-9.567224e+05</td>\n",
              "      <td>-9.567224e+05</td>\n",
              "      <td>183485.202097</td>\n",
              "      <td>183485.202097</td>\n",
              "      <td>183485.202097</td>\n",
              "      <td>183485.202097</td>\n",
              "      <td>183485.202097</td>\n",
              "      <td>183485.202097</td>\n",
              "      <td>0.0</td>\n",
              "      <td>0.0</td>\n",
              "      <td>0.0</td>\n",
              "      <td>-7.732372e+05</td>\n",
              "    </tr>\n",
              "    <tr>\n",
              "      <th>3</th>\n",
              "      <td>2020-01-25</td>\n",
              "      <td>-9.228239e+05</td>\n",
              "      <td>-6.617424e+06</td>\n",
              "      <td>5.563333e+06</td>\n",
              "      <td>-9.228239e+05</td>\n",
              "      <td>-9.228239e+05</td>\n",
              "      <td>187104.686944</td>\n",
              "      <td>187104.686944</td>\n",
              "      <td>187104.686944</td>\n",
              "      <td>187104.686944</td>\n",
              "      <td>187104.686944</td>\n",
              "      <td>187104.686944</td>\n",
              "      <td>0.0</td>\n",
              "      <td>0.0</td>\n",
              "      <td>0.0</td>\n",
              "      <td>-7.357192e+05</td>\n",
              "    </tr>\n",
              "    <tr>\n",
              "      <th>4</th>\n",
              "      <td>2020-01-26</td>\n",
              "      <td>-8.889254e+05</td>\n",
              "      <td>-7.430444e+06</td>\n",
              "      <td>4.964334e+06</td>\n",
              "      <td>-8.889254e+05</td>\n",
              "      <td>-8.889254e+05</td>\n",
              "      <td>155907.653091</td>\n",
              "      <td>155907.653091</td>\n",
              "      <td>155907.653091</td>\n",
              "      <td>155907.653091</td>\n",
              "      <td>155907.653091</td>\n",
              "      <td>155907.653091</td>\n",
              "      <td>0.0</td>\n",
              "      <td>0.0</td>\n",
              "      <td>0.0</td>\n",
              "      <td>-7.330178e+05</td>\n",
              "    </tr>\n",
              "    <tr>\n",
              "      <th>...</th>\n",
              "      <td>...</td>\n",
              "      <td>...</td>\n",
              "      <td>...</td>\n",
              "      <td>...</td>\n",
              "      <td>...</td>\n",
              "      <td>...</td>\n",
              "      <td>...</td>\n",
              "      <td>...</td>\n",
              "      <td>...</td>\n",
              "      <td>...</td>\n",
              "      <td>...</td>\n",
              "      <td>...</td>\n",
              "      <td>...</td>\n",
              "      <td>...</td>\n",
              "      <td>...</td>\n",
              "      <td>...</td>\n",
              "    </tr>\n",
              "    <tr>\n",
              "      <th>384</th>\n",
              "      <td>2021-02-09</td>\n",
              "      <td>1.033952e+08</td>\n",
              "      <td>9.766578e+07</td>\n",
              "      <td>1.098217e+08</td>\n",
              "      <td>1.019885e+08</td>\n",
              "      <td>1.045319e+08</td>\n",
              "      <td>134000.832348</td>\n",
              "      <td>134000.832348</td>\n",
              "      <td>134000.832348</td>\n",
              "      <td>134000.832348</td>\n",
              "      <td>134000.832348</td>\n",
              "      <td>134000.832348</td>\n",
              "      <td>0.0</td>\n",
              "      <td>0.0</td>\n",
              "      <td>0.0</td>\n",
              "      <td>1.035292e+08</td>\n",
              "    </tr>\n",
              "    <tr>\n",
              "      <th>385</th>\n",
              "      <td>2021-02-10</td>\n",
              "      <td>1.039550e+08</td>\n",
              "      <td>9.799759e+07</td>\n",
              "      <td>1.109013e+08</td>\n",
              "      <td>1.024798e+08</td>\n",
              "      <td>1.051463e+08</td>\n",
              "      <td>184996.345490</td>\n",
              "      <td>184996.345490</td>\n",
              "      <td>184996.345490</td>\n",
              "      <td>184996.345490</td>\n",
              "      <td>184996.345490</td>\n",
              "      <td>184996.345490</td>\n",
              "      <td>0.0</td>\n",
              "      <td>0.0</td>\n",
              "      <td>0.0</td>\n",
              "      <td>1.041400e+08</td>\n",
              "    </tr>\n",
              "    <tr>\n",
              "      <th>386</th>\n",
              "      <td>2021-02-11</td>\n",
              "      <td>1.045148e+08</td>\n",
              "      <td>9.670560e+07</td>\n",
              "      <td>1.097361e+08</td>\n",
              "      <td>1.029653e+08</td>\n",
              "      <td>1.057926e+08</td>\n",
              "      <td>-972605.153469</td>\n",
              "      <td>-972605.153469</td>\n",
              "      <td>-972605.153469</td>\n",
              "      <td>-972605.153469</td>\n",
              "      <td>-972605.153469</td>\n",
              "      <td>-972605.153469</td>\n",
              "      <td>0.0</td>\n",
              "      <td>0.0</td>\n",
              "      <td>0.0</td>\n",
              "      <td>1.035422e+08</td>\n",
              "    </tr>\n",
              "    <tr>\n",
              "      <th>387</th>\n",
              "      <td>2021-02-12</td>\n",
              "      <td>1.050746e+08</td>\n",
              "      <td>9.931382e+07</td>\n",
              "      <td>1.114781e+08</td>\n",
              "      <td>1.034926e+08</td>\n",
              "      <td>1.064279e+08</td>\n",
              "      <td>183485.202096</td>\n",
              "      <td>183485.202096</td>\n",
              "      <td>183485.202096</td>\n",
              "      <td>183485.202096</td>\n",
              "      <td>183485.202096</td>\n",
              "      <td>183485.202096</td>\n",
              "      <td>0.0</td>\n",
              "      <td>0.0</td>\n",
              "      <td>0.0</td>\n",
              "      <td>1.052581e+08</td>\n",
              "    </tr>\n",
              "    <tr>\n",
              "      <th>388</th>\n",
              "      <td>2021-02-13</td>\n",
              "      <td>1.056344e+08</td>\n",
              "      <td>9.954177e+07</td>\n",
              "      <td>1.126753e+08</td>\n",
              "      <td>1.039524e+08</td>\n",
              "      <td>1.070392e+08</td>\n",
              "      <td>187104.686943</td>\n",
              "      <td>187104.686943</td>\n",
              "      <td>187104.686943</td>\n",
              "      <td>187104.686943</td>\n",
              "      <td>187104.686943</td>\n",
              "      <td>187104.686943</td>\n",
              "      <td>0.0</td>\n",
              "      <td>0.0</td>\n",
              "      <td>0.0</td>\n",
              "      <td>1.058215e+08</td>\n",
              "    </tr>\n",
              "  </tbody>\n",
              "</table>\n",
              "<p>389 rows × 16 columns</p>\n",
              "</div>\n",
              "      <button class=\"colab-df-convert\" onclick=\"convertToInteractive('df-7b90a5e4-69f2-474d-a3c1-edf88c052aea')\"\n",
              "              title=\"Convert this dataframe to an interactive table.\"\n",
              "              style=\"display:none;\">\n",
              "        \n",
              "  <svg xmlns=\"http://www.w3.org/2000/svg\" height=\"24px\"viewBox=\"0 0 24 24\"\n",
              "       width=\"24px\">\n",
              "    <path d=\"M0 0h24v24H0V0z\" fill=\"none\"/>\n",
              "    <path d=\"M18.56 5.44l.94 2.06.94-2.06 2.06-.94-2.06-.94-.94-2.06-.94 2.06-2.06.94zm-11 1L8.5 8.5l.94-2.06 2.06-.94-2.06-.94L8.5 2.5l-.94 2.06-2.06.94zm10 10l.94 2.06.94-2.06 2.06-.94-2.06-.94-.94-2.06-.94 2.06-2.06.94z\"/><path d=\"M17.41 7.96l-1.37-1.37c-.4-.4-.92-.59-1.43-.59-.52 0-1.04.2-1.43.59L10.3 9.45l-7.72 7.72c-.78.78-.78 2.05 0 2.83L4 21.41c.39.39.9.59 1.41.59.51 0 1.02-.2 1.41-.59l7.78-7.78 2.81-2.81c.8-.78.8-2.07 0-2.86zM5.41 20L4 18.59l7.72-7.72 1.47 1.35L5.41 20z\"/>\n",
              "  </svg>\n",
              "      </button>\n",
              "      \n",
              "  <style>\n",
              "    .colab-df-container {\n",
              "      display:flex;\n",
              "      flex-wrap:wrap;\n",
              "      gap: 12px;\n",
              "    }\n",
              "\n",
              "    .colab-df-convert {\n",
              "      background-color: #E8F0FE;\n",
              "      border: none;\n",
              "      border-radius: 50%;\n",
              "      cursor: pointer;\n",
              "      display: none;\n",
              "      fill: #1967D2;\n",
              "      height: 32px;\n",
              "      padding: 0 0 0 0;\n",
              "      width: 32px;\n",
              "    }\n",
              "\n",
              "    .colab-df-convert:hover {\n",
              "      background-color: #E2EBFA;\n",
              "      box-shadow: 0px 1px 2px rgba(60, 64, 67, 0.3), 0px 1px 3px 1px rgba(60, 64, 67, 0.15);\n",
              "      fill: #174EA6;\n",
              "    }\n",
              "\n",
              "    [theme=dark] .colab-df-convert {\n",
              "      background-color: #3B4455;\n",
              "      fill: #D2E3FC;\n",
              "    }\n",
              "\n",
              "    [theme=dark] .colab-df-convert:hover {\n",
              "      background-color: #434B5C;\n",
              "      box-shadow: 0px 1px 3px 1px rgba(0, 0, 0, 0.15);\n",
              "      filter: drop-shadow(0px 1px 2px rgba(0, 0, 0, 0.3));\n",
              "      fill: #FFFFFF;\n",
              "    }\n",
              "  </style>\n",
              "\n",
              "      <script>\n",
              "        const buttonEl =\n",
              "          document.querySelector('#df-7b90a5e4-69f2-474d-a3c1-edf88c052aea button.colab-df-convert');\n",
              "        buttonEl.style.display =\n",
              "          google.colab.kernel.accessAllowed ? 'block' : 'none';\n",
              "\n",
              "        async function convertToInteractive(key) {\n",
              "          const element = document.querySelector('#df-7b90a5e4-69f2-474d-a3c1-edf88c052aea');\n",
              "          const dataTable =\n",
              "            await google.colab.kernel.invokeFunction('convertToInteractive',\n",
              "                                                     [key], {});\n",
              "          if (!dataTable) return;\n",
              "\n",
              "          const docLinkHtml = 'Like what you see? Visit the ' +\n",
              "            '<a target=\"_blank\" href=https://colab.research.google.com/notebooks/data_table.ipynb>data table notebook</a>'\n",
              "            + ' to learn more about interactive tables.';\n",
              "          element.innerHTML = '';\n",
              "          dataTable['output_type'] = 'display_data';\n",
              "          await google.colab.output.renderOutput(dataTable, element);\n",
              "          const docLink = document.createElement('div');\n",
              "          docLink.innerHTML = docLinkHtml;\n",
              "          element.appendChild(docLink);\n",
              "        }\n",
              "      </script>\n",
              "    </div>\n",
              "  </div>\n",
              "  "
            ]
          },
          "metadata": {},
          "execution_count": 35
        }
      ]
    },
    {
      "cell_type": "code",
      "source": [
        "model.plot(forecast)"
      ],
      "metadata": {
        "colab": {
          "base_uri": "https://localhost:8080/",
          "height": 865
        },
        "id": "Ep45W6K_ikfc",
        "outputId": "192cb43a-efb7-4425-9738-1b59c82c1175"
      },
      "execution_count": 42,
      "outputs": [
        {
          "output_type": "execute_result",
          "data": {
            "text/plain": [
              "<Figure size 720x432 with 1 Axes>"
            ],
            "image/png": "[encoded data removed]"
          },
          "metadata": {},
          "execution_count": 42
        },
        {
          "output_type": "display_data",
          "data": {
            "text/plain": [
              "<Figure size 720x432 with 1 Axes>"
            ],
            "image/png": "[encoded data removed]"
          },
          "metadata": {}
        }
      ]
    },
    {
      "cell_type": "code",
      "source": [
        "model.plot_components(forecast)"
      ],
      "metadata": {
        "colab": {
          "base_uri": "https://localhost:8080/",
          "height": 865
        },
        "id": "6SmffFjsjJcU",
        "outputId": "682d26ee-548a-4a2c-b35b-2f29aa889dae"
      },
      "execution_count": 39,
      "outputs": [
        {
          "output_type": "execute_result",
          "data": {
            "text/plain": [
              "<Figure size 648x432 with 2 Axes>"
            ],
            "image/png": "[encoded data removed]"
          },
          "metadata": {},
          "execution_count": 39
        },
        {
          "output_type": "display_data",
          "data": {
            "text/plain": [
              "<Figure size 648x432 with 2 Axes>"
            ],
            "image/png": "[encoded data removed]"
          },
          "metadata": {}
        }
      ]
    },
    {
      "cell_type": "code",
      "source": [
        "death.columns=['ds','y']\n",
        "death['ds']=pd.to_datetime(confirmed['ds'])\n",
        "m=Prophet(interval_width=0.95)\n",
        "m.fit(death)\n",
        "future=m.make_future_dataframe(periods=30)\n",
        "forecast=m.predict(future)"
      ],
      "metadata": {
        "colab": {
          "base_uri": "https://localhost:8080/"
        },
        "id": "O5EsHdOdjQoQ",
        "outputId": "3ab7c96f-a669-4efa-f06d-86e44bc65e71"
      },
      "execution_count": 47,
      "outputs": [
        {
          "output_type": "stream",
          "name": "stderr",
          "text": [
            "INFO:fbprophet:Disabling yearly seasonality. Run prophet with yearly_seasonality=True to override this.\n",
            "INFO:fbprophet:Disabling daily seasonality. Run prophet with daily_seasonality=True to override this.\n"
          ]
        }
      ]
    },
    {
      "cell_type": "code",
      "source": [
        "m.plot(forecast)"
      ],
      "metadata": {
        "colab": {
          "base_uri": "https://localhost:8080/",
          "height": 865
        },
        "id": "o1ooK0r-kEpx",
        "outputId": "5d32086f-fbe5-4644-ec7e-b2ec3f79b6d5"
      },
      "execution_count": 49,
      "outputs": [
        {
          "output_type": "execute_result",
          "data": {
            "text/plain": [
              "<Figure size 720x432 with 1 Axes>"
            ],
            "image/png": "[encoded data removed]"
          },
          "metadata": {},
          "execution_count": 49
        },
        {
          "output_type": "display_data",
          "data": {
            "text/plain": [
              "<Figure size 720x432 with 1 Axes>"
            ],
            "image/png": "[encoded data removed]"
          },
          "metadata": {}
        }
      ]
    },
    {
      "cell_type": "code",
      "source": [
        ""
      ],
      "metadata": {
        "id": "Mwap5JkJkW2K"
      },
      "execution_count": null,
      "outputs": []
    }
  ]
}